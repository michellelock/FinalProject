{
 "cells": [
  {
   "cell_type": "markdown",
   "id": "421833d4-d53f-419c-8418-9826823d8277",
   "metadata": {},
   "source": [
    "## Import the Relevant Libraries"
   ]
  },
  {
   "cell_type": "code",
   "execution_count": 1,
   "id": "5b9ff4dc-ef54-48a8-b0d3-29a5c7093658",
   "metadata": {},
   "outputs": [],
   "source": [
    "import os"
   ]
  },
  {
   "cell_type": "code",
   "execution_count": 2,
   "id": "5482f3e4-392c-4800-b8ae-a8cdd2ed31e5",
   "metadata": {},
   "outputs": [],
   "source": [
    "import pydicom"
   ]
  },
  {
   "cell_type": "code",
   "execution_count": 3,
   "id": "0f1d8c60-1100-4eb6-9217-8b3a46e76696",
   "metadata": {},
   "outputs": [],
   "source": [
    "import matplotlib.pyplot as plt"
   ]
  },
  {
   "cell_type": "code",
   "execution_count": 4,
   "id": "8467f987-47e6-40e5-8eef-5fa859be107e",
   "metadata": {},
   "outputs": [],
   "source": [
    "from matplotlib.image import imread"
   ]
  },
  {
   "cell_type": "code",
   "execution_count": 5,
   "id": "c181edf8-0b90-4b7d-8120-866841277d91",
   "metadata": {},
   "outputs": [],
   "source": [
    "from PIL import Image"
   ]
  },
  {
   "cell_type": "code",
   "execution_count": 6,
   "id": "0cadf986-ad63-4d2a-a656-811a4a373b2d",
   "metadata": {},
   "outputs": [],
   "source": [
    "import numpy as np"
   ]
  },
  {
   "cell_type": "code",
   "execution_count": 7,
   "id": "e42b62ac-8715-43b0-85f2-eb6d221394f7",
   "metadata": {},
   "outputs": [],
   "source": [
    "import pandas as pd"
   ]
  },
  {
   "cell_type": "code",
   "execution_count": 75,
   "id": "637d456c-eb15-48f1-8df0-418e60a6234a",
   "metadata": {},
   "outputs": [],
   "source": [
    "import shutil"
   ]
  },
  {
   "cell_type": "markdown",
   "id": "f4b71524-4558-4e12-996f-cfd5a62de79c",
   "metadata": {},
   "source": [
    "## Import and Read the CSV File - All"
   ]
  },
  {
   "cell_type": "code",
   "execution_count": 16,
   "id": "a3a258e1-a39e-4e34-9d3f-7a2ffe38d146",
   "metadata": {},
   "outputs": [],
   "source": [
    "# Metadata of the training images \n",
    "new_meta = pd.read_csv(\"sorted_new_train.csv\")"
   ]
  },
  {
   "cell_type": "code",
   "execution_count": 17,
   "id": "52ced3d0-25d9-458b-b6c3-417ff7d3d134",
   "metadata": {},
   "outputs": [
    {
     "data": {
      "text/html": [
       "<div>\n",
       "<style scoped>\n",
       "    .dataframe tbody tr th:only-of-type {\n",
       "        vertical-align: middle;\n",
       "    }\n",
       "\n",
       "    .dataframe tbody tr th {\n",
       "        vertical-align: top;\n",
       "    }\n",
       "\n",
       "    .dataframe thead th {\n",
       "        text-align: right;\n",
       "    }\n",
       "</style>\n",
       "<table border=\"1\" class=\"dataframe\">\n",
       "  <thead>\n",
       "    <tr style=\"text-align: right;\">\n",
       "      <th></th>\n",
       "      <th>patient_image_id</th>\n",
       "      <th>site_id</th>\n",
       "      <th>laterality</th>\n",
       "      <th>view</th>\n",
       "      <th>age</th>\n",
       "      <th>cancer</th>\n",
       "      <th>biopsy</th>\n",
       "      <th>invasive</th>\n",
       "      <th>BIRADS</th>\n",
       "      <th>implant</th>\n",
       "      <th>density</th>\n",
       "      <th>machine_id</th>\n",
       "      <th>difficult_negative_case</th>\n",
       "    </tr>\n",
       "  </thead>\n",
       "  <tbody>\n",
       "    <tr>\n",
       "      <th>0</th>\n",
       "      <td>10006_1459541791</td>\n",
       "      <td>2</td>\n",
       "      <td>L</td>\n",
       "      <td>MLO</td>\n",
       "      <td>61.0</td>\n",
       "      <td>0</td>\n",
       "      <td>0</td>\n",
       "      <td>0</td>\n",
       "      <td>NaN</td>\n",
       "      <td>0</td>\n",
       "      <td>NaN</td>\n",
       "      <td>29</td>\n",
       "      <td>False</td>\n",
       "    </tr>\n",
       "    <tr>\n",
       "      <th>1</th>\n",
       "      <td>10006_1864590858</td>\n",
       "      <td>2</td>\n",
       "      <td>R</td>\n",
       "      <td>MLO</td>\n",
       "      <td>61.0</td>\n",
       "      <td>0</td>\n",
       "      <td>0</td>\n",
       "      <td>0</td>\n",
       "      <td>NaN</td>\n",
       "      <td>0</td>\n",
       "      <td>NaN</td>\n",
       "      <td>29</td>\n",
       "      <td>False</td>\n",
       "    </tr>\n",
       "  </tbody>\n",
       "</table>\n",
       "</div>"
      ],
      "text/plain": [
       "   patient_image_id  site_id laterality view   age  cancer  biopsy  invasive  \\\n",
       "0  10006_1459541791        2          L  MLO  61.0       0       0         0   \n",
       "1  10006_1864590858        2          R  MLO  61.0       0       0         0   \n",
       "\n",
       "   BIRADS  implant density  machine_id  difficult_negative_case  \n",
       "0     NaN        0     NaN          29                    False  \n",
       "1     NaN        0     NaN          29                    False  "
      ]
     },
     "execution_count": 17,
     "metadata": {},
     "output_type": "execute_result"
    }
   ],
   "source": [
    "# Display the first 2 rows of the metadata\n",
    "new_meta.head(2)"
   ]
  },
  {
   "cell_type": "code",
   "execution_count": 18,
   "id": "7c9a3da9-7fb4-4d22-8de4-d8602544bb8e",
   "metadata": {},
   "outputs": [
    {
     "data": {
      "text/html": [
       "<div>\n",
       "<style scoped>\n",
       "    .dataframe tbody tr th:only-of-type {\n",
       "        vertical-align: middle;\n",
       "    }\n",
       "\n",
       "    .dataframe tbody tr th {\n",
       "        vertical-align: top;\n",
       "    }\n",
       "\n",
       "    .dataframe thead th {\n",
       "        text-align: right;\n",
       "    }\n",
       "</style>\n",
       "<table border=\"1\" class=\"dataframe\">\n",
       "  <thead>\n",
       "    <tr style=\"text-align: right;\">\n",
       "      <th></th>\n",
       "      <th>patient_image_id</th>\n",
       "      <th>site_id</th>\n",
       "      <th>laterality</th>\n",
       "      <th>view</th>\n",
       "      <th>age</th>\n",
       "      <th>cancer</th>\n",
       "      <th>biopsy</th>\n",
       "      <th>invasive</th>\n",
       "      <th>BIRADS</th>\n",
       "      <th>implant</th>\n",
       "      <th>density</th>\n",
       "      <th>machine_id</th>\n",
       "      <th>difficult_negative_case</th>\n",
       "    </tr>\n",
       "  </thead>\n",
       "  <tbody>\n",
       "    <tr>\n",
       "      <th>54704</th>\n",
       "      <td>9989_439796429</td>\n",
       "      <td>1</td>\n",
       "      <td>R</td>\n",
       "      <td>CC</td>\n",
       "      <td>60.0</td>\n",
       "      <td>0</td>\n",
       "      <td>0</td>\n",
       "      <td>0</td>\n",
       "      <td>0.0</td>\n",
       "      <td>0</td>\n",
       "      <td>C</td>\n",
       "      <td>216</td>\n",
       "      <td>True</td>\n",
       "    </tr>\n",
       "    <tr>\n",
       "      <th>54705</th>\n",
       "      <td>9989_63473691</td>\n",
       "      <td>1</td>\n",
       "      <td>L</td>\n",
       "      <td>MLO</td>\n",
       "      <td>60.0</td>\n",
       "      <td>0</td>\n",
       "      <td>0</td>\n",
       "      <td>0</td>\n",
       "      <td>NaN</td>\n",
       "      <td>0</td>\n",
       "      <td>C</td>\n",
       "      <td>216</td>\n",
       "      <td>False</td>\n",
       "    </tr>\n",
       "  </tbody>\n",
       "</table>\n",
       "</div>"
      ],
      "text/plain": [
       "      patient_image_id  site_id laterality view   age  cancer  biopsy  \\\n",
       "54704   9989_439796429        1          R   CC  60.0       0       0   \n",
       "54705    9989_63473691        1          L  MLO  60.0       0       0   \n",
       "\n",
       "       invasive  BIRADS  implant density  machine_id  difficult_negative_case  \n",
       "54704         0     0.0        0       C         216                     True  \n",
       "54705         0     NaN        0       C         216                    False  "
      ]
     },
     "execution_count": 18,
     "metadata": {},
     "output_type": "execute_result"
    }
   ],
   "source": [
    "# Display the lats 2 rows of the metadata\n",
    "new_meta.tail(2)"
   ]
  },
  {
   "cell_type": "code",
   "execution_count": 19,
   "id": "648c6f1b-c2c3-4ab6-9ee8-dd6d3e862dc4",
   "metadata": {},
   "outputs": [
    {
     "data": {
      "text/plain": [
       "13"
      ]
     },
     "execution_count": 19,
     "metadata": {},
     "output_type": "execute_result"
    }
   ],
   "source": [
    "# Display the number of columns of the metadata\n",
    "new_meta.shape[1]"
   ]
  },
  {
   "cell_type": "markdown",
   "id": "ea3f5a54-e229-47a9-ae88-d0053bccbeff",
   "metadata": {},
   "source": [
    "## Import and Read the CSV File - Cancer "
   ]
  },
  {
   "cell_type": "code",
   "execution_count": 20,
   "id": "921fb14f-5eeb-4dcb-86d5-0149c1941ccb",
   "metadata": {},
   "outputs": [],
   "source": [
    "# Metadata of the training images - cancer\n",
    "new_cancer_meta = pd.read_csv(\"sorted_cancer_df.csv\")"
   ]
  },
  {
   "cell_type": "code",
   "execution_count": 22,
   "id": "d72e1c68-709a-4c94-8a2c-ca30eece3568",
   "metadata": {},
   "outputs": [
    {
     "data": {
      "text/html": [
       "<div>\n",
       "<style scoped>\n",
       "    .dataframe tbody tr th:only-of-type {\n",
       "        vertical-align: middle;\n",
       "    }\n",
       "\n",
       "    .dataframe tbody tr th {\n",
       "        vertical-align: top;\n",
       "    }\n",
       "\n",
       "    .dataframe thead th {\n",
       "        text-align: right;\n",
       "    }\n",
       "</style>\n",
       "<table border=\"1\" class=\"dataframe\">\n",
       "  <thead>\n",
       "    <tr style=\"text-align: right;\">\n",
       "      <th></th>\n",
       "      <th>patient_image_id</th>\n",
       "      <th>site_id</th>\n",
       "      <th>laterality</th>\n",
       "      <th>view</th>\n",
       "      <th>age</th>\n",
       "      <th>cancer</th>\n",
       "      <th>biopsy</th>\n",
       "      <th>invasive</th>\n",
       "      <th>BIRADS</th>\n",
       "      <th>implant</th>\n",
       "      <th>density</th>\n",
       "      <th>machine_id</th>\n",
       "      <th>difficult_negative_case</th>\n",
       "    </tr>\n",
       "  </thead>\n",
       "  <tbody>\n",
       "    <tr>\n",
       "      <th>0</th>\n",
       "      <td>10130_1360338805</td>\n",
       "      <td>1</td>\n",
       "      <td>L</td>\n",
       "      <td>CC</td>\n",
       "      <td>71.0</td>\n",
       "      <td>1</td>\n",
       "      <td>1</td>\n",
       "      <td>1</td>\n",
       "      <td>0.0</td>\n",
       "      <td>0</td>\n",
       "      <td>B</td>\n",
       "      <td>49</td>\n",
       "      <td>False</td>\n",
       "    </tr>\n",
       "    <tr>\n",
       "      <th>1</th>\n",
       "      <td>10130_1672636630</td>\n",
       "      <td>1</td>\n",
       "      <td>L</td>\n",
       "      <td>MLO</td>\n",
       "      <td>71.0</td>\n",
       "      <td>1</td>\n",
       "      <td>1</td>\n",
       "      <td>1</td>\n",
       "      <td>0.0</td>\n",
       "      <td>0</td>\n",
       "      <td>B</td>\n",
       "      <td>49</td>\n",
       "      <td>False</td>\n",
       "    </tr>\n",
       "  </tbody>\n",
       "</table>\n",
       "</div>"
      ],
      "text/plain": [
       "   patient_image_id  site_id laterality view   age  cancer  biopsy  invasive  \\\n",
       "0  10130_1360338805        1          L   CC  71.0       1       1         1   \n",
       "1  10130_1672636630        1          L  MLO  71.0       1       1         1   \n",
       "\n",
       "   BIRADS  implant density  machine_id  difficult_negative_case  \n",
       "0     0.0        0       B          49                    False  \n",
       "1     0.0        0       B          49                    False  "
      ]
     },
     "execution_count": 22,
     "metadata": {},
     "output_type": "execute_result"
    }
   ],
   "source": [
    "# Display the first 2 rows of the metadata\n",
    "new_cancer_meta.head(2)"
   ]
  },
  {
   "cell_type": "code",
   "execution_count": 41,
   "id": "02797c8b-90ae-401a-a657-34c982ffd1e8",
   "metadata": {},
   "outputs": [
    {
     "name": "stdout",
     "output_type": "stream",
     "text": [
      "13\n",
      "1158\n"
     ]
    }
   ],
   "source": [
    "# Display the number of columns of the metadata\n",
    "print(new_cancer_meta.shape[1])\n",
    "\n",
    "# Display the length the metadata\n",
    "print(len(new_cancer_meta))"
   ]
  },
  {
   "cell_type": "markdown",
   "id": "2cdd8a38-1b2e-476c-95d6-31d1895d0464",
   "metadata": {},
   "source": [
    "## Import and Read the CSV File - No Cancer "
   ]
  },
  {
   "cell_type": "code",
   "execution_count": 21,
   "id": "9b923d4a-7739-4ed3-a6fd-62bbbcc5f9fb",
   "metadata": {},
   "outputs": [],
   "source": [
    "# Metadata of the training images - no cancer\n",
    "new_no_cancer_meta = pd.read_csv(\"sorted_non_cancer_df.csv\")"
   ]
  },
  {
   "cell_type": "code",
   "execution_count": 24,
   "id": "35121943-ba06-4472-bf9e-0d07d12093ae",
   "metadata": {},
   "outputs": [
    {
     "data": {
      "text/html": [
       "<div>\n",
       "<style scoped>\n",
       "    .dataframe tbody tr th:only-of-type {\n",
       "        vertical-align: middle;\n",
       "    }\n",
       "\n",
       "    .dataframe tbody tr th {\n",
       "        vertical-align: top;\n",
       "    }\n",
       "\n",
       "    .dataframe thead th {\n",
       "        text-align: right;\n",
       "    }\n",
       "</style>\n",
       "<table border=\"1\" class=\"dataframe\">\n",
       "  <thead>\n",
       "    <tr style=\"text-align: right;\">\n",
       "      <th></th>\n",
       "      <th>patient_image_id</th>\n",
       "      <th>site_id</th>\n",
       "      <th>laterality</th>\n",
       "      <th>view</th>\n",
       "      <th>age</th>\n",
       "      <th>cancer</th>\n",
       "      <th>biopsy</th>\n",
       "      <th>invasive</th>\n",
       "      <th>BIRADS</th>\n",
       "      <th>implant</th>\n",
       "      <th>density</th>\n",
       "      <th>machine_id</th>\n",
       "      <th>difficult_negative_case</th>\n",
       "    </tr>\n",
       "  </thead>\n",
       "  <tbody>\n",
       "    <tr>\n",
       "      <th>53546</th>\n",
       "      <td>9989_439796429</td>\n",
       "      <td>1</td>\n",
       "      <td>R</td>\n",
       "      <td>CC</td>\n",
       "      <td>60.0</td>\n",
       "      <td>0</td>\n",
       "      <td>0</td>\n",
       "      <td>0</td>\n",
       "      <td>0.0</td>\n",
       "      <td>0</td>\n",
       "      <td>C</td>\n",
       "      <td>216</td>\n",
       "      <td>True</td>\n",
       "    </tr>\n",
       "    <tr>\n",
       "      <th>53547</th>\n",
       "      <td>9989_63473691</td>\n",
       "      <td>1</td>\n",
       "      <td>L</td>\n",
       "      <td>MLO</td>\n",
       "      <td>60.0</td>\n",
       "      <td>0</td>\n",
       "      <td>0</td>\n",
       "      <td>0</td>\n",
       "      <td>NaN</td>\n",
       "      <td>0</td>\n",
       "      <td>C</td>\n",
       "      <td>216</td>\n",
       "      <td>False</td>\n",
       "    </tr>\n",
       "  </tbody>\n",
       "</table>\n",
       "</div>"
      ],
      "text/plain": [
       "      patient_image_id  site_id laterality view   age  cancer  biopsy  \\\n",
       "53546   9989_439796429        1          R   CC  60.0       0       0   \n",
       "53547    9989_63473691        1          L  MLO  60.0       0       0   \n",
       "\n",
       "       invasive  BIRADS  implant density  machine_id  difficult_negative_case  \n",
       "53546         0     0.0        0       C         216                     True  \n",
       "53547         0     NaN        0       C         216                    False  "
      ]
     },
     "execution_count": 24,
     "metadata": {},
     "output_type": "execute_result"
    }
   ],
   "source": [
    "# Display the lats 2 rows of the metadata\n",
    "new_no_cancer_meta.tail(2)"
   ]
  },
  {
   "cell_type": "code",
   "execution_count": 42,
   "id": "c7c7ae12-58c6-45f6-b8bf-9c8395ce03f4",
   "metadata": {},
   "outputs": [
    {
     "name": "stdout",
     "output_type": "stream",
     "text": [
      "13\n",
      "53548\n"
     ]
    }
   ],
   "source": [
    "# Display the number of columns of the metadata\n",
    "print(new_no_cancer_meta.shape[1])\n",
    "\n",
    "# Display the length the metadata\n",
    "print(len(new_no_cancer_meta))"
   ]
  },
  {
   "cell_type": "code",
   "execution_count": 49,
   "id": "b251d3b7-4495-407a-b9b7-286ae9d3b58c",
   "metadata": {},
   "outputs": [
    {
     "name": "stdout",
     "output_type": "stream",
     "text": [
      "The image quantity difference between the two classes is  97.84 %\n"
     ]
    }
   ],
   "source": [
    "cancer = len(new_cancer_meta)\n",
    "no_cancer = len(new_no_cancer_meta)\n",
    "\n",
    "img_qty_difference = round(((no_cancer - cancer) * 100) / no_cancer, 2)\n",
    "\n",
    "print(\"The image quantity difference between the two classes is  \" + str(img_qty_difference) + \" %\")"
   ]
  },
  {
   "cell_type": "markdown",
   "id": "d8ed25e2-627a-4e56-a86c-cecc8af3e41c",
   "metadata": {},
   "source": [
    "## Random PNG Image and CSV Check for patient_image_id"
   ]
  },
  {
   "cell_type": "code",
   "execution_count": 27,
   "id": "f8fcfdd3-0f2c-49bd-9ba8-bebc616bfc8c",
   "metadata": {},
   "outputs": [],
   "source": [
    "# Folder containing all the patient id’s with their PNG images\n",
    "data_dir = \"RSNA_Mammograms_PNG\""
   ]
  },
  {
   "cell_type": "code",
   "execution_count": 28,
   "id": "9ee498cb-3dea-4cd8-8704-abe1755d4481",
   "metadata": {},
   "outputs": [],
   "source": [
    "# Get a list of all the patient images\n",
    "data_folder = os.listdir(data_dir)"
   ]
  },
  {
   "cell_type": "code",
   "execution_count": 29,
   "id": "764c761f-09d2-49c2-b391-a8d63b0226d7",
   "metadata": {},
   "outputs": [],
   "source": [
    "# Sort the files alphabetically by name\n",
    "sorted_data_folder = sorted(data_folder)"
   ]
  },
  {
   "cell_type": "code",
   "execution_count": 30,
   "id": "b8bdfdd1-c571-4548-aeff-f676c73a0041",
   "metadata": {},
   "outputs": [
    {
     "data": {
      "text/plain": [
       "54706"
      ]
     },
     "execution_count": 30,
     "metadata": {},
     "output_type": "execute_result"
    }
   ],
   "source": [
    "# Ensure that all images are present \n",
    "len(sorted_data_folder)"
   ]
  },
  {
   "cell_type": "markdown",
   "id": "b7719823-5a5a-4007-8019-8ca237eebdb9",
   "metadata": {},
   "source": [
    "###### Random Check 1"
   ]
  },
  {
   "cell_type": "code",
   "execution_count": 31,
   "id": "ae92c8b2-181c-405c-9f4b-d3b04c833699",
   "metadata": {},
   "outputs": [
    {
     "data": {
      "text/plain": [
       "'10006_1459541791.png'"
      ]
     },
     "execution_count": 31,
     "metadata": {},
     "output_type": "execute_result"
    }
   ],
   "source": [
    "# Visualise the image path format\n",
    "sorted_data_folder[0]"
   ]
  },
  {
   "cell_type": "code",
   "execution_count": 32,
   "id": "53098ced-af29-4673-8e4b-6ff695d9b136",
   "metadata": {},
   "outputs": [
    {
     "name": "stdout",
     "output_type": "stream",
     "text": [
      "patient_image_id           10006_1459541791\n",
      "site_id                                   2\n",
      "laterality                                L\n",
      "view                                    MLO\n",
      "age                                    61.0\n",
      "cancer                                    0\n",
      "biopsy                                    0\n",
      "invasive                                  0\n",
      "BIRADS                                  NaN\n",
      "implant                                   0\n",
      "density                                 NaN\n",
      "machine_id                               29\n",
      "difficult_negative_case               False\n",
      "Name: 0, dtype: object\n"
     ]
    }
   ],
   "source": [
    "# Check that patient_image_id correlates \n",
    "print(new_train_meta.iloc[0])"
   ]
  },
  {
   "cell_type": "markdown",
   "id": "884a0989-ca51-46d6-bc7e-907e783292e1",
   "metadata": {},
   "source": [
    "###### Random Check 2"
   ]
  },
  {
   "cell_type": "code",
   "execution_count": 33,
   "id": "649a45c6-bac6-4f63-b30f-30af8b8843c6",
   "metadata": {},
   "outputs": [
    {
     "data": {
      "text/plain": [
       "'10302_2015998330.png'"
      ]
     },
     "execution_count": 33,
     "metadata": {},
     "output_type": "execute_result"
    }
   ],
   "source": [
    "# Visualise the image path format\n",
    "sorted_data_folder[255]"
   ]
  },
  {
   "cell_type": "code",
   "execution_count": 34,
   "id": "b4476f8f-97b1-4a52-a82d-a8867fc08c39",
   "metadata": {},
   "outputs": [
    {
     "name": "stdout",
     "output_type": "stream",
     "text": [
      "patient_image_id           10302_2015998330\n",
      "site_id                                   1\n",
      "laterality                                R\n",
      "view                                     CC\n",
      "age                                    52.0\n",
      "cancer                                    0\n",
      "biopsy                                    0\n",
      "invasive                                  0\n",
      "BIRADS                                  1.0\n",
      "implant                                   0\n",
      "density                                   D\n",
      "machine_id                              216\n",
      "difficult_negative_case               False\n",
      "Name: 255, dtype: object\n"
     ]
    }
   ],
   "source": [
    "# Check that patient_image_id correlates \n",
    "print(new_train_meta.iloc[255])"
   ]
  },
  {
   "cell_type": "markdown",
   "id": "19b42c12-1d76-4236-a17f-d3729e3b7ec3",
   "metadata": {},
   "source": [
    "###### Random Check 3"
   ]
  },
  {
   "cell_type": "code",
   "execution_count": 35,
   "id": "51da237b-ce4e-44e3-a9a9-7688e0f2253e",
   "metadata": {},
   "outputs": [
    {
     "data": {
      "text/plain": [
       "'14687_726125759.png'"
      ]
     },
     "execution_count": 35,
     "metadata": {},
     "output_type": "execute_result"
    }
   ],
   "source": [
    "# Visualise the image path format\n",
    "sorted_data_folder[4321]"
   ]
  },
  {
   "cell_type": "code",
   "execution_count": 36,
   "id": "59bc30c2-fde8-40f1-b99d-18798acd7ba7",
   "metadata": {},
   "outputs": [
    {
     "name": "stdout",
     "output_type": "stream",
     "text": [
      "patient_image_id           14687_726125759\n",
      "site_id                                  2\n",
      "laterality                               L\n",
      "view                                   MLO\n",
      "age                                   55.0\n",
      "cancer                                   0\n",
      "biopsy                                   0\n",
      "invasive                                 0\n",
      "BIRADS                                 NaN\n",
      "implant                                  0\n",
      "density                                NaN\n",
      "machine_id                              21\n",
      "difficult_negative_case              False\n",
      "Name: 4321, dtype: object\n"
     ]
    }
   ],
   "source": [
    "# Check that patient_image_id correlates \n",
    "print(new_train_meta.iloc[4321])"
   ]
  },
  {
   "cell_type": "markdown",
   "id": "27821fd0-48cd-4c30-9117-e42e00450db2",
   "metadata": {},
   "source": [
    "###### Random Check 4"
   ]
  },
  {
   "cell_type": "code",
   "execution_count": 37,
   "id": "1fd56ce4-7b00-4cc2-a7c5-d944c9096c8c",
   "metadata": {},
   "outputs": [
    {
     "data": {
      "text/plain": [
       "'52288_2095246122.png'"
      ]
     },
     "execution_count": 37,
     "metadata": {},
     "output_type": "execute_result"
    }
   ],
   "source": [
    "# Visualise the image path format\n",
    "sorted_data_folder[39201]"
   ]
  },
  {
   "cell_type": "code",
   "execution_count": 38,
   "id": "a0dd62da-7039-4b67-a246-eb74715595d8",
   "metadata": {},
   "outputs": [
    {
     "name": "stdout",
     "output_type": "stream",
     "text": [
      "patient_image_id           52288_2095246122\n",
      "site_id                                   2\n",
      "laterality                                L\n",
      "view                                    MLO\n",
      "age                                    69.0\n",
      "cancer                                    0\n",
      "biopsy                                    0\n",
      "invasive                                  0\n",
      "BIRADS                                  NaN\n",
      "implant                                   0\n",
      "density                                 NaN\n",
      "machine_id                               29\n",
      "difficult_negative_case               False\n",
      "Name: 39201, dtype: object\n"
     ]
    }
   ],
   "source": [
    "# Check that patient_image_id correlates \n",
    "print(new_train_meta.iloc[39201])"
   ]
  },
  {
   "cell_type": "markdown",
   "id": "7e066233-c2f9-494d-b5a1-116db682f70c",
   "metadata": {},
   "source": [
    "## Display a Random Image"
   ]
  },
  {
   "cell_type": "markdown",
   "id": "eb008770-9851-4c07-b1ed-658b255b54db",
   "metadata": {},
   "source": [
    "#### Using imread from matplotlib.image "
   ]
  },
  {
   "cell_type": "code",
   "execution_count": 76,
   "id": "2309b134-36e6-477c-95d1-a6f7326d19b9",
   "metadata": {},
   "outputs": [],
   "source": [
    "# sSpecify the image path\n",
    "img = data_dir + \"/\" + sorted_data_folder[0]"
   ]
  },
  {
   "cell_type": "code",
   "execution_count": 77,
   "id": "d2f8a180-cb93-419b-978d-88915bd020f7",
   "metadata": {},
   "outputs": [],
   "source": [
    "# Open the image in the specified path\n",
    "breast_img = imread(img)"
   ]
  },
  {
   "cell_type": "code",
   "execution_count": 79,
   "id": "d3e17f00-b8a3-402f-b274-6271bc2f6365",
   "metadata": {},
   "outputs": [
    {
     "data": {
      "text/plain": [
       "<matplotlib.image.AxesImage at 0x21cf5d91450>"
      ]
     },
     "execution_count": 79,
     "metadata": {},
     "output_type": "execute_result"
    },
    {
     "data": {
      "image/png": "[encoded data removed]",
      "text/plain": [
       "<Figure size 640x480 with 1 Axes>"
      ]
     },
     "metadata": {},
     "output_type": "display_data"
    }
   ],
   "source": [
    "# Display the image and set the colour\n",
    "plt.imshow(breast_img, cmap = plt.cm.bone)"
   ]
  },
  {
   "cell_type": "code",
   "execution_count": 82,
   "id": "4f4a42a9-47f3-4d3d-b7d1-978959ec667e",
   "metadata": {},
   "outputs": [
    {
     "name": "stdout",
     "output_type": "stream",
     "text": [
      "(512, 512)\n",
      "0.0\n",
      "0.9647059\n"
     ]
    }
   ],
   "source": [
    "# Print info regarding the image \n",
    "print(breast_img.shape)\n",
    "print(breast_img.min())\n",
    "print(breast_img.max())"
   ]
  },
  {
   "cell_type": "markdown",
   "id": "e6da5667-f4bc-4325-8a15-f1426388df9d",
   "metadata": {},
   "source": [
    "#### Using PIL"
   ]
  },
  {
   "cell_type": "code",
   "execution_count": 83,
   "id": "f7b14dfe-3b9d-4bdb-99e0-5e584e4b806e",
   "metadata": {},
   "outputs": [],
   "source": [
    "# Open the image in the specified path\n",
    "image = Image.open(img)"
   ]
  },
  {
   "cell_type": "code",
   "execution_count": 84,
   "id": "01983848-0143-4504-9ded-94a32aaa056b",
   "metadata": {},
   "outputs": [
    {
     "data": {
      "text/plain": [
       "<matplotlib.image.AxesImage at 0x21cf7053370>"
      ]
     },
     "execution_count": 84,
     "metadata": {},
     "output_type": "execute_result"
    },
    {
     "data": {
      "image/png": "[encoded data removed]",
      "text/plain": [
       "<Figure size 640x480 with 1 Axes>"
      ]
     },
     "metadata": {},
     "output_type": "display_data"
    }
   ],
   "source": [
    "# Display the image and set the colour\n",
    "plt.imshow(image, cmap = plt.cm.bone)"
   ]
  },
  {
   "cell_type": "code",
   "execution_count": 85,
   "id": "d20b1155-6f90-4ad8-ba15-33c897cedf53",
   "metadata": {},
   "outputs": [
    {
     "data": {
      "text/plain": [
       "<matplotlib.image.AxesImage at 0x21cf71c7f40>"
      ]
     },
     "execution_count": 85,
     "metadata": {},
     "output_type": "execute_result"
    },
    {
     "data": {
      "image/png": "[encoded data removed]",
      "text/plain": [
       "<Figure size 640x480 with 1 Axes>"
      ]
     },
     "metadata": {},
     "output_type": "display_data"
    }
   ],
   "source": [
    "# Display the image\n",
    "plt.imshow(image)"
   ]
  },
  {
   "cell_type": "code",
   "execution_count": 65,
   "id": "dec14ce0-6eb1-4ad1-8457-75da65a74abe",
   "metadata": {},
   "outputs": [],
   "source": [
    "img_array = np.array(image) / 255.0"
   ]
  },
  {
   "cell_type": "code",
   "execution_count": 66,
   "id": "4391fc1d-5cd6-4c20-9d47-0c5b0334dcf6",
   "metadata": {},
   "outputs": [
    {
     "data": {
      "text/plain": [
       "array([[0.73333333, 0.74901961, 0.76862745, ..., 0.        , 0.        ,\n",
       "        0.        ],\n",
       "       [0.74901961, 0.77647059, 0.73333333, ..., 0.        , 0.        ,\n",
       "        0.        ],\n",
       "       [0.76078431, 0.76078431, 0.80784314, ..., 0.        , 0.        ,\n",
       "        0.        ],\n",
       "       ...,\n",
       "       [0.5372549 , 0.49803922, 0.44313725, ..., 0.        , 0.        ,\n",
       "        0.        ],\n",
       "       [0.52156863, 0.52941176, 0.46666667, ..., 0.        , 0.        ,\n",
       "        0.        ],\n",
       "       [0.48627451, 0.50980392, 0.4627451 , ..., 0.        , 0.        ,\n",
       "        0.        ]])"
      ]
     },
     "execution_count": 66,
     "metadata": {},
     "output_type": "execute_result"
    }
   ],
   "source": [
    "img_array"
   ]
  },
  {
   "cell_type": "code",
   "execution_count": 86,
   "id": "94f2ec58-304a-4644-ad78-4f781f13a362",
   "metadata": {},
   "outputs": [
    {
     "name": "stdout",
     "output_type": "stream",
     "text": [
      "PNG\n",
      "(512, 512)\n",
      "L\n"
     ]
    }
   ],
   "source": [
    "# Verify format\n",
    "print(image.format)\n",
    "\n",
    "# Verify size\n",
    "print(image.size)\n",
    "\n",
    "# Verify greyscale\n",
    "print(image.mode)"
   ]
  },
  {
   "cell_type": "markdown",
   "id": "a3fd4a40-1465-43ea-814b-1da30a122be1",
   "metadata": {},
   "source": [
    "## Compile Cancer and No Cancer PNG Lists"
   ]
  },
  {
   "cell_type": "code",
   "execution_count": 69,
   "id": "9f53c21f-4b68-463f-b676-50deae4324c2",
   "metadata": {},
   "outputs": [],
   "source": [
    "# Create list that will contain the relevant PNG image patient_image_id - cancer\n",
    "cancer_png_id = new_cancer_meta[\"patient_image_id\"].tolist()"
   ]
  },
  {
   "cell_type": "code",
   "execution_count": 70,
   "id": "1993a595-1705-459e-9f17-da44243b25cc",
   "metadata": {},
   "outputs": [],
   "source": [
    "# Create list that will contain the relevant PNG image patient_image_id - no cancer\n",
    "no_cancer_png_id = new_no_cancer_meta[\"patient_image_id\"].tolist()"
   ]
  },
  {
   "cell_type": "code",
   "execution_count": 71,
   "id": "90e67337-fe37-4f46-846f-e3bae9a4a354",
   "metadata": {},
   "outputs": [
    {
     "name": "stdout",
     "output_type": "stream",
     "text": [
      "1158\n",
      "1158\n"
     ]
    }
   ],
   "source": [
    "# Compare sizes - cancer\n",
    "print(len(cancer_png_id))\n",
    "print(len(new_cancer_meta))"
   ]
  },
  {
   "cell_type": "code",
   "execution_count": 72,
   "id": "939f9fba-cf4a-41ae-b0d5-e85cfc703c0f",
   "metadata": {},
   "outputs": [
    {
     "name": "stdout",
     "output_type": "stream",
     "text": [
      "53548\n",
      "53548\n"
     ]
    }
   ],
   "source": [
    "# Compare sizes - no cancer\n",
    "print(len(no_cancer_png_id))\n",
    "print(len(new_no_cancer_meta))"
   ]
  },
  {
   "cell_type": "code",
   "execution_count": 73,
   "id": "c151d462-d57d-4863-8c98-7b928af9a735",
   "metadata": {},
   "outputs": [
    {
     "data": {
      "text/plain": [
       "['10130_1360338805',\n",
       " '10130_1672636630',\n",
       " '10130_388811999',\n",
       " '10130_613462606',\n",
       " '10226_461614796',\n",
       " '10226_530620473',\n",
       " '1025_1803952236',\n",
       " '1025_773597682',\n",
       " '10432_1434858530',\n",
       " '10432_458553546']"
      ]
     },
     "execution_count": 73,
     "metadata": {},
     "output_type": "execute_result"
    }
   ],
   "source": [
    "cancer_png_id[0:10]"
   ]
  },
  {
   "cell_type": "code",
   "execution_count": 74,
   "id": "41cbd3a4-8ce7-46a2-8948-7711880b012e",
   "metadata": {},
   "outputs": [
    {
     "data": {
      "text/plain": [
       "['10042_495770405',\n",
       " '10048_1234933874',\n",
       " '10048_1577142909',\n",
       " '10048_1842203124',\n",
       " '10048_964141995',\n",
       " '10049_1207499426',\n",
       " '10049_1351270472',\n",
       " '10049_1464813991',\n",
       " '10049_349510516',\n",
       " '10049_906829939']"
      ]
     },
     "execution_count": 74,
     "metadata": {},
     "output_type": "execute_result"
    }
   ],
   "source": [
    "no_cancer_png_id[20:30]"
   ]
  },
  {
   "cell_type": "markdown",
   "id": "004af926-cbf9-4594-ae2e-d6b7a59dc806",
   "metadata": {},
   "source": [
    "## 1000 PNG for Each Class"
   ]
  },
  {
   "cell_type": "code",
   "execution_count": 91,
   "id": "b8a34dd2-05c4-43fb-971b-66d454e2c7a0",
   "metadata": {},
   "outputs": [],
   "source": [
    "# Create a list of 1000 png patient_image_id  - cancer\n",
    "cancer_png_id_lim = cancer_png_id[0:1000]"
   ]
  },
  {
   "cell_type": "code",
   "execution_count": 92,
   "id": "51f641b5-3ed3-4564-abed-78c261664c7c",
   "metadata": {},
   "outputs": [],
   "source": [
    "# Create a list of 1000 png patient_image_id - no cancer\n",
    "no_cancer_png_id_lim = no_cancer_png_id[0:1000]"
   ]
  },
  {
   "cell_type": "markdown",
   "id": "efd5d3d6-d75a-47b2-b116-5d26d516f85e",
   "metadata": {},
   "source": [
    "## Copy PNG Images to Class Folders"
   ]
  },
  {
   "cell_type": "code",
   "execution_count": 87,
   "id": "80cb4069-b3a0-48aa-8d73-6238aff51c53",
   "metadata": {},
   "outputs": [],
   "source": [
    "# Define the destination directories\n",
    "data_dir_cancer = \"RSNA_Mammograms_PNG_Clas/Cancer/\"\n",
    "data_dir_no_cancer = \"RSNA_Mammograms_PNG_Clas/No_Cancer/\""
   ]
  },
  {
   "cell_type": "code",
   "execution_count": 106,
   "id": "12346edb-2aaa-48b5-8a78-b217dea6b417",
   "metadata": {},
   "outputs": [],
   "source": [
    "# Iterate through the 54706 png images and the first 1000 cancer and first 1000 no cancer png images gets copied to a specified folder\n",
    "for png in sorted_data_folder:\n",
    "    # Remove the .png from the image path\n",
    "    img = str(png[:-4])\n",
    "\n",
    "    # If the img patient_image_id is in the cancer list\n",
    "    if img in cancer_png_id_lim:\n",
    "        # Define the source png image path\n",
    "        source_img_path = data_dir + \"/\" + png\n",
    "        # Define the destination png image path\n",
    "        destination_img_path = data_dir_cancer + \"/\" + png\n",
    "\n",
    "        # Copy the file to the determined destination\n",
    "        shutil.copy(source_img_path, destination_img_path)\n",
    "\n",
    "    \n",
    "    # If the img patient_image_id is in the no cancer list\n",
    "    if img in no_cancer_png_id_lim:\n",
    "        # Define the source png image path\n",
    "        source_img_path = data_dir + \"/\" + png\n",
    "        # Define the destination png image path\n",
    "        destination_img_path = data_dir_no_cancer + \"/\" + png\n",
    "\n",
    "        # Copy the file to the determined destination\n",
    "        shutil.copy(source_img_path, destination_img_path)"
   ]
  },
  {
   "cell_type": "code",
   "execution_count": 109,
   "id": "12a29c28-e0d7-41de-aefb-26e5f8860af3",
   "metadata": {},
   "outputs": [],
   "source": [
    "# Get a list of all the patient images - cancer\n",
    "data_folder_cancer = os.listdir(data_dir_cancer)"
   ]
  },
  {
   "cell_type": "code",
   "execution_count": 110,
   "id": "72e4e0c8-9bf6-409f-9d97-e4b2c2769aaa",
   "metadata": {},
   "outputs": [],
   "source": [
    "# Get a list of all the patient images - no cancer\n",
    "data_folder_no_cancer = os.listdir(data_dir_no_cancer)"
   ]
  },
  {
   "cell_type": "code",
   "execution_count": 112,
   "id": "aa347885-c779-4b78-bdfb-69b3e1136c8a",
   "metadata": {},
   "outputs": [
    {
     "name": "stdout",
     "output_type": "stream",
     "text": [
      "1000\n",
      "1000\n"
     ]
    }
   ],
   "source": [
    "# Ensure that all images are present \n",
    "print(len(data_folder_cancer))\n",
    "print(len(data_folder_no_cancer))"
   ]
  }
 ],
 "metadata": {
  "kernelspec": {
   "display_name": "Python 3 (ipykernel)",
   "language": "python",
   "name": "python3"
  },
  "language_info": {
   "codemirror_mode": {
    "name": "ipython",
    "version": 3
   },
   "file_extension": ".py",
   "mimetype": "text/x-python",
   "name": "python",
   "nbconvert_exporter": "python",
   "pygments_lexer": "ipython3",
   "version": "3.8.18"
  }
 },
 "nbformat": 4,
 "nbformat_minor": 5
}
