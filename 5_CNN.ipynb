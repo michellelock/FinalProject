{
 "cells": [
  {
   "cell_type": "markdown",
   "id": "0bcb3c53-f357-403d-ab5f-8ad94fa174f2",
   "metadata": {},
   "source": [
    "## Import the Relevant Libraries"
   ]
  },
  {
   "cell_type": "code",
   "execution_count": 1,
   "id": "5c80d206-f6c5-4ffa-baa7-f1e789e72349",
   "metadata": {},
   "outputs": [],
   "source": [
    "import tensorflow as tf"
   ]
  },
  {
   "cell_type": "code",
   "execution_count": 2,
   "id": "71b94899-2d80-4fa0-8cd1-ea370db75795",
   "metadata": {},
   "outputs": [],
   "source": [
    "from tensorflow import keras"
   ]
  },
  {
   "cell_type": "code",
   "execution_count": 3,
   "id": "16eeccde-c1bf-4465-b776-2b257c2128a4",
   "metadata": {},
   "outputs": [],
   "source": [
    "from keras import layers"
   ]
  },
  {
   "cell_type": "code",
   "execution_count": 4,
   "id": "206f71a8-e548-4582-965b-02a0f08fa69a",
   "metadata": {},
   "outputs": [],
   "source": [
    "from keras import models"
   ]
  },
  {
   "cell_type": "code",
   "execution_count": 5,
   "id": "34555531-48c6-4f59-b239-7fc56b954a2d",
   "metadata": {},
   "outputs": [],
   "source": [
    "from keras.preprocessing.image import ImageDataGenerator"
   ]
  },
  {
   "cell_type": "code",
   "execution_count": 6,
   "id": "1a85ba31-dc8e-448a-8be9-21bfcaef9c94",
   "metadata": {},
   "outputs": [],
   "source": [
    "from keras import optimizers"
   ]
  },
  {
   "cell_type": "code",
   "execution_count": 7,
   "id": "2057f733-c6dc-469d-808c-085e1f4130a8",
   "metadata": {},
   "outputs": [],
   "source": [
    "import matplotlib.pyplot as plt"
   ]
  },
  {
   "cell_type": "markdown",
   "id": "d45cb76f-6893-47aa-a593-cdade8e877ba",
   "metadata": {},
   "source": [
    "## Creating the Model"
   ]
  },
  {
   "cell_type": "code",
   "execution_count": 8,
   "id": "b63cde7b-838c-4b4e-b2e6-7d231a64ea1e",
   "metadata": {},
   "outputs": [],
   "source": [
    "model = models.Sequential()"
   ]
  },
  {
   "cell_type": "code",
   "execution_count": 9,
   "id": "9086117a-1f75-453b-a2af-3c0c5722b02d",
   "metadata": {},
   "outputs": [],
   "source": [
    "model.add(layers.Conv2D(32, (3, 3), activation = \"relu\", input_shape = (512, 512, 1)))"
   ]
  },
  {
   "cell_type": "code",
   "execution_count": 10,
   "id": "05e37814-16ef-48b2-b119-502821807a05",
   "metadata": {},
   "outputs": [],
   "source": [
    "model.add(layers.MaxPooling2D((2, 2)))"
   ]
  },
  {
   "cell_type": "code",
   "execution_count": 11,
   "id": "fe61acf5-4761-446c-8a53-93fe4c216036",
   "metadata": {},
   "outputs": [],
   "source": [
    "model.add(layers.Conv2D(64, (3, 3), activation = \"relu\"))"
   ]
  },
  {
   "cell_type": "code",
   "execution_count": 12,
   "id": "8f8a0b20-d02e-4dc8-8e1c-071ec2a968f2",
   "metadata": {},
   "outputs": [],
   "source": [
    "model.add(layers.MaxPooling2D((2, 2)))"
   ]
  },
  {
   "cell_type": "code",
   "execution_count": 13,
   "id": "5f909391-423a-4f91-a5b8-3687598ac9ad",
   "metadata": {},
   "outputs": [],
   "source": [
    "model.add(layers.Conv2D(128, (3, 3), activation = \"relu\"))"
   ]
  },
  {
   "cell_type": "code",
   "execution_count": 14,
   "id": "0a11e57a-2d79-4ba3-a70b-98ff1c9daa41",
   "metadata": {},
   "outputs": [],
   "source": [
    "model.add(layers.MaxPooling2D((2, 2)))"
   ]
  },
  {
   "cell_type": "code",
   "execution_count": 15,
   "id": "39dad5f3-7bad-4ee2-9b2d-515431f5f347",
   "metadata": {},
   "outputs": [],
   "source": [
    "model.add(layers.Conv2D(128, (3, 3), activation = \"relu\"))"
   ]
  },
  {
   "cell_type": "code",
   "execution_count": 16,
   "id": "f004c7a5-86bc-46c7-8b4b-a2b7bd53894a",
   "metadata": {},
   "outputs": [],
   "source": [
    "model.add(layers.MaxPooling2D((2, 2)))"
   ]
  },
  {
   "cell_type": "markdown",
   "id": "4023f6e1-3abc-463e-b7eb-1e24df38a5c9",
   "metadata": {},
   "source": [
    "## Adding a Classifier"
   ]
  },
  {
   "cell_type": "code",
   "execution_count": 17,
   "id": "0933af98-4574-455e-a10e-7dd38b486d91",
   "metadata": {},
   "outputs": [],
   "source": [
    "model.add(layers.Flatten())"
   ]
  },
  {
   "cell_type": "code",
   "execution_count": 18,
   "id": "bdf82a34-1597-4fcd-a14f-5d066237a265",
   "metadata": {},
   "outputs": [],
   "source": [
    "model.add(layers.Dense(512, activation = \"relu\"))"
   ]
  },
  {
   "cell_type": "code",
   "execution_count": 19,
   "id": "118a34d7-3ca2-4187-a6c9-d8ac637c7860",
   "metadata": {},
   "outputs": [],
   "source": [
    "# model.add(layers.Dropout(0.5))"
   ]
  },
  {
   "cell_type": "code",
   "execution_count": 20,
   "id": "1c3b9b80-7503-4401-a461-61290d35b643",
   "metadata": {},
   "outputs": [],
   "source": [
    "model.add(layers.Dense(1, activation = \"sigmoid\"))"
   ]
  },
  {
   "cell_type": "markdown",
   "id": "dd23418e-08fc-4935-a2fa-9dad222b1bb4",
   "metadata": {},
   "source": [
    "## Display the Architecture of the Convnet"
   ]
  },
  {
   "cell_type": "code",
   "execution_count": 21,
   "id": "3795b8d8-e162-4293-804b-1351c6afd3e6",
   "metadata": {},
   "outputs": [
    {
     "name": "stdout",
     "output_type": "stream",
     "text": [
      "Model: \"sequential\"\n",
      "_________________________________________________________________\n",
      " Layer (type)                Output Shape              Param #   \n",
      "=================================================================\n",
      " conv2d (Conv2D)             (None, 510, 510, 32)      320       \n",
      "                                                                 \n",
      " max_pooling2d (MaxPooling2D  (None, 255, 255, 32)     0         \n",
      " )                                                               \n",
      "                                                                 \n",
      " conv2d_1 (Conv2D)           (None, 253, 253, 64)      18496     \n",
      "                                                                 \n",
      " max_pooling2d_1 (MaxPooling  (None, 126, 126, 64)     0         \n",
      " 2D)                                                             \n",
      "                                                                 \n",
      " conv2d_2 (Conv2D)           (None, 124, 124, 128)     73856     \n",
      "                                                                 \n",
      " max_pooling2d_2 (MaxPooling  (None, 62, 62, 128)      0         \n",
      " 2D)                                                             \n",
      "                                                                 \n",
      " conv2d_3 (Conv2D)           (None, 60, 60, 128)       147584    \n",
      "                                                                 \n",
      " max_pooling2d_3 (MaxPooling  (None, 30, 30, 128)      0         \n",
      " 2D)                                                             \n",
      "                                                                 \n",
      " flatten (Flatten)           (None, 115200)            0         \n",
      "                                                                 \n",
      " dense (Dense)               (None, 512)               58982912  \n",
      "                                                                 \n",
      " dense_1 (Dense)             (None, 1)                 513       \n",
      "                                                                 \n",
      "=================================================================\n",
      "Total params: 59,223,681\n",
      "Trainable params: 59,223,681\n",
      "Non-trainable params: 0\n",
      "_________________________________________________________________\n"
     ]
    }
   ],
   "source": [
    "model.summary()"
   ]
  },
  {
   "cell_type": "markdown",
   "id": "2dab100b-4613-423c-b41a-7ff605393131",
   "metadata": {},
   "source": [
    "## Configuring the Model"
   ]
  },
  {
   "cell_type": "code",
   "execution_count": 22,
   "id": "843773c5-c5d0-4688-80af-c0bad5bd2ecf",
   "metadata": {},
   "outputs": [],
   "source": [
    "model.compile(loss = \"binary_crossentropy\", \n",
    "              optimizer = \"RMSprop\", \n",
    "              metrics = [\"accuracy\", tf.keras.metrics.Precision(), tf.keras.metrics.Recall(), tf.keras.metrics.AUC()])"
   ]
  },
  {
   "cell_type": "markdown",
   "id": "4a6cf2d8-7140-44ad-b4ce-59dbac4a1694",
   "metadata": {},
   "source": [
    "## Define Directory Paths"
   ]
  },
  {
   "cell_type": "code",
   "execution_count": 23,
   "id": "18f2d1c0-a322-455a-ac75-2c728a9518a8",
   "metadata": {},
   "outputs": [],
   "source": [
    "train_path = \"RSNA_Mammograms_PNG_Split/train_img/\"\n",
    "validation_path = \"RSNA_Mammograms_PNG_Split/val_img/\"\n",
    "test_path = \"RSNA_Mammograms_PNG_Split/test_img/\""
   ]
  },
  {
   "cell_type": "markdown",
   "id": "53a2f512-5a1b-46c3-a5f3-5338b9fc5cf8",
   "metadata": {},
   "source": [
    "## Using ImageDataGenerator to Read Images from Directories"
   ]
  },
  {
   "cell_type": "code",
   "execution_count": 24,
   "id": "d5461565-777f-428a-9e29-2337f89cb80a",
   "metadata": {},
   "outputs": [],
   "source": [
    "image_gen = ImageDataGenerator(rescale = 1./255)"
   ]
  },
  {
   "cell_type": "markdown",
   "id": "07ad4ed9-8548-462a-97db-f6f199e38944",
   "metadata": {},
   "source": [
    "image_gen = ImageDataGenerator(rotation_range = 10, \n",
    "                               width_shift_range = 0.05, \n",
    "                               height_shift_range = 0.05, \n",
    "                               rescale = 1./255, \n",
    "                               shear_range = 0.05, \n",
    "                               zoom_range = 0.05, \n",
    "                               horizontal_flip = True,\n",
    "                               fill_mode = \"nearest\")"
   ]
  },
  {
   "cell_type": "code",
   "execution_count": 25,
   "id": "18789612-3186-44bb-b996-74a3d51ab4fb",
   "metadata": {},
   "outputs": [
    {
     "name": "stdout",
     "output_type": "stream",
     "text": [
      "Found 1400 images belonging to 2 classes.\n"
     ]
    }
   ],
   "source": [
    "train_generator = image_gen.flow_from_directory(train_path,\n",
    "                                                target_size = (512, 512), \n",
    "                                                color_mode = \"grayscale\",\n",
    "                                                batch_size = 20, \n",
    "                                                class_mode = \"binary\")"
   ]
  },
  {
   "cell_type": "code",
   "execution_count": 26,
   "id": "881b03a8-828c-4729-ae00-b4931a4008a2",
   "metadata": {},
   "outputs": [
    {
     "name": "stdout",
     "output_type": "stream",
     "text": [
      "Found 400 images belonging to 2 classes.\n"
     ]
    }
   ],
   "source": [
    "validation_generator = image_gen.flow_from_directory(validation_path, \n",
    "                                                     target_size = (512, 512),\n",
    "                                                     color_mode = \"grayscale\",\n",
    "                                                     batch_size = 20, \n",
    "                                                     class_mode = \"binary\")"
   ]
  },
  {
   "cell_type": "code",
   "execution_count": 27,
   "id": "9682f466-91ad-40c5-8b44-39f27a607a45",
   "metadata": {},
   "outputs": [
    {
     "data": {
      "text/plain": [
       "{'cancer': 0, 'no_cancer': 1}"
      ]
     },
     "execution_count": 27,
     "metadata": {},
     "output_type": "execute_result"
    }
   ],
   "source": [
    "train_generator.class_indices"
   ]
  },
  {
   "cell_type": "code",
   "execution_count": 28,
   "id": "43905a1d-3bbd-4de9-ad6e-6096cbfb898a",
   "metadata": {},
   "outputs": [
    {
     "name": "stdout",
     "output_type": "stream",
     "text": [
      "data batch shape: (20, 512, 512, 1)\n",
      "labels batch shape: (20,)\n"
     ]
    }
   ],
   "source": [
    "for data_batch, labels_batch in train_generator:\n",
    "    print('data batch shape:', data_batch.shape)\n",
    "    print('labels batch shape:', labels_batch.shape)\n",
    "    break"
   ]
  },
  {
   "cell_type": "markdown",
   "id": "e47eff94-8d6c-4b07-bdd2-9abd3b7e8d45",
   "metadata": {},
   "source": [
    "## Early Stopping"
   ]
  },
  {
   "cell_type": "code",
   "execution_count": null,
   "id": "e4b27177-fde9-46c7-9eab-ea6f743a2b60",
   "metadata": {},
   "outputs": [],
   "source": [
    "# from tensorflow.keras.callbacks import EarlyStopping"
   ]
  },
  {
   "cell_type": "code",
   "execution_count": null,
   "id": "6ecbcef2-0e43-4aa8-8ff3-76819f785133",
   "metadata": {},
   "outputs": [],
   "source": [
    "# early_stop = EarlyStopping(monitor = \"val_loss\", patience = 2)"
   ]
  },
  {
   "cell_type": "code",
   "execution_count": null,
   "id": "04a0288f-5564-4921-8ec1-d2df92070d65",
   "metadata": {},
   "outputs": [],
   "source": []
  },
  {
   "cell_type": "markdown",
   "id": "51df2ab3-2f3b-43e1-bccf-7c0543616d31",
   "metadata": {},
   "source": [
    "## Training the Model"
   ]
  },
  {
   "cell_type": "code",
   "execution_count": null,
   "id": "fa93fd11-5c59-4715-b4b6-1e88fa41bd81",
   "metadata": {},
   "outputs": [],
   "source": [
    "# history = model.fit(train_generator,\n",
    "#                     epochs = 50,\n",
    "#                     steps_per_epoch = 70,\n",
    "#                     batch_size = 20, \n",
    "#                     validation_data = validation_generator,\n",
    "#                     callbacks=[early_stop])"
   ]
  },
  {
   "cell_type": "code",
   "execution_count": 29,
   "id": "f6a49b6b-396d-419f-b4a4-fe0f7fcbe537",
   "metadata": {},
   "outputs": [
    {
     "name": "stdout",
     "output_type": "stream",
     "text": [
      "Epoch 1/30\n",
      "70/70 [==============================] - 172s 2s/step - loss: 0.8488 - accuracy: 0.5079 - precision: 0.5090 - recall: 0.4443 - auc: 0.4983 - val_loss: 0.6911 - val_accuracy: 0.5125 - val_precision: 0.6471 - val_recall: 0.0550 - val_auc: 0.5237\n",
      "Epoch 2/30\n",
      "70/70 [==============================] - 170s 2s/step - loss: 0.6804 - accuracy: 0.5757 - precision: 0.5742 - recall: 0.5857 - auc: 0.6013 - val_loss: 0.6911 - val_accuracy: 0.5000 - val_precision: 0.5000 - val_recall: 0.7350 - val_auc: 0.5342\n",
      "Epoch 3/30\n",
      "70/70 [==============================] - 169s 2s/step - loss: 0.6654 - accuracy: 0.6121 - precision: 0.6034 - recall: 0.6543 - auc: 0.6551 - val_loss: 1.3594 - val_accuracy: 0.5000 - val_precision: 0.5000 - val_recall: 1.0000 - val_auc: 0.4953\n",
      "Epoch 4/30\n",
      "70/70 [==============================] - 168s 2s/step - loss: 0.6274 - accuracy: 0.6350 - precision: 0.6272 - recall: 0.6657 - auc: 0.7016 - val_loss: 0.7066 - val_accuracy: 0.5150 - val_precision: 0.5133 - val_recall: 0.5800 - val_auc: 0.5504\n",
      "Epoch 5/30\n",
      "70/70 [==============================] - 169s 2s/step - loss: 0.5535 - accuracy: 0.6921 - precision: 0.6876 - recall: 0.7043 - auc: 0.7827 - val_loss: 0.7563 - val_accuracy: 0.5375 - val_precision: 0.5397 - val_recall: 0.5100 - val_auc: 0.5692\n",
      "Epoch 6/30\n",
      "70/70 [==============================] - 168s 2s/step - loss: 0.4344 - accuracy: 0.7857 - precision: 0.7717 - recall: 0.8114 - auc: 0.8775 - val_loss: 1.0780 - val_accuracy: 0.5400 - val_precision: 0.5488 - val_recall: 0.4500 - val_auc: 0.5342\n",
      "Epoch 7/30\n",
      "70/70 [==============================] - 169s 2s/step - loss: 0.2862 - accuracy: 0.8707 - precision: 0.8702 - recall: 0.8714 - auc: 0.9493 - val_loss: 1.1041 - val_accuracy: 0.5175 - val_precision: 0.5150 - val_recall: 0.6000 - val_auc: 0.5456\n",
      "Epoch 8/30\n",
      "70/70 [==============================] - 170s 2s/step - loss: 0.1645 - accuracy: 0.9264 - precision: 0.9187 - recall: 0.9357 - auc: 0.9836 - val_loss: 2.0262 - val_accuracy: 0.5150 - val_precision: 0.5174 - val_recall: 0.4450 - val_auc: 0.5349\n",
      "Epoch 9/30\n",
      "70/70 [==============================] - 170s 2s/step - loss: 0.1125 - accuracy: 0.9550 - precision: 0.9531 - recall: 0.9571 - auc: 0.9918 - val_loss: 2.5555 - val_accuracy: 0.5050 - val_precision: 0.5040 - val_recall: 0.6300 - val_auc: 0.5308\n",
      "Epoch 10/30\n",
      "70/70 [==============================] - 169s 2s/step - loss: 0.0716 - accuracy: 0.9729 - precision: 0.9702 - recall: 0.9757 - auc: 0.9958 - val_loss: 3.3612 - val_accuracy: 0.5175 - val_precision: 0.5169 - val_recall: 0.5350 - val_auc: 0.5135\n",
      "Epoch 11/30\n",
      "70/70 [==============================] - 169s 2s/step - loss: 0.0412 - accuracy: 0.9821 - precision: 0.9815 - recall: 0.9829 - auc: 0.9985 - val_loss: 3.4179 - val_accuracy: 0.5150 - val_precision: 0.5172 - val_recall: 0.4500 - val_auc: 0.5120\n",
      "Epoch 12/30\n",
      "70/70 [==============================] - 170s 2s/step - loss: 0.0380 - accuracy: 0.9907 - precision: 0.9914 - recall: 0.9900 - auc: 0.9979 - val_loss: 4.6164 - val_accuracy: 0.5300 - val_precision: 0.5600 - val_recall: 0.2800 - val_auc: 0.5282\n",
      "Epoch 13/30\n",
      "70/70 [==============================] - 169s 2s/step - loss: 0.0511 - accuracy: 0.9921 - precision: 0.9900 - recall: 0.9943 - auc: 0.9975 - val_loss: 3.9719 - val_accuracy: 0.5575 - val_precision: 0.5622 - val_recall: 0.5200 - val_auc: 0.5533\n",
      "Epoch 14/30\n",
      "70/70 [==============================] - 168s 2s/step - loss: 0.0036 - accuracy: 0.9993 - precision: 0.9986 - recall: 1.0000 - auc: 1.0000 - val_loss: 7.2776 - val_accuracy: 0.5100 - val_precision: 0.5119 - val_recall: 0.4300 - val_auc: 0.5212\n",
      "Epoch 15/30\n",
      "70/70 [==============================] - 172s 2s/step - loss: 0.0243 - accuracy: 0.9957 - precision: 0.9971 - recall: 0.9943 - auc: 0.9978 - val_loss: 6.8135 - val_accuracy: 0.5350 - val_precision: 0.5254 - val_recall: 0.7250 - val_auc: 0.5156\n",
      "Epoch 16/30\n",
      "70/70 [==============================] - 170s 2s/step - loss: 0.0402 - accuracy: 0.9921 - precision: 0.9900 - recall: 0.9943 - auc: 0.9977 - val_loss: 5.5478 - val_accuracy: 0.5350 - val_precision: 0.5333 - val_recall: 0.5600 - val_auc: 0.5308\n",
      "Epoch 17/30\n",
      "70/70 [==============================] - 169s 2s/step - loss: 6.3654e-04 - accuracy: 1.0000 - precision: 1.0000 - recall: 1.0000 - auc: 1.0000 - val_loss: 7.7784 - val_accuracy: 0.5000 - val_precision: 0.5000 - val_recall: 0.4800 - val_auc: 0.5177\n",
      "Epoch 18/30\n",
      "70/70 [==============================] - 171s 2s/step - loss: 0.0079 - accuracy: 0.9971 - precision: 0.9957 - recall: 0.9986 - auc: 1.0000 - val_loss: 11.2560 - val_accuracy: 0.5350 - val_precision: 0.5625 - val_recall: 0.3150 - val_auc: 0.5331\n",
      "Epoch 19/30\n",
      "70/70 [==============================] - 170s 2s/step - loss: 0.0031 - accuracy: 0.9986 - precision: 0.9986 - recall: 0.9986 - auc: 1.0000 - val_loss: 8.8111 - val_accuracy: 0.5300 - val_precision: 0.5333 - val_recall: 0.4800 - val_auc: 0.5333\n",
      "Epoch 20/30\n",
      "70/70 [==============================] - 170s 2s/step - loss: 3.1076e-06 - accuracy: 1.0000 - precision: 1.0000 - recall: 1.0000 - auc: 1.0000 - val_loss: 8.4723 - val_accuracy: 0.5350 - val_precision: 0.5368 - val_recall: 0.5100 - val_auc: 0.5439\n",
      "Epoch 21/30\n",
      "70/70 [==============================] - 169s 2s/step - loss: 1.0449e-07 - accuracy: 1.0000 - precision: 1.0000 - recall: 1.0000 - auc: 1.0000 - val_loss: 9.2667 - val_accuracy: 0.5325 - val_precision: 0.5344 - val_recall: 0.5050 - val_auc: 0.5439\n",
      "Epoch 22/30\n",
      "70/70 [==============================] - 169s 2s/step - loss: 9.0880e-09 - accuracy: 1.0000 - precision: 1.0000 - recall: 1.0000 - auc: 1.0000 - val_loss: 10.2155 - val_accuracy: 0.5375 - val_precision: 0.5401 - val_recall: 0.5050 - val_auc: 0.5454\n",
      "Epoch 23/30\n",
      "70/70 [==============================] - 169s 2s/step - loss: 1.6931e-09 - accuracy: 1.0000 - precision: 1.0000 - recall: 1.0000 - auc: 1.0000 - val_loss: 10.7114 - val_accuracy: 0.5400 - val_precision: 0.5430 - val_recall: 0.5050 - val_auc: 0.5420\n",
      "Epoch 24/30\n",
      "70/70 [==============================] - 168s 2s/step - loss: 8.4641e-10 - accuracy: 1.0000 - precision: 1.0000 - recall: 1.0000 - auc: 1.0000 - val_loss: 11.0095 - val_accuracy: 0.5400 - val_precision: 0.5435 - val_recall: 0.5000 - val_auc: 0.5393\n",
      "Epoch 25/30\n",
      "70/70 [==============================] - 170s 2s/step - loss: 6.1507e-10 - accuracy: 1.0000 - precision: 1.0000 - recall: 1.0000 - auc: 1.0000 - val_loss: 11.1605 - val_accuracy: 0.5425 - val_precision: 0.5464 - val_recall: 0.5000 - val_auc: 0.5399\n",
      "Epoch 26/30\n",
      "70/70 [==============================] - 169s 2s/step - loss: 4.7125e-10 - accuracy: 1.0000 - precision: 1.0000 - recall: 1.0000 - auc: 1.0000 - val_loss: 11.2598 - val_accuracy: 0.5450 - val_precision: 0.5495 - val_recall: 0.5000 - val_auc: 0.5398\n",
      "Epoch 27/30\n",
      "70/70 [==============================] - 171s 2s/step - loss: 4.2564e-10 - accuracy: 1.0000 - precision: 1.0000 - recall: 1.0000 - auc: 1.0000 - val_loss: 11.3660 - val_accuracy: 0.5450 - val_precision: 0.5495 - val_recall: 0.5000 - val_auc: 0.5355\n",
      "Epoch 28/30\n",
      "70/70 [==============================] - 169s 2s/step - loss: 3.9108e-10 - accuracy: 1.0000 - precision: 1.0000 - recall: 1.0000 - auc: 1.0000 - val_loss: 11.4429 - val_accuracy: 0.5475 - val_precision: 0.5525 - val_recall: 0.5000 - val_auc: 0.5330\n",
      "Epoch 29/30\n",
      "70/70 [==============================] - 169s 2s/step - loss: 3.7403e-10 - accuracy: 1.0000 - precision: 1.0000 - recall: 1.0000 - auc: 1.0000 - val_loss: 11.5123 - val_accuracy: 0.5475 - val_precision: 0.5525 - val_recall: 0.5000 - val_auc: 0.5360\n",
      "Epoch 30/30\n",
      "70/70 [==============================] - 170s 2s/step - loss: 3.4657e-10 - accuracy: 1.0000 - precision: 1.0000 - recall: 1.0000 - auc: 1.0000 - val_loss: 11.5891 - val_accuracy: 0.5475 - val_precision: 0.5525 - val_recall: 0.5000 - val_auc: 0.5338\n"
     ]
    }
   ],
   "source": [
    "history = model.fit(train_generator,\n",
    "                    epochs = 30,\n",
    "                    steps_per_epoch = 70,\n",
    "                    batch_size = 20, \n",
    "                    validation_data = validation_generator,\n",
    "                    validation_steps = 20)"
   ]
  },
  {
   "cell_type": "code",
   "execution_count": null,
   "id": "0d98beae-6591-4bb8-adad-2836257dbdd1",
   "metadata": {},
   "outputs": [],
   "source": []
  },
  {
   "cell_type": "markdown",
   "id": "6d08ebd4-dfbb-4ffa-94b4-8c05c9dcc7c6",
   "metadata": {},
   "source": [
    "## Evaluating the Model"
   ]
  },
  {
   "cell_type": "code",
   "execution_count": 30,
   "id": "88cf4062-67cb-4b18-a112-d5defa940dbe",
   "metadata": {},
   "outputs": [
    {
     "name": "stdout",
     "output_type": "stream",
     "text": [
      "{'verbose': 1, 'epochs': 30, 'steps': 70}\n"
     ]
    }
   ],
   "source": [
    "print(history.params)"
   ]
  },
  {
   "cell_type": "code",
   "execution_count": 31,
   "id": "44a7f57b-9004-4c02-b806-eca580f3fc6c",
   "metadata": {},
   "outputs": [
    {
     "name": "stdout",
     "output_type": "stream",
     "text": [
      "dict_keys(['loss', 'accuracy', 'precision', 'recall', 'auc', 'val_loss', 'val_accuracy', 'val_precision', 'val_recall', 'val_auc'])\n"
     ]
    }
   ],
   "source": [
    "print(history.history.keys())"
   ]
  },
  {
   "cell_type": "code",
   "execution_count": 35,
   "id": "e8062ffd-6c3b-4044-8671-6a42b58750b7",
   "metadata": {},
   "outputs": [],
   "source": [
    "accuracy = history.history[\"accuracy\"]\n",
    "val_acc = history.history[\"val_accuracy\"]\n",
    "loss = history.history[\"loss\"]\n",
    "val_loss = history.history[\"val_loss\"]\n",
    "precision = history.history[\"precision\"]\n",
    "recall = history.history[\"recall\"]\n",
    "auc = history.history[\"auc\"]"
   ]
  },
  {
   "cell_type": "code",
   "execution_count": null,
   "id": "babae2dc-e774-4d6c-bfb8-62c5f27c1441",
   "metadata": {},
   "outputs": [],
   "source": []
  },
  {
   "cell_type": "code",
   "execution_count": 33,
   "id": "3dd48e02-c2c8-40eb-bba2-e08d55a4094c",
   "metadata": {},
   "outputs": [],
   "source": [
    "epochs = range(1, len(acc) + 1)"
   ]
  },
  {
   "cell_type": "code",
   "execution_count": 45,
   "id": "9aecab02-5176-47f6-b9e8-bfd3c0e78567",
   "metadata": {},
   "outputs": [
    {
     "data": {
      "image/png": "[encoded data removed]",
      "text/plain": [
       "<Figure size 800x400 with 1 Axes>"
      ]
     },
     "metadata": {},
     "output_type": "display_data"
    },
    {
     "data": {
      "image/png": "[encoded data removed]",
      "text/plain": [
       "<Figure size 800x400 with 1 Axes>"
      ]
     },
     "metadata": {},
     "output_type": "display_data"
    }
   ],
   "source": [
    "# Make the plot\n",
    "plt.figure(figsize = (8, 4))\n",
    "\n",
    "# Define the different values\n",
    "plt.plot(epochs, acc, \"bo\", label = \"Training Acc\")\n",
    "plt.plot(epochs, val_acc, \"r\", label = \"Validation Acc\")\n",
    "\n",
    "# Adding title and legend\n",
    "plt.title(\"Training and Validation Accuracy\")\n",
    "plt.legend()\n",
    "\n",
    "# Make the plot\n",
    "plt.figure(figsize = (8, 4))\n",
    "\n",
    "# Define the different values\n",
    "plt.plot(epochs, loss, \"b--\", label = \"Training Loss\")\n",
    "plt.plot(epochs, val_loss, \"r\", label = \"Validation Loss\")\n",
    "\n",
    "# Adding title and legend\n",
    "plt.title(\"Training and Validation Loss\")\n",
    "plt.legend()\n",
    "\n",
    "# Show the plots\n",
    "plt.show()"
   ]
  },
  {
   "cell_type": "code",
   "execution_count": null,
   "id": "e5d4a563-b894-43c0-b559-049ebc0270d5",
   "metadata": {},
   "outputs": [],
   "source": []
  },
  {
   "cell_type": "code",
   "execution_count": 47,
   "id": "466b562d-420e-4b7b-9621-c2fbc43e27ee",
   "metadata": {},
   "outputs": [
    {
     "data": {
      "text/plain": [
       "['loss', 'accuracy', 'precision', 'recall', 'auc']"
      ]
     },
     "execution_count": 47,
     "metadata": {},
     "output_type": "execute_result"
    }
   ],
   "source": [
    "model.metrics_names"
   ]
  },
  {
   "cell_type": "code",
   "execution_count": 49,
   "id": "d0915c9c-6c3f-4909-b896-bf8bc5c05804",
   "metadata": {},
   "outputs": [
    {
     "name": "stdout",
     "output_type": "stream",
     "text": [
      "20/20 [==============================] - 9s 430ms/step - loss: 11.5891 - accuracy: 0.5475 - precision: 0.5525 - recall: 0.5000 - auc: 0.5338\n"
     ]
    },
    {
     "data": {
      "text/plain": [
       "[11.589103698730469,\n",
       " 0.5475000143051147,\n",
       " 0.5524861812591553,\n",
       " 0.5,\n",
       " 0.5337750315666199]"
      ]
     },
     "execution_count": 49,
     "metadata": {},
     "output_type": "execute_result"
    }
   ],
   "source": [
    "model.evaluate(validation_generator)"
   ]
  },
  {
   "cell_type": "code",
   "execution_count": null,
   "id": "86958f8e-b891-4597-87a6-f69e92042167",
   "metadata": {},
   "outputs": [],
   "source": []
  },
  {
   "cell_type": "code",
   "execution_count": 57,
   "id": "6121793a-fc80-4ab4-8f15-6594b298fcbf",
   "metadata": {},
   "outputs": [
    {
     "data": {
      "text/plain": [
       "array([0, 0, 0, 0, 0, 0, 0, 0, 0, 0, 0, 0, 0, 0, 0, 0, 0, 0, 0, 0, 0, 0,\n",
       "       0, 0, 0, 0, 0, 0, 0, 0, 0, 0, 0, 0, 0, 0, 0, 0, 0, 0, 0, 0, 0, 0,\n",
       "       0, 0, 0, 0, 0, 0, 0, 0, 0, 0, 0, 0, 0, 0, 0, 0, 0, 0, 0, 0, 0, 0,\n",
       "       0, 0, 0, 0, 0, 0, 0, 0, 0, 0, 0, 0, 0, 0, 0, 0, 0, 0, 0, 0, 0, 0,\n",
       "       0, 0, 0, 0, 0, 0, 0, 0, 0, 0, 0, 0, 0, 0, 0, 0, 0, 0, 0, 0, 0, 0,\n",
       "       0, 0, 0, 0, 0, 0, 0, 0, 0, 0, 0, 0, 0, 0, 0, 0, 0, 0, 0, 0, 0, 0,\n",
       "       0, 0, 0, 0, 0, 0, 0, 0, 0, 0, 0, 0, 0, 0, 0, 0, 0, 0, 0, 0, 0, 0,\n",
       "       0, 0, 0, 0, 0, 0, 0, 0, 0, 0, 0, 0, 0, 0, 0, 0, 0, 0, 0, 0, 0, 0,\n",
       "       0, 0, 0, 0, 0, 0, 0, 0, 0, 0, 0, 0, 0, 0, 0, 0, 0, 0, 0, 0, 0, 0,\n",
       "       0, 0, 1, 1, 1, 1, 1, 1, 1, 1, 1, 1, 1, 1, 1, 1, 1, 1, 1, 1, 1, 1,\n",
       "       1, 1, 1, 1, 1, 1, 1, 1, 1, 1, 1, 1, 1, 1, 1, 1, 1, 1, 1, 1, 1, 1,\n",
       "       1, 1, 1, 1, 1, 1, 1, 1, 1, 1, 1, 1, 1, 1, 1, 1, 1, 1, 1, 1, 1, 1,\n",
       "       1, 1, 1, 1, 1, 1, 1, 1, 1, 1, 1, 1, 1, 1, 1, 1, 1, 1, 1, 1, 1, 1,\n",
       "       1, 1, 1, 1, 1, 1, 1, 1, 1, 1, 1, 1, 1, 1, 1, 1, 1, 1, 1, 1, 1, 1,\n",
       "       1, 1, 1, 1, 1, 1, 1, 1, 1, 1, 1, 1, 1, 1, 1, 1, 1, 1, 1, 1, 1, 1,\n",
       "       1, 1, 1, 1, 1, 1, 1, 1, 1, 1, 1, 1, 1, 1, 1, 1, 1, 1, 1, 1, 1, 1,\n",
       "       1, 1, 1, 1, 1, 1, 1, 1, 1, 1, 1, 1, 1, 1, 1, 1, 1, 1, 1, 1, 1, 1,\n",
       "       1, 1, 1, 1, 1, 1, 1, 1, 1, 1, 1, 1, 1, 1, 1, 1, 1, 1, 1, 1, 1, 1,\n",
       "       1, 1, 1, 1])"
      ]
     },
     "execution_count": 57,
     "metadata": {},
     "output_type": "execute_result"
    }
   ],
   "source": [
    "validation_generator.classes"
   ]
  },
  {
   "cell_type": "code",
   "execution_count": 60,
   "id": "876c9432-d1be-4290-9976-2c80c979bbb3",
   "metadata": {},
   "outputs": [
    {
     "name": "stdout",
     "output_type": "stream",
     "text": [
      "20/20 [==============================] - 9s 444ms/step\n"
     ]
    }
   ],
   "source": [
    "predictions_probs = model.predict(validation_generator)"
   ]
  },
  {
   "cell_type": "code",
   "execution_count": 61,
   "id": "7cc628d8-9025-47f7-86f2-8c4061c5d032",
   "metadata": {},
   "outputs": [
    {
     "data": {
      "text/plain": [
       "array([[2.86945514e-03],\n",
       "       [1.00000000e+00],\n",
       "       [9.89512920e-01],\n",
       "       [1.00000000e+00],\n",
       "       [9.99999702e-01],\n",
       "       [2.56108592e-08],\n",
       "       [2.59746701e-01],\n",
       "       [8.26946170e-27],\n",
       "       [4.18595881e-23],\n",
       "       [9.95869756e-01],\n",
       "       [4.93269227e-02],\n",
       "       [3.09983811e-33],\n",
       "       [1.52608759e-10],\n",
       "       [0.00000000e+00],\n",
       "       [9.99739945e-01],\n",
       "       [1.00000000e+00],\n",
       "       [1.00000000e+00],\n",
       "       [9.99479234e-01],\n",
       "       [4.44466956e-02],\n",
       "       [9.99998868e-01],\n",
       "       [9.99999881e-01],\n",
       "       [5.74313206e-23],\n",
       "       [1.00000000e+00],\n",
       "       [8.48931382e-32],\n",
       "       [1.09354301e-06],\n",
       "       [5.44403672e-01],\n",
       "       [1.00000000e+00],\n",
       "       [9.99676526e-01],\n",
       "       [9.70437407e-01],\n",
       "       [5.90034714e-03],\n",
       "       [2.81554585e-05],\n",
       "       [1.00000000e+00],\n",
       "       [7.21127290e-18],\n",
       "       [2.74986567e-09],\n",
       "       [1.41144094e-17],\n",
       "       [2.75792070e-02],\n",
       "       [1.40733692e-12],\n",
       "       [3.84152266e-08],\n",
       "       [1.00000000e+00],\n",
       "       [2.18408972e-01],\n",
       "       [2.59662837e-01],\n",
       "       [5.72071280e-14],\n",
       "       [9.96629298e-01],\n",
       "       [1.28424361e-07],\n",
       "       [6.66354841e-04],\n",
       "       [5.82693610e-03],\n",
       "       [1.65988342e-06],\n",
       "       [3.49782647e-34],\n",
       "       [2.70686551e-17],\n",
       "       [1.05403328e-22],\n",
       "       [6.47314945e-18],\n",
       "       [1.11829525e-14],\n",
       "       [1.02575552e-10],\n",
       "       [4.28590027e-07],\n",
       "       [4.91741375e-05],\n",
       "       [9.99964774e-01],\n",
       "       [5.23981993e-17],\n",
       "       [1.00000000e+00],\n",
       "       [9.98601019e-01],\n",
       "       [9.91866410e-01],\n",
       "       [9.99890029e-01],\n",
       "       [2.17580143e-02],\n",
       "       [3.95671719e-07],\n",
       "       [2.63901796e-20],\n",
       "       [9.99998331e-01],\n",
       "       [3.35770663e-37],\n",
       "       [1.00000000e+00],\n",
       "       [3.72016766e-05],\n",
       "       [7.93339641e-05],\n",
       "       [9.99662757e-01],\n",
       "       [1.06784644e-10],\n",
       "       [4.39117321e-05],\n",
       "       [2.66597522e-06],\n",
       "       [3.93871771e-04],\n",
       "       [4.56872284e-01],\n",
       "       [5.61309124e-11],\n",
       "       [1.44637504e-15],\n",
       "       [3.29969934e-32],\n",
       "       [4.87038290e-36],\n",
       "       [1.37859350e-02],\n",
       "       [2.57656865e-08],\n",
       "       [1.75723528e-26],\n",
       "       [1.00000000e+00],\n",
       "       [7.88887191e-05],\n",
       "       [4.84067812e-07],\n",
       "       [3.88512768e-28],\n",
       "       [9.99974370e-01],\n",
       "       [9.99433100e-01],\n",
       "       [1.74713557e-06],\n",
       "       [1.00000000e+00],\n",
       "       [1.00000000e+00],\n",
       "       [2.54740316e-05],\n",
       "       [9.76271749e-01],\n",
       "       [1.00000000e+00],\n",
       "       [9.93065476e-01],\n",
       "       [4.13035051e-10],\n",
       "       [9.99951720e-01],\n",
       "       [9.94669676e-01],\n",
       "       [9.99860644e-01],\n",
       "       [9.79283333e-01],\n",
       "       [1.00000000e+00],\n",
       "       [1.43502140e-04],\n",
       "       [3.14784019e-16],\n",
       "       [1.00000000e+00],\n",
       "       [1.87919087e-28],\n",
       "       [2.69038611e-12],\n",
       "       [3.98316312e-15],\n",
       "       [1.00000000e+00],\n",
       "       [2.47909784e-01],\n",
       "       [5.32313461e-05],\n",
       "       [1.00000000e+00],\n",
       "       [2.26164520e-01],\n",
       "       [0.00000000e+00],\n",
       "       [2.04020381e-01],\n",
       "       [9.99999940e-01],\n",
       "       [9.99994934e-01],\n",
       "       [9.99953747e-01],\n",
       "       [1.00000000e+00],\n",
       "       [9.99999881e-01],\n",
       "       [2.71192246e-30],\n",
       "       [1.00000000e+00],\n",
       "       [8.81801367e-01],\n",
       "       [1.00000000e+00],\n",
       "       [1.00000000e+00],\n",
       "       [1.14683074e-09],\n",
       "       [1.00000000e+00],\n",
       "       [1.00000000e+00],\n",
       "       [9.56415236e-02],\n",
       "       [1.00000000e+00],\n",
       "       [9.99932468e-01],\n",
       "       [1.00000000e+00],\n",
       "       [9.99999702e-01],\n",
       "       [1.00000000e+00],\n",
       "       [1.16202410e-03],\n",
       "       [1.00000000e+00],\n",
       "       [1.00000000e+00],\n",
       "       [4.63084504e-08],\n",
       "       [1.00000000e+00],\n",
       "       [5.88905632e-01],\n",
       "       [9.57900966e-07],\n",
       "       [4.06862140e-01],\n",
       "       [7.98545003e-01],\n",
       "       [4.06497251e-03],\n",
       "       [1.66172048e-13],\n",
       "       [9.99979317e-01],\n",
       "       [9.99442756e-01],\n",
       "       [9.98096466e-01],\n",
       "       [9.99999762e-01],\n",
       "       [5.98886516e-04],\n",
       "       [4.52753713e-14],\n",
       "       [9.99995351e-01],\n",
       "       [1.06099050e-03],\n",
       "       [9.99999881e-01],\n",
       "       [9.98328030e-01],\n",
       "       [1.00000000e+00],\n",
       "       [7.73720350e-21],\n",
       "       [1.00000000e+00],\n",
       "       [2.63714814e-11],\n",
       "       [9.99888062e-01],\n",
       "       [1.00000000e+00],\n",
       "       [6.31998003e-01],\n",
       "       [1.06363929e-09],\n",
       "       [7.30494936e-15],\n",
       "       [7.77964422e-04],\n",
       "       [9.96873617e-01],\n",
       "       [1.67762180e-20],\n",
       "       [1.00000000e+00],\n",
       "       [1.00000000e+00],\n",
       "       [1.11588670e-05],\n",
       "       [3.01392924e-04],\n",
       "       [9.99002099e-01],\n",
       "       [6.27866387e-01],\n",
       "       [1.76104704e-11],\n",
       "       [3.18191315e-14],\n",
       "       [1.00000000e+00],\n",
       "       [1.00000000e+00],\n",
       "       [6.74587839e-15],\n",
       "       [1.00000000e+00],\n",
       "       [1.49819045e-03],\n",
       "       [2.11036718e-06],\n",
       "       [1.00000000e+00],\n",
       "       [1.00000000e+00],\n",
       "       [9.90241051e-01],\n",
       "       [9.99823511e-01],\n",
       "       [2.08800673e-01],\n",
       "       [1.00000000e+00],\n",
       "       [9.23168898e-01],\n",
       "       [9.99695897e-01],\n",
       "       [7.32345060e-02],\n",
       "       [1.53285051e-02],\n",
       "       [2.88321520e-04],\n",
       "       [1.44418489e-17],\n",
       "       [4.00489254e-36],\n",
       "       [1.55779981e-05],\n",
       "       [1.62024216e-09],\n",
       "       [1.07209439e-06],\n",
       "       [9.99993503e-01],\n",
       "       [2.77353078e-14],\n",
       "       [5.13455728e-12],\n",
       "       [2.33071077e-07],\n",
       "       [1.00000000e+00],\n",
       "       [6.39388512e-04],\n",
       "       [0.00000000e+00],\n",
       "       [6.08198843e-06],\n",
       "       [1.00000000e+00],\n",
       "       [2.63864658e-05],\n",
       "       [1.00000000e+00],\n",
       "       [8.00116599e-01],\n",
       "       [9.98765469e-01],\n",
       "       [9.97758269e-01],\n",
       "       [1.00000000e+00],\n",
       "       [9.99951720e-01],\n",
       "       [1.00000000e+00],\n",
       "       [8.77067308e-11],\n",
       "       [1.86192221e-04],\n",
       "       [1.00000000e+00],\n",
       "       [1.00000000e+00],\n",
       "       [2.94289304e-08],\n",
       "       [1.00000000e+00],\n",
       "       [1.00000000e+00],\n",
       "       [1.00000000e+00],\n",
       "       [7.49331340e-02],\n",
       "       [7.62255536e-03],\n",
       "       [1.22104773e-18],\n",
       "       [3.18969295e-09],\n",
       "       [4.96219345e-24],\n",
       "       [4.53230450e-06],\n",
       "       [5.11206459e-11],\n",
       "       [2.97245293e-27],\n",
       "       [4.75489315e-10],\n",
       "       [9.99998927e-01],\n",
       "       [1.42285615e-20],\n",
       "       [8.57526940e-14],\n",
       "       [2.09824253e-23],\n",
       "       [1.48701167e-03],\n",
       "       [2.96881931e-13],\n",
       "       [5.71672657e-12],\n",
       "       [2.31472442e-15],\n",
       "       [1.00000000e+00],\n",
       "       [4.05197273e-12],\n",
       "       [1.85574322e-07],\n",
       "       [0.00000000e+00],\n",
       "       [8.49993899e-03],\n",
       "       [4.77319323e-02],\n",
       "       [1.13380423e-10],\n",
       "       [9.17323589e-01],\n",
       "       [1.00000000e+00],\n",
       "       [9.99893188e-01],\n",
       "       [2.01762501e-27],\n",
       "       [1.11337725e-17],\n",
       "       [1.00000000e+00],\n",
       "       [2.32826314e-09],\n",
       "       [9.60240598e-09],\n",
       "       [9.99797761e-01],\n",
       "       [9.99978542e-01],\n",
       "       [1.21628519e-14],\n",
       "       [9.99959767e-01],\n",
       "       [1.14750778e-11],\n",
       "       [1.05910152e-02],\n",
       "       [1.22394133e-02],\n",
       "       [2.83616409e-05],\n",
       "       [9.89114959e-03],\n",
       "       [1.00000000e+00],\n",
       "       [8.36346007e-04],\n",
       "       [1.52513646e-02],\n",
       "       [2.12925503e-29],\n",
       "       [1.88590477e-10],\n",
       "       [9.99995291e-01],\n",
       "       [1.00000000e+00],\n",
       "       [2.89474062e-25],\n",
       "       [1.00000000e+00],\n",
       "       [1.58808674e-19],\n",
       "       [9.99962330e-01],\n",
       "       [1.00000000e+00],\n",
       "       [9.99477088e-01],\n",
       "       [6.63278392e-04],\n",
       "       [1.00000000e+00],\n",
       "       [9.99999046e-01],\n",
       "       [9.28987390e-07],\n",
       "       [1.00000000e+00],\n",
       "       [9.76361752e-01],\n",
       "       [2.69538731e-07],\n",
       "       [1.56229995e-02],\n",
       "       [9.92217541e-01],\n",
       "       [9.72791493e-01],\n",
       "       [9.37228024e-01],\n",
       "       [4.15325910e-03],\n",
       "       [1.00000000e+00],\n",
       "       [8.67687225e-01],\n",
       "       [5.64494758e-33],\n",
       "       [2.28624435e-06],\n",
       "       [4.79504187e-03],\n",
       "       [9.94896233e-01],\n",
       "       [0.00000000e+00],\n",
       "       [9.99999106e-01],\n",
       "       [9.99999940e-01],\n",
       "       [5.98881111e-10],\n",
       "       [5.76022467e-06],\n",
       "       [9.96327221e-01],\n",
       "       [9.99848008e-01],\n",
       "       [8.89832208e-09],\n",
       "       [3.07360777e-38],\n",
       "       [9.99999762e-01],\n",
       "       [1.26168877e-01],\n",
       "       [1.90431849e-04],\n",
       "       [9.99998808e-01],\n",
       "       [9.70463701e-19],\n",
       "       [4.55188387e-11],\n",
       "       [3.74114073e-09],\n",
       "       [9.99618828e-01],\n",
       "       [1.13109768e-29],\n",
       "       [3.47446101e-19],\n",
       "       [9.99985456e-01],\n",
       "       [1.00000000e+00],\n",
       "       [1.00000000e+00],\n",
       "       [1.00000000e+00],\n",
       "       [8.95341396e-01],\n",
       "       [1.00000000e+00],\n",
       "       [1.00257896e-36],\n",
       "       [2.66117183e-07],\n",
       "       [1.01779120e-31],\n",
       "       [2.66690384e-24],\n",
       "       [1.78267311e-29],\n",
       "       [9.99996722e-01],\n",
       "       [9.99999940e-01],\n",
       "       [1.00000000e+00],\n",
       "       [7.24850011e-08],\n",
       "       [1.00000000e+00],\n",
       "       [1.94910824e-11],\n",
       "       [9.99391854e-01],\n",
       "       [1.52472657e-09],\n",
       "       [9.99832809e-01],\n",
       "       [9.99998033e-01],\n",
       "       [9.99941170e-01],\n",
       "       [1.29112237e-12],\n",
       "       [7.00429048e-09],\n",
       "       [1.32292536e-24],\n",
       "       [9.97926891e-01],\n",
       "       [4.42238157e-09],\n",
       "       [9.99988079e-01],\n",
       "       [1.03744187e-05],\n",
       "       [2.55609614e-21],\n",
       "       [5.76517761e-01],\n",
       "       [1.00000000e+00],\n",
       "       [1.00000000e+00],\n",
       "       [3.59016524e-15],\n",
       "       [1.33930229e-07],\n",
       "       [9.84985590e-01],\n",
       "       [3.32365990e-01],\n",
       "       [1.75351188e-19],\n",
       "       [9.99903977e-01],\n",
       "       [1.00000000e+00],\n",
       "       [9.37773824e-01],\n",
       "       [1.48867184e-15],\n",
       "       [5.61279467e-10],\n",
       "       [6.76432252e-01],\n",
       "       [1.25794330e-07],\n",
       "       [0.00000000e+00],\n",
       "       [3.52022401e-03],\n",
       "       [6.82818300e-30],\n",
       "       [2.19598529e-03],\n",
       "       [3.18214240e-11],\n",
       "       [9.99999940e-01],\n",
       "       [6.04612697e-18],\n",
       "       [8.91488106e-10],\n",
       "       [1.26684448e-02],\n",
       "       [9.99998271e-01],\n",
       "       [2.49191112e-06],\n",
       "       [9.99997020e-01],\n",
       "       [2.87846254e-27],\n",
       "       [0.00000000e+00],\n",
       "       [5.90672530e-13],\n",
       "       [4.44837611e-10],\n",
       "       [1.38056429e-08],\n",
       "       [5.88843210e-14],\n",
       "       [1.57106339e-28],\n",
       "       [9.99995589e-01],\n",
       "       [9.60314989e-01],\n",
       "       [9.62762654e-01],\n",
       "       [8.91136765e-01],\n",
       "       [9.99999285e-01],\n",
       "       [1.00000000e+00],\n",
       "       [1.14556309e-02],\n",
       "       [1.00000000e+00],\n",
       "       [1.00000000e+00],\n",
       "       [2.19930315e-35],\n",
       "       [1.00000000e+00],\n",
       "       [9.99999881e-01],\n",
       "       [1.00000000e+00],\n",
       "       [2.97597154e-07],\n",
       "       [5.56113664e-03],\n",
       "       [2.34983559e-03],\n",
       "       [1.00000000e+00],\n",
       "       [1.00000000e+00],\n",
       "       [1.00000000e+00],\n",
       "       [8.81746752e-23],\n",
       "       [2.68060062e-03],\n",
       "       [4.69358151e-15],\n",
       "       [1.00000000e+00],\n",
       "       [8.03082667e-09]], dtype=float32)"
      ]
     },
     "execution_count": 61,
     "metadata": {},
     "output_type": "execute_result"
    }
   ],
   "source": [
    "predictions_probs"
   ]
  },
  {
   "cell_type": "code",
   "execution_count": 108,
   "id": "9c56436b-b64b-4fa4-af6b-3821f448a768",
   "metadata": {},
   "outputs": [],
   "source": [
    "predictions = predictions_probs > 0.5"
   ]
  },
  {
   "cell_type": "code",
   "execution_count": 109,
   "id": "b87b0516-3d67-49a8-a857-8b40a57aa094",
   "metadata": {},
   "outputs": [
    {
     "data": {
      "text/plain": [
       "array([[False],\n",
       "       [ True],\n",
       "       [ True],\n",
       "       [ True],\n",
       "       [ True],\n",
       "       [False],\n",
       "       [False],\n",
       "       [False],\n",
       "       [False],\n",
       "       [ True],\n",
       "       [False],\n",
       "       [False],\n",
       "       [False],\n",
       "       [False],\n",
       "       [ True],\n",
       "       [ True],\n",
       "       [ True],\n",
       "       [ True],\n",
       "       [False],\n",
       "       [ True],\n",
       "       [ True],\n",
       "       [False],\n",
       "       [ True],\n",
       "       [False],\n",
       "       [False],\n",
       "       [ True],\n",
       "       [ True],\n",
       "       [ True],\n",
       "       [ True],\n",
       "       [False],\n",
       "       [False],\n",
       "       [ True],\n",
       "       [False],\n",
       "       [False],\n",
       "       [False],\n",
       "       [False],\n",
       "       [False],\n",
       "       [False],\n",
       "       [ True],\n",
       "       [False],\n",
       "       [False],\n",
       "       [False],\n",
       "       [ True],\n",
       "       [False],\n",
       "       [False],\n",
       "       [False],\n",
       "       [False],\n",
       "       [False],\n",
       "       [False],\n",
       "       [False],\n",
       "       [False],\n",
       "       [False],\n",
       "       [False],\n",
       "       [False],\n",
       "       [False],\n",
       "       [ True],\n",
       "       [False],\n",
       "       [ True],\n",
       "       [ True],\n",
       "       [ True],\n",
       "       [ True],\n",
       "       [False],\n",
       "       [False],\n",
       "       [False],\n",
       "       [ True],\n",
       "       [False],\n",
       "       [ True],\n",
       "       [False],\n",
       "       [False],\n",
       "       [ True],\n",
       "       [False],\n",
       "       [False],\n",
       "       [False],\n",
       "       [False],\n",
       "       [False],\n",
       "       [False],\n",
       "       [False],\n",
       "       [False],\n",
       "       [False],\n",
       "       [False],\n",
       "       [False],\n",
       "       [False],\n",
       "       [ True],\n",
       "       [False],\n",
       "       [False],\n",
       "       [False],\n",
       "       [ True],\n",
       "       [ True],\n",
       "       [False],\n",
       "       [ True],\n",
       "       [ True],\n",
       "       [False],\n",
       "       [ True],\n",
       "       [ True],\n",
       "       [ True],\n",
       "       [False],\n",
       "       [ True],\n",
       "       [ True],\n",
       "       [ True],\n",
       "       [ True],\n",
       "       [ True],\n",
       "       [False],\n",
       "       [False],\n",
       "       [ True],\n",
       "       [False],\n",
       "       [False],\n",
       "       [False],\n",
       "       [ True],\n",
       "       [False],\n",
       "       [False],\n",
       "       [ True],\n",
       "       [False],\n",
       "       [False],\n",
       "       [False],\n",
       "       [ True],\n",
       "       [ True],\n",
       "       [ True],\n",
       "       [ True],\n",
       "       [ True],\n",
       "       [False],\n",
       "       [ True],\n",
       "       [ True],\n",
       "       [ True],\n",
       "       [ True],\n",
       "       [False],\n",
       "       [ True],\n",
       "       [ True],\n",
       "       [False],\n",
       "       [ True],\n",
       "       [ True],\n",
       "       [ True],\n",
       "       [ True],\n",
       "       [ True],\n",
       "       [False],\n",
       "       [ True],\n",
       "       [ True],\n",
       "       [False],\n",
       "       [ True],\n",
       "       [ True],\n",
       "       [False],\n",
       "       [False],\n",
       "       [ True],\n",
       "       [False],\n",
       "       [False],\n",
       "       [ True],\n",
       "       [ True],\n",
       "       [ True],\n",
       "       [ True],\n",
       "       [False],\n",
       "       [False],\n",
       "       [ True],\n",
       "       [False],\n",
       "       [ True],\n",
       "       [ True],\n",
       "       [ True],\n",
       "       [False],\n",
       "       [ True],\n",
       "       [False],\n",
       "       [ True],\n",
       "       [ True],\n",
       "       [ True],\n",
       "       [False],\n",
       "       [False],\n",
       "       [False],\n",
       "       [ True],\n",
       "       [False],\n",
       "       [ True],\n",
       "       [ True],\n",
       "       [False],\n",
       "       [False],\n",
       "       [ True],\n",
       "       [ True],\n",
       "       [False],\n",
       "       [False],\n",
       "       [ True],\n",
       "       [ True],\n",
       "       [False],\n",
       "       [ True],\n",
       "       [False],\n",
       "       [False],\n",
       "       [ True],\n",
       "       [ True],\n",
       "       [ True],\n",
       "       [ True],\n",
       "       [False],\n",
       "       [ True],\n",
       "       [ True],\n",
       "       [ True],\n",
       "       [False],\n",
       "       [False],\n",
       "       [False],\n",
       "       [False],\n",
       "       [False],\n",
       "       [False],\n",
       "       [False],\n",
       "       [False],\n",
       "       [ True],\n",
       "       [False],\n",
       "       [False],\n",
       "       [False],\n",
       "       [ True],\n",
       "       [False],\n",
       "       [False],\n",
       "       [False],\n",
       "       [ True],\n",
       "       [False],\n",
       "       [ True],\n",
       "       [ True],\n",
       "       [ True],\n",
       "       [ True],\n",
       "       [ True],\n",
       "       [ True],\n",
       "       [ True],\n",
       "       [False],\n",
       "       [False],\n",
       "       [ True],\n",
       "       [ True],\n",
       "       [False],\n",
       "       [ True],\n",
       "       [ True],\n",
       "       [ True],\n",
       "       [False],\n",
       "       [False],\n",
       "       [False],\n",
       "       [False],\n",
       "       [False],\n",
       "       [False],\n",
       "       [False],\n",
       "       [False],\n",
       "       [False],\n",
       "       [ True],\n",
       "       [False],\n",
       "       [False],\n",
       "       [False],\n",
       "       [False],\n",
       "       [False],\n",
       "       [False],\n",
       "       [False],\n",
       "       [ True],\n",
       "       [False],\n",
       "       [False],\n",
       "       [False],\n",
       "       [False],\n",
       "       [False],\n",
       "       [False],\n",
       "       [ True],\n",
       "       [ True],\n",
       "       [ True],\n",
       "       [False],\n",
       "       [False],\n",
       "       [ True],\n",
       "       [False],\n",
       "       [False],\n",
       "       [ True],\n",
       "       [ True],\n",
       "       [False],\n",
       "       [ True],\n",
       "       [False],\n",
       "       [False],\n",
       "       [False],\n",
       "       [False],\n",
       "       [False],\n",
       "       [ True],\n",
       "       [False],\n",
       "       [False],\n",
       "       [False],\n",
       "       [False],\n",
       "       [ True],\n",
       "       [ True],\n",
       "       [False],\n",
       "       [ True],\n",
       "       [False],\n",
       "       [ True],\n",
       "       [ True],\n",
       "       [ True],\n",
       "       [False],\n",
       "       [ True],\n",
       "       [ True],\n",
       "       [False],\n",
       "       [ True],\n",
       "       [ True],\n",
       "       [False],\n",
       "       [False],\n",
       "       [ True],\n",
       "       [ True],\n",
       "       [ True],\n",
       "       [False],\n",
       "       [ True],\n",
       "       [ True],\n",
       "       [False],\n",
       "       [False],\n",
       "       [False],\n",
       "       [ True],\n",
       "       [False],\n",
       "       [ True],\n",
       "       [ True],\n",
       "       [False],\n",
       "       [False],\n",
       "       [ True],\n",
       "       [ True],\n",
       "       [False],\n",
       "       [False],\n",
       "       [ True],\n",
       "       [False],\n",
       "       [False],\n",
       "       [ True],\n",
       "       [False],\n",
       "       [False],\n",
       "       [False],\n",
       "       [ True],\n",
       "       [False],\n",
       "       [False],\n",
       "       [ True],\n",
       "       [ True],\n",
       "       [ True],\n",
       "       [ True],\n",
       "       [ True],\n",
       "       [ True],\n",
       "       [False],\n",
       "       [False],\n",
       "       [False],\n",
       "       [False],\n",
       "       [False],\n",
       "       [ True],\n",
       "       [ True],\n",
       "       [ True],\n",
       "       [False],\n",
       "       [ True],\n",
       "       [False],\n",
       "       [ True],\n",
       "       [False],\n",
       "       [ True],\n",
       "       [ True],\n",
       "       [ True],\n",
       "       [False],\n",
       "       [False],\n",
       "       [False],\n",
       "       [ True],\n",
       "       [False],\n",
       "       [ True],\n",
       "       [False],\n",
       "       [False],\n",
       "       [ True],\n",
       "       [ True],\n",
       "       [ True],\n",
       "       [False],\n",
       "       [False],\n",
       "       [ True],\n",
       "       [False],\n",
       "       [False],\n",
       "       [ True],\n",
       "       [ True],\n",
       "       [ True],\n",
       "       [False],\n",
       "       [False],\n",
       "       [ True],\n",
       "       [False],\n",
       "       [False],\n",
       "       [False],\n",
       "       [False],\n",
       "       [False],\n",
       "       [False],\n",
       "       [ True],\n",
       "       [False],\n",
       "       [False],\n",
       "       [False],\n",
       "       [ True],\n",
       "       [False],\n",
       "       [ True],\n",
       "       [False],\n",
       "       [False],\n",
       "       [False],\n",
       "       [False],\n",
       "       [False],\n",
       "       [False],\n",
       "       [False],\n",
       "       [ True],\n",
       "       [ True],\n",
       "       [ True],\n",
       "       [ True],\n",
       "       [ True],\n",
       "       [ True],\n",
       "       [False],\n",
       "       [ True],\n",
       "       [ True],\n",
       "       [False],\n",
       "       [ True],\n",
       "       [ True],\n",
       "       [ True],\n",
       "       [False],\n",
       "       [False],\n",
       "       [False],\n",
       "       [ True],\n",
       "       [ True],\n",
       "       [ True],\n",
       "       [False],\n",
       "       [False],\n",
       "       [False],\n",
       "       [ True],\n",
       "       [False]])"
      ]
     },
     "execution_count": 109,
     "metadata": {},
     "output_type": "execute_result"
    }
   ],
   "source": [
    "predictions"
   ]
  },
  {
   "cell_type": "code",
   "execution_count": null,
   "id": "7cd300d9-c44e-43e4-a5d6-d4fdb24aee31",
   "metadata": {},
   "outputs": [],
   "source": []
  },
  {
   "cell_type": "code",
   "execution_count": 110,
   "id": "612ab4c4-b35b-421f-87e7-5f432de1da49",
   "metadata": {},
   "outputs": [],
   "source": [
    "from sklearn.metrics import classification_report, confusion_matrix"
   ]
  },
  {
   "cell_type": "code",
   "execution_count": 111,
   "id": "cd3ac6a3-cde5-4449-af1b-4f28b2b662d0",
   "metadata": {},
   "outputs": [
    {
     "name": "stdout",
     "output_type": "stream",
     "text": [
      "              precision    recall  f1-score   support\n",
      "\n",
      "           0       0.49      0.54      0.52       200\n",
      "           1       0.49      0.45      0.47       200\n",
      "\n",
      "    accuracy                           0.49       400\n",
      "   macro avg       0.49      0.49      0.49       400\n",
      "weighted avg       0.49      0.49      0.49       400\n",
      "\n"
     ]
    }
   ],
   "source": [
    "print(classification_report(validation_generator.classes, predictions))"
   ]
  },
  {
   "cell_type": "code",
   "execution_count": null,
   "id": "658bb52e-97d1-4f8b-bf43-e7939b20f1f0",
   "metadata": {},
   "outputs": [],
   "source": []
  },
  {
   "cell_type": "code",
   "execution_count": 112,
   "id": "f1927848-e137-42d5-99d9-c5e53eb0093c",
   "metadata": {},
   "outputs": [
    {
     "data": {
      "text/plain": [
       "array([[108,  92],\n",
       "       [111,  89]], dtype=int64)"
      ]
     },
     "execution_count": 112,
     "metadata": {},
     "output_type": "execute_result"
    }
   ],
   "source": [
    "confusion_matrix(validation_generator.classes, predictions)"
   ]
  },
  {
   "cell_type": "code",
   "execution_count": null,
   "id": "3c4b6e49-d60f-4f30-b487-7f0273b5eb16",
   "metadata": {},
   "outputs": [],
   "source": []
  },
  {
   "cell_type": "code",
   "execution_count": 86,
   "id": "6fcf09dc-59ae-4058-93cb-9e4271bb2b4f",
   "metadata": {},
   "outputs": [],
   "source": [
    "import seaborn as sns"
   ]
  },
  {
   "cell_type": "code",
   "execution_count": 87,
   "id": "bc02991d-14b9-439e-a2ff-168d4a4292f3",
   "metadata": {},
   "outputs": [],
   "source": [
    "# Get true labels from the validation generator\n",
    "y_true = validation_generator.classes"
   ]
  },
  {
   "cell_type": "code",
   "execution_count": 88,
   "id": "bae46a0e-8eec-493b-b521-00f162af46e0",
   "metadata": {},
   "outputs": [
    {
     "name": "stdout",
     "output_type": "stream",
     "text": [
      "20/20 [==============================] - 9s 435ms/step\n"
     ]
    }
   ],
   "source": [
    "# Get predictions from the model\n",
    "predictions = model.predict(validation_generator)"
   ]
  },
  {
   "cell_type": "code",
   "execution_count": 113,
   "id": "fdc1dcd5-8c29-4b31-b6ed-a22051de44a3",
   "metadata": {},
   "outputs": [],
   "source": [
    "# If predictions are probabilities, convert them to class labels\n",
    "y_pred = predictions_probs.argmax(axis = 1)"
   ]
  },
  {
   "cell_type": "code",
   "execution_count": 114,
   "id": "79e078a4-b87b-45a3-8f51-bb13102171b9",
   "metadata": {},
   "outputs": [],
   "source": [
    "cm = confusion_matrix(y_true, y_pred)"
   ]
  },
  {
   "cell_type": "code",
   "execution_count": 121,
   "id": "6b31536f-85e4-495b-a9a0-41a3ffa2e82f",
   "metadata": {},
   "outputs": [
    {
     "data": {
      "image/png": "[encoded data removed]",
      "text/plain": [
       "<Figure size 600x400 with 2 Axes>"
      ]
     },
     "metadata": {},
     "output_type": "display_data"
    }
   ],
   "source": [
    "# Make the plot\n",
    "plt.figure(figsize = (6, 4))\n",
    "\n",
    "# Create the heatmap\n",
    "sns.heatmap(cm, \n",
    "            annot = True, \n",
    "            fmt = \"d\",\n",
    "            cmap = \"GnBu\",\n",
    "            xticklabels = validation_generator.class_indices.keys(),\n",
    "            yticklabels = validation_generator.class_indices.keys())\n",
    "\n",
    "# Adding labels and title\n",
    "plt.xlabel(\"Predicted\")\n",
    "plt.ylabel(\"True\")\n",
    "plt.title(\"Confusion Matrix\")\n",
    "\n",
    "# Show the plot\n",
    "plt.show()"
   ]
  },
  {
   "cell_type": "code",
   "execution_count": null,
   "id": "7ba1b2b2-d752-4b67-9b47-d11d940e1baf",
   "metadata": {},
   "outputs": [],
   "source": []
  }
 ],
 "metadata": {
  "kernelspec": {
   "display_name": "Python 3.9 (tensorflow)",
   "language": "python",
   "name": "tensorflow"
  },
  "language_info": {
   "codemirror_mode": {
    "name": "ipython",
    "version": 3
   },
   "file_extension": ".py",
   "mimetype": "text/x-python",
   "name": "python",
   "nbconvert_exporter": "python",
   "pygments_lexer": "ipython3",
   "version": "3.9.19"
  }
 },
 "nbformat": 4,
 "nbformat_minor": 5
}
