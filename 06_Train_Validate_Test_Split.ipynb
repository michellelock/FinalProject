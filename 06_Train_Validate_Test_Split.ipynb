{
 "cells": [
  {
   "cell_type": "markdown",
   "id": "55bf6e9b-774a-4400-9ba4-567325423a20",
   "metadata": {},
   "source": [
    "# The Train Validate Test Split Notebook\n",
    "\n",
    "##### This notebook copies the cc and mlo view according to class to specified folders for training, validation and testing. \n",
    "##### The train, validate, test ratio is 75:15:10."
   ]
  },
  {
   "cell_type": "markdown",
   "id": "020a6466-5743-4acf-94ae-8e1c9326ad6d",
   "metadata": {},
   "source": [
    "## Import the Relevant Libraries"
   ]
  },
  {
   "cell_type": "code",
   "execution_count": 1,
   "id": "d99248b6-76cf-43ee-b656-bca2dd8686ea",
   "metadata": {},
   "outputs": [],
   "source": [
    "# Allows for the access to the image directories\n",
    "import os"
   ]
  },
  {
   "cell_type": "code",
   "execution_count": 2,
   "id": "c4e30b64-1f75-4859-a6f0-50f6dc580e11",
   "metadata": {},
   "outputs": [],
   "source": [
    "# Allows for the copying of images to new folders\n",
    "import shutil"
   ]
  },
  {
   "cell_type": "markdown",
   "id": "b401ecb5-7c08-45f2-bd2b-dcba32072f2f",
   "metadata": {},
   "source": [
    "## Define Paths"
   ]
  },
  {
   "cell_type": "markdown",
   "id": "4f326c61-720f-4ec0-8b4d-9e04c02f2df1",
   "metadata": {},
   "source": [
    "### From"
   ]
  },
  {
   "cell_type": "code",
   "execution_count": 3,
   "id": "0256a8a3-54c0-4143-8a20-af15ddb7dffc",
   "metadata": {},
   "outputs": [],
   "source": [
    "# Cancer\n",
    "cancer_path_cc = \"RSNA_PNG_Mammograms/cancer_all/cc/\"\n",
    "cancer_path_mlo = \"RSNA_PNG_Mammograms/cancer_all/mlo/\"\n",
    "\n",
    "# No cancer\n",
    "no_cancer_path_cc = \"RSNA_PNG_Mammograms/no_cancer_all/cc/\"\n",
    "no_cancer_path_mlo = \"RSNA_PNG_Mammograms/no_cancer_all/mlo/\""
   ]
  },
  {
   "cell_type": "markdown",
   "id": "2f9794fe-fbba-410d-a7dd-8b8bb0d4e8dd",
   "metadata": {},
   "source": [
    "### To"
   ]
  },
  {
   "cell_type": "code",
   "execution_count": 4,
   "id": "234abf72-2712-493d-b8d8-95f5dff71bd1",
   "metadata": {},
   "outputs": [],
   "source": [
    "# Training\n",
    "# Cancer\n",
    "train_cancer_cc  = \"RSNA_PNG_Mammograms_Split/train_img/cc/cancer/\"\n",
    "train_cancer_mlo  = \"RSNA_PNG_Mammograms_Split/train_img/mlo/cancer/\"\n",
    "\n",
    "# No cancer\n",
    "train_no_cancer_cc = \"RSNA_PNG_Mammograms_Split/train_img/cc/no_cancer/\"\n",
    "train_no_cancer_mlo = \"RSNA_PNG_Mammograms_Split/train_img/mlo/no_cancer/\"\n",
    "\n",
    "\n",
    "# Validation\n",
    "# Cancer\n",
    "validate_cancer_cc = \"RSNA_PNG_Mammograms_Split/val_img/cc/cancer/\"\n",
    "validate_cancer_mlo = \"RSNA_PNG_Mammograms_Split/val_img/mlo/cancer/\"\n",
    "\n",
    "# No cancer\n",
    "validate_no_cancer_cc = \"RSNA_PNG_Mammograms_Split/val_img/cc/no_cancer/\"\n",
    "validate_no_cancer_mlo = \"RSNA_PNG_Mammograms_Split/val_img/mlo/no_cancer/\"\n",
    "\n",
    "\n",
    "# Testing\n",
    "# Cancer\n",
    "test_cancer_cc = \"RSNA_PNG_Mammograms_Split/test_img/cc/cancer/\"\n",
    "test_cancer_mlo = \"RSNA_PNG_Mammograms_Split/test_img/mlo/cancer/\"\n",
    "\n",
    "# No cancer\n",
    "test_no_cancer_cc = \"RSNA_PNG_Mammograms_Split/test_img/cc/no_cancer/\"\n",
    "test_no_cancer_mlo = \"RSNA_PNG_Mammograms_Split/test_img/mlo/no_cancer/\""
   ]
  },
  {
   "cell_type": "markdown",
   "id": "5d0c1eb7-8e68-45d8-a702-a20c21ddeefa",
   "metadata": {},
   "source": [
    "## Create CC and MLO View, Original and Flipped, Cancer and No Cancer Lists"
   ]
  },
  {
   "cell_type": "code",
   "execution_count": 5,
   "id": "0e8ceb01-25f3-47a1-ae46-a8775e37dff7",
   "metadata": {},
   "outputs": [],
   "source": [
    "# Cancer\n",
    "# Get a list of all the images inside the folder\n",
    "cancer_cc = os.listdir(cancer_path_cc)\n",
    "cancer_mlo = os.listdir(cancer_path_mlo)\n",
    "\n",
    "# No cancer\n",
    "# Get a list of all the images inside the folder\n",
    "no_cancer_cc = os.listdir(no_cancer_path_cc)\n",
    "no_cancer_mlo = os.listdir(no_cancer_path_mlo)"
   ]
  },
  {
   "cell_type": "code",
   "execution_count": 6,
   "id": "d9f08a4b-e966-4102-a633-c967d69c9f36",
   "metadata": {},
   "outputs": [
    {
     "name": "stdout",
     "output_type": "stream",
     "text": [
      "Cancer cc view: 1036\n",
      "Cancer mlo view: 1036\n",
      "\n",
      "\n",
      "No cancer cc view: 971\n",
      "No cancer mlo view: 971\n"
     ]
    }
   ],
   "source": [
    "# Cancer\n",
    "print(\"Cancer cc view:\", len(cancer_cc))\n",
    "print(\"Cancer mlo view:\", len(cancer_mlo))\n",
    "\n",
    "print(\"\\n\")\n",
    "\n",
    "# No cancer\n",
    "print(\"No cancer cc view:\", len(no_cancer_cc))\n",
    "print(\"No cancer mlo view:\", len(no_cancer_mlo))"
   ]
  },
  {
   "cell_type": "code",
   "execution_count": 7,
   "id": "b5dcd286-783d-4661-a77e-59c0c178118b",
   "metadata": {},
   "outputs": [
    {
     "name": "stdout",
     "output_type": "stream",
     "text": [
      "Cancer cc view: 10940_420829283.png 2346_129609192.png 38946_1288050525.png\n",
      "Cancer mlo view: 10940_888426604.png 2346_754579791.png 38946_808034784.png\n",
      "\n",
      "\n",
      "No cancer cc view: 10847_1601893608.png 2552_189350088.png 42508_430732548.png\n",
      "No cancer mlo view: 10847_1589228359.png 2552_698117587.png 42508_1992043381.png\n"
     ]
    }
   ],
   "source": [
    "# Cancer \n",
    "print(\"Cancer cc view:\", cancer_cc[20], cancer_cc[230], cancer_cc[510])\n",
    "print(\"Cancer mlo view:\", cancer_mlo[20], cancer_mlo[230], cancer_mlo[510])\n",
    "\n",
    "print(\"\\n\")\n",
    "\n",
    "# No cancer\n",
    "print(\"No cancer cc view:\", no_cancer_cc[20], no_cancer_cc[230], no_cancer_cc[510])\n",
    "print(\"No cancer mlo view:\", no_cancer_mlo[20], no_cancer_mlo[230], no_cancer_mlo[510])"
   ]
  },
  {
   "cell_type": "markdown",
   "id": "e73af7a6-1b6b-427c-9bc6-a4e75a7df8e9",
   "metadata": {},
   "source": [
    "## Split Ratio\n",
    "  - Training:\t75%\n",
    "  - Validation: 15%\n",
    "  - Testing:\t10%"
   ]
  },
  {
   "cell_type": "code",
   "execution_count": 8,
   "id": "30e030e8-67ca-46fb-9568-86b955afcfe5",
   "metadata": {},
   "outputs": [],
   "source": [
    "# Define split ratios\n",
    "train_ratio = 0.75\n",
    "validate_ratio = 0.15\n",
    "test_ratio = 0.10"
   ]
  },
  {
   "cell_type": "markdown",
   "id": "180e16d8-9a33-499d-bb00-d5fcaeb0c764",
   "metadata": {},
   "source": [
    "## Calculate Split Indices"
   ]
  },
  {
   "cell_type": "markdown",
   "id": "54e828c5-0aa5-4491-8624-7de474d8b29d",
   "metadata": {},
   "source": [
    "### Cancer"
   ]
  },
  {
   "cell_type": "code",
   "execution_count": 9,
   "id": "2c2bfe68-30e4-4909-b1e7-e77e09ba4445",
   "metadata": {},
   "outputs": [],
   "source": [
    "ratio_c =  len(cancer_cc)"
   ]
  },
  {
   "cell_type": "code",
   "execution_count": 10,
   "id": "c968f149-35a1-4f16-92dd-d6a4f53c91c2",
   "metadata": {},
   "outputs": [
    {
     "name": "stdout",
     "output_type": "stream",
     "text": [
      "Training - cancer:  777\n",
      "Validation - cancer:  155\n",
      "Testing - cancer:  104\n",
      "Total - cancer:  1036\n"
     ]
    }
   ],
   "source": [
    "# Training\n",
    "train_count_c = int(ratio_c * train_ratio)\n",
    "\n",
    "# Validation\n",
    "validate_count_c = int(ratio_c * validate_ratio)\n",
    "\n",
    "# Testing\n",
    "test_count_c = ratio_c - train_count_c - validate_count_c\n",
    "\n",
    "# Print results\n",
    "print(\"Training - cancer: \", train_count_c)\n",
    "print(\"Validation - cancer: \", validate_count_c)\n",
    "print(\"Testing - cancer: \", test_count_c)\n",
    "print(\"Total - cancer: \", train_count_c + validate_count_c + test_count_c)"
   ]
  },
  {
   "cell_type": "markdown",
   "id": "c1a109bc-27f9-472d-8f6e-e1ee1559704c",
   "metadata": {},
   "source": [
    "### No Cancer"
   ]
  },
  {
   "cell_type": "code",
   "execution_count": 11,
   "id": "38e92fa0-005a-4af9-ba29-2a76f710160b",
   "metadata": {},
   "outputs": [],
   "source": [
    "ratio_nc =  len(no_cancer_cc)"
   ]
  },
  {
   "cell_type": "code",
   "execution_count": 12,
   "id": "931c9374-7d45-4634-ad29-eb1141a1dd0d",
   "metadata": {},
   "outputs": [
    {
     "name": "stdout",
     "output_type": "stream",
     "text": [
      "Training - no cancer:  728\n",
      "Validation - no cancer:  145\n",
      "Testing - no cancer:  98\n",
      "Total - no cancer:  971\n"
     ]
    }
   ],
   "source": [
    "# Training\n",
    "train_count_nc = int(ratio_nc * train_ratio)\n",
    "\n",
    "# Validation\n",
    "validate_count_nc = int(ratio_nc * validate_ratio)\n",
    "\n",
    "# Testing\n",
    "test_count_nc = ratio_nc - train_count_nc - validate_count_nc\n",
    "\n",
    "# Print results\n",
    "print(\"Training - no cancer: \", train_count_nc)\n",
    "print(\"Validation - no cancer: \", validate_count_nc)\n",
    "print(\"Testing - no cancer: \", test_count_nc)\n",
    "print(\"Total - no cancer: \", train_count_nc + validate_count_nc + test_count_nc)"
   ]
  },
  {
   "cell_type": "markdown",
   "id": "5988e8c4-bec4-47d0-a018-319e0fbdca37",
   "metadata": {},
   "source": [
    "## Lists According to Split Ratio"
   ]
  },
  {
   "cell_type": "markdown",
   "id": "8fd41c75-8681-42b9-805a-53b3ea949620",
   "metadata": {},
   "source": [
    "### Cancer"
   ]
  },
  {
   "cell_type": "code",
   "execution_count": 13,
   "id": "7866d109-4ad7-48ce-b558-a1fe8ffacf02",
   "metadata": {},
   "outputs": [
    {
     "name": "stdout",
     "output_type": "stream",
     "text": [
      "Cancer train cc view: 777\n",
      "Cancer validate cc view: 155\n",
      "Cancer test cc view: 104\n"
     ]
    }
   ],
   "source": [
    "# CC view\n",
    "train_images_cancer_cc_split = cancer_cc[:train_count_c]\n",
    "validate_images_cancer_cc_split = cancer_cc[train_count_c:train_count_c + validate_count_c]\n",
    "test_images_cancer_cc_split = cancer_cc[train_count_c + validate_count_c:]\n",
    "\n",
    "print(\"Cancer train cc view:\", len(train_images_cancer_cc_split))\n",
    "print(\"Cancer validate cc view:\", len(validate_images_cancer_cc_split))\n",
    "print(\"Cancer test cc view:\", len(test_images_cancer_cc_split))"
   ]
  },
  {
   "cell_type": "code",
   "execution_count": 14,
   "id": "db23649e-dfc5-42d5-a191-717c4857b750",
   "metadata": {},
   "outputs": [
    {
     "name": "stdout",
     "output_type": "stream",
     "text": [
      "Cancer train mlo view: 777\n",
      "Cancer validate mlo view: 155\n",
      "Cancer test mlo view: 104\n"
     ]
    }
   ],
   "source": [
    "# MLO view\n",
    "train_images_cancer_mlo_split = cancer_mlo[:train_count_c]\n",
    "validate_images_cancer_mlo_split = cancer_mlo[train_count_c:train_count_c + validate_count_c]\n",
    "test_images_cancer_mlo_split = cancer_mlo[train_count_c + validate_count_c:]\n",
    "\n",
    "print(\"Cancer train mlo view:\", len(train_images_cancer_mlo_split))\n",
    "print(\"Cancer validate mlo view:\", len(validate_images_cancer_mlo_split))\n",
    "print(\"Cancer test mlo view:\", len(test_images_cancer_mlo_split))"
   ]
  },
  {
   "cell_type": "markdown",
   "id": "b8581a01-656b-4d8e-94d1-f229c271c5db",
   "metadata": {},
   "source": [
    "### No Cancer"
   ]
  },
  {
   "cell_type": "code",
   "execution_count": 15,
   "id": "cf063ed5-5757-414e-a08c-e373f0e045f8",
   "metadata": {},
   "outputs": [
    {
     "name": "stdout",
     "output_type": "stream",
     "text": [
      "No cancer train cc view: 728\n",
      "No cancer validate cc view: 145\n",
      "No cancer test cc view: 98\n"
     ]
    }
   ],
   "source": [
    "# CC view\n",
    "train_images_no_cancer_cc_split = no_cancer_cc[:train_count_nc]\n",
    "validate_images_no_cancer_cc_split = no_cancer_cc[train_count_nc:train_count_nc + validate_count_nc]\n",
    "test_images_no_cancer_cc_split = no_cancer_cc[train_count_nc + validate_count_nc:]\n",
    "\n",
    "print(\"No cancer train cc view:\", len(train_images_no_cancer_cc_split))\n",
    "print(\"No cancer validate cc view:\", len(validate_images_no_cancer_cc_split))\n",
    "print(\"No cancer test cc view:\", len(test_images_no_cancer_cc_split))"
   ]
  },
  {
   "cell_type": "code",
   "execution_count": 16,
   "id": "aa7d0157-19d1-4570-9b90-6d4b58531ef2",
   "metadata": {},
   "outputs": [
    {
     "name": "stdout",
     "output_type": "stream",
     "text": [
      "No cancer train mlo view: 728\n",
      "No cancer validate mlo view: 145\n",
      "No cancer test mlo view: 98\n"
     ]
    }
   ],
   "source": [
    "# MLO view\n",
    "train_images_no_cancer_mlo_split = no_cancer_mlo[:train_count_nc]\n",
    "validate_images_no_cancer_mlo_split = no_cancer_mlo[train_count_nc:train_count_nc + validate_count_nc]\n",
    "test_images_no_cancer_mlo_split = no_cancer_mlo[train_count_nc + validate_count_nc:]\n",
    "\n",
    "print(\"No cancer train mlo view:\", len(train_images_no_cancer_mlo_split))\n",
    "print(\"No cancer validate mlo view:\", len(validate_images_no_cancer_mlo_split))\n",
    "print(\"No cancer test mlo view:\", len(test_images_no_cancer_mlo_split))"
   ]
  },
  {
   "cell_type": "markdown",
   "id": "cc179b3e-fb7c-443a-969d-90286a1bec7f",
   "metadata": {},
   "source": [
    "## Printouts to Check Correlation \n",
    "\n",
    "#### Note: It is important that the first part before “_”, which is the patient id, of the cc and mlo view correlates."
   ]
  },
  {
   "cell_type": "markdown",
   "id": "4a2a9230-037f-4f8d-9c98-2d98d9917df3",
   "metadata": {},
   "source": [
    "### Cancer"
   ]
  },
  {
   "cell_type": "code",
   "execution_count": 17,
   "id": "4c628266-3be0-4139-95e9-b50676d6524c",
   "metadata": {},
   "outputs": [
    {
     "name": "stdout",
     "output_type": "stream",
     "text": [
      "\n",
      "Train:\n",
      "Cancer train cc view: 10226_530620473.png 13756_1210098281.png 17891_1605416080_flip.png\n",
      "Cancer train mlo view: 10226_461614796.png 13756_1928377168.png 17891_1991006826_flip.png\n",
      "\n",
      "Validate:\n",
      "Cancer train cc view: 55148_1055402003.png 57754_186045163.png 59865_1213747044_flip.png\n",
      "Cancer train mlo view: 55148_926538150.png 57754_690582134.png 59865_835658415_flip.png\n",
      "\n",
      "Test:\n",
      "Cancer train cc view: 64534_1420658905.png 6654_1497844117.png 7196_976434791.png\n",
      "Cancer train mlo view: 64534_1551728826.png 6654_2126262062.png 7196_1650195108.png\n"
     ]
    }
   ],
   "source": [
    "# Train\n",
    "print(\"\\n\" + \"Train:\")\n",
    "# CC view\n",
    "print(\"Cancer train cc view:\", train_images_cancer_cc_split[4], train_images_cancer_cc_split[76], train_images_cancer_cc_split[143])\n",
    "# MLO view\n",
    "print(\"Cancer train mlo view:\", train_images_cancer_mlo_split[4], train_images_cancer_mlo_split[76], train_images_cancer_mlo_split[143])\n",
    "\n",
    "\n",
    "# Validate\n",
    "print(\"\\n\" + \"Validate:\")\n",
    "# CC view\n",
    "print(\"Cancer train cc view:\", validate_images_cancer_cc_split[3], validate_images_cancer_cc_split[49], validate_images_cancer_cc_split[76])\n",
    "# MLO view\n",
    "print(\"Cancer train mlo view:\", validate_images_cancer_mlo_split[3], validate_images_cancer_mlo_split[49], validate_images_cancer_mlo_split[76])\n",
    "\n",
    "\n",
    "# Test\n",
    "print(\"\\n\" + \"Test:\")\n",
    "# CC view\n",
    "print(\"Cancer train cc view:\", test_images_cancer_cc_split[2], test_images_cancer_cc_split[34], test_images_cancer_cc_split[52])\n",
    "# MLO view\n",
    "print(\"Cancer train mlo view:\", test_images_cancer_mlo_split[2], test_images_cancer_mlo_split[34], test_images_cancer_mlo_split[52])"
   ]
  },
  {
   "cell_type": "markdown",
   "id": "42146e78-c4cb-404b-80ab-e5a8c9ec8ad5",
   "metadata": {},
   "source": [
    "### No Cancer"
   ]
  },
  {
   "cell_type": "code",
   "execution_count": 18,
   "id": "8055d02b-c2d4-4ab6-97ff-4a2905071290",
   "metadata": {},
   "outputs": [
    {
     "name": "stdout",
     "output_type": "stream",
     "text": [
      "\n",
      "Train:\n",
      "No cancer train cc view: 10200_534538517.png 13623_1502862823.png 17836_2028731091_flip.png\n",
      "No cancer train mlo view: 10200_570041037.png 13623_2133628885.png 17836_1983324546_flip.png\n",
      "\n",
      "Validate:\n",
      "No cancer train cc view: 54271_559744954_flip.png 56919_1034774361_flip.png 58058_332734942.png\n",
      "No cancer train mlo view: 54271_1983613191_flip.png 56919_2125303966_flip.png 58058_228471823.png\n",
      "\n",
      "Test:\n",
      "No cancer train cc view: 64016_1917790673_flip.png 65431_358163242_flip.png 7291_1200655017_flip.png\n",
      "No cancer train mlo view: 64016_697957354_flip.png 65431_439189892_flip.png 7291_1145323817_flip.png\n"
     ]
    }
   ],
   "source": [
    "# Train\n",
    "print(\"\\n\" + \"Train:\")\n",
    "# CC view\n",
    "print(\"No cancer train cc view:\", train_images_no_cancer_cc_split[4], train_images_no_cancer_cc_split[76], train_images_no_cancer_cc_split[143])\n",
    "# MLO view\n",
    "print(\"No cancer train mlo view:\", train_images_no_cancer_mlo_split[4], train_images_no_cancer_mlo_split[76], train_images_no_cancer_mlo_split[143])\n",
    "\n",
    "\n",
    "# Validate\n",
    "print(\"\\n\" + \"Validate:\")\n",
    "# CC view\n",
    "print(\"No cancer train cc view:\", validate_images_no_cancer_cc_split[3], validate_images_no_cancer_cc_split[49], validate_images_no_cancer_cc_split[76])\n",
    "# MLO view\n",
    "print(\"No cancer train mlo view:\", validate_images_no_cancer_mlo_split[3], validate_images_no_cancer_mlo_split[49], validate_images_no_cancer_mlo_split[76])\n",
    "\n",
    "\n",
    "# Test\n",
    "print(\"\\n\" + \"Test:\")\n",
    "# CC view\n",
    "print(\"No cancer train cc view:\", test_images_no_cancer_cc_split[2], test_images_no_cancer_cc_split[34], test_images_no_cancer_cc_split[52])\n",
    "# MLO view\n",
    "print(\"No cancer train mlo view:\", test_images_no_cancer_mlo_split[2], test_images_no_cancer_mlo_split[34], test_images_no_cancer_mlo_split[52])"
   ]
  },
  {
   "cell_type": "markdown",
   "id": "253434af-80d0-4ce3-ac11-2b7160e3cd20",
   "metadata": {},
   "source": [
    "## Copy PNG Images to Folders"
   ]
  },
  {
   "cell_type": "code",
   "execution_count": 19,
   "id": "af1cc778-a771-44b1-9c0b-b950b68d9ffe",
   "metadata": {},
   "outputs": [],
   "source": [
    "# Function to move files to the respective folders\n",
    "def move_files(origin_folder, img_list, destination_folder):\n",
    "    for png in img_list:\n",
    "        # Define the source png image path\n",
    "        source_img_path = origin_folder + png\n",
    "\n",
    "        # Define the destination png image path\n",
    "        destination_img_path = destination_folder + png\n",
    "        \n",
    "        # Copy the file to the determined destination\n",
    "        shutil.copy(source_img_path, destination_img_path)"
   ]
  },
  {
   "cell_type": "markdown",
   "id": "d258739e-365f-4f10-937a-02f55a9897c4",
   "metadata": {},
   "source": [
    "### Cancer"
   ]
  },
  {
   "cell_type": "code",
   "execution_count": 20,
   "id": "e681ecea-23a5-4235-b21c-755c26761f47",
   "metadata": {},
   "outputs": [],
   "source": [
    "# Move the files - original images\n",
    "# CC view\n",
    "move_files(cancer_path_cc, train_images_cancer_cc_split, train_cancer_cc)\n",
    "move_files(cancer_path_cc, validate_images_cancer_cc_split, validate_cancer_cc)\n",
    "move_files(cancer_path_cc, test_images_cancer_cc_split, test_cancer_cc)\n",
    "\n",
    "# MLO view\n",
    "move_files(cancer_path_mlo, train_images_cancer_mlo_split, train_cancer_mlo)\n",
    "move_files(cancer_path_mlo, validate_images_cancer_mlo_split, validate_cancer_mlo)\n",
    "move_files(cancer_path_mlo, test_images_cancer_mlo_split, test_cancer_mlo)"
   ]
  },
  {
   "cell_type": "markdown",
   "id": "1bbd161b-ca32-49da-a585-9921fb303f44",
   "metadata": {},
   "source": [
    "### No Cancer"
   ]
  },
  {
   "cell_type": "code",
   "execution_count": 21,
   "id": "91e36771-3e90-4248-b333-7c35d2cee80a",
   "metadata": {},
   "outputs": [],
   "source": [
    "# Move the files - original images\n",
    "# CC view\n",
    "move_files(no_cancer_path_cc, train_images_no_cancer_cc_split, train_no_cancer_cc)\n",
    "move_files(no_cancer_path_cc, validate_images_no_cancer_cc_split, validate_no_cancer_cc)\n",
    "move_files(no_cancer_path_cc, test_images_no_cancer_cc_split, test_no_cancer_cc)\n",
    "\n",
    "# MLO view\n",
    "move_files(no_cancer_path_mlo, train_images_no_cancer_mlo_split, train_no_cancer_mlo)\n",
    "move_files(no_cancer_path_mlo, validate_images_no_cancer_mlo_split, validate_no_cancer_mlo)\n",
    "move_files(no_cancer_path_mlo, test_images_no_cancer_mlo_split, test_no_cancer_mlo)"
   ]
  },
  {
   "cell_type": "markdown",
   "id": "d90e80c1-540d-4896-8679-1bba25bf8198",
   "metadata": {},
   "source": [
    "## Test the Path Totals"
   ]
  },
  {
   "cell_type": "markdown",
   "id": "a0148eaa-42f8-48ff-a0b0-1b1354216f8e",
   "metadata": {},
   "source": [
    "### Train"
   ]
  },
  {
   "cell_type": "code",
   "execution_count": 22,
   "id": "120e327c-4729-4ca2-8436-b2ad23394a61",
   "metadata": {},
   "outputs": [
    {
     "name": "stdout",
     "output_type": "stream",
     "text": [
      "1554\n"
     ]
    }
   ],
   "source": [
    "# Cancer\n",
    "# CC view\n",
    "total_train_cancer_cc =  os.listdir(train_cancer_cc)\n",
    "# MLO view\n",
    "total_train_cancer_mlo =  os.listdir(train_cancer_mlo)\n",
    "\n",
    "# Print the total amount of images for training - cancer\n",
    "print(len(total_train_cancer_cc) + len(total_train_cancer_mlo))"
   ]
  },
  {
   "cell_type": "code",
   "execution_count": 23,
   "id": "1f82c8b1-2e33-48c0-9650-a363ca7d4c3f",
   "metadata": {},
   "outputs": [
    {
     "name": "stdout",
     "output_type": "stream",
     "text": [
      "1456\n"
     ]
    }
   ],
   "source": [
    "# No cancer\n",
    "# CC view\n",
    "total_train_no_cancer_cc =  os.listdir(train_no_cancer_cc)\n",
    "# MLO view\n",
    "total_train_no_cancer_mlo =  os.listdir(train_no_cancer_mlo)\n",
    "\n",
    "# Print the total amount of images for training - no cancer\n",
    "print(len(total_train_no_cancer_cc) + len(total_train_no_cancer_mlo))"
   ]
  },
  {
   "cell_type": "markdown",
   "id": "ea179a72-af22-4613-9534-ab0eddf568c1",
   "metadata": {},
   "source": [
    "### Validate"
   ]
  },
  {
   "cell_type": "code",
   "execution_count": 24,
   "id": "fc084088-7ec5-42ac-8337-a03ad101b13e",
   "metadata": {},
   "outputs": [
    {
     "name": "stdout",
     "output_type": "stream",
     "text": [
      "310\n"
     ]
    }
   ],
   "source": [
    "# Cancer\n",
    "# CC view\n",
    "total_validate_cancer_cc =  os.listdir(validate_cancer_cc)\n",
    "# MLO view\n",
    "total_validate_cancer_mlo =  os.listdir(validate_cancer_mlo)\n",
    "\n",
    "# Print the total amount of images for training - cancer\n",
    "print(len(total_validate_cancer_cc) + len(total_validate_cancer_mlo))"
   ]
  },
  {
   "cell_type": "code",
   "execution_count": 25,
   "id": "512f1fa0-c3b3-4613-b0fd-3b0e9e6a9169",
   "metadata": {},
   "outputs": [
    {
     "name": "stdout",
     "output_type": "stream",
     "text": [
      "290\n"
     ]
    }
   ],
   "source": [
    "# No cancer\n",
    "# CC view\n",
    "total_validate_no_cancer_cc =  os.listdir(validate_no_cancer_cc)\n",
    "# MLO view\n",
    "total_validate_no_cancer_mlo =  os.listdir(validate_no_cancer_mlo)\n",
    "\n",
    "# Print the total amount of images for training - no cancer\n",
    "print(len(total_validate_no_cancer_cc) + len(total_validate_no_cancer_mlo))"
   ]
  },
  {
   "cell_type": "markdown",
   "id": "b1e267b0-3824-41ef-a44a-de2671f982f7",
   "metadata": {},
   "source": [
    "### Test"
   ]
  },
  {
   "cell_type": "code",
   "execution_count": 26,
   "id": "34ea8628-5b71-4ea9-85f4-209588659e0d",
   "metadata": {},
   "outputs": [
    {
     "name": "stdout",
     "output_type": "stream",
     "text": [
      "208\n"
     ]
    }
   ],
   "source": [
    "# Cancer\n",
    "# CC view\n",
    "total_test_cancer_cc =  os.listdir(test_cancer_cc)\n",
    "# MLO view\n",
    "total_test_cancer_mlo =  os.listdir(test_cancer_mlo)\n",
    "\n",
    "# Print the total amount of images for testing - cancer\n",
    "print(len(total_test_cancer_cc) + len(total_test_cancer_mlo))"
   ]
  },
  {
   "cell_type": "code",
   "execution_count": 27,
   "id": "afc31e69-a466-4028-92c7-5f158e7e3561",
   "metadata": {},
   "outputs": [
    {
     "name": "stdout",
     "output_type": "stream",
     "text": [
      "196\n"
     ]
    }
   ],
   "source": [
    "# No cancer\n",
    "# CC view\n",
    "total_test_no_cancer_cc =  os.listdir(test_no_cancer_cc)\n",
    "# MLO view\n",
    "total_test_no_cancer_mlo =  os.listdir(test_no_cancer_mlo)\n",
    "\n",
    "# Print the total amount of images for testing - no cancer\n",
    "print(len(total_test_no_cancer_cc) + len(total_test_no_cancer_mlo))"
   ]
  },
  {
   "cell_type": "markdown",
   "id": "f9a066b1-5c0a-41d9-bc63-85734f4b9a10",
   "metadata": {},
   "source": [
    "## Total Images for CNN"
   ]
  },
  {
   "cell_type": "code",
   "execution_count": 28,
   "id": "4e27bba5-2708-4018-a179-98c3c8d58de7",
   "metadata": {},
   "outputs": [],
   "source": [
    "training = len(total_train_cancer_cc) + len(total_train_cancer_mlo) + len(total_train_no_cancer_cc) + len(total_train_no_cancer_mlo)\n",
    "validation = len(total_validate_cancer_cc) + len(total_validate_cancer_mlo) + len(total_validate_no_cancer_cc) + len(total_validate_no_cancer_mlo)\n",
    "testing = len(total_test_cancer_cc) + len(total_test_cancer_mlo) + len(total_test_no_cancer_cc) + len(total_test_no_cancer_mlo)"
   ]
  },
  {
   "cell_type": "code",
   "execution_count": 29,
   "id": "3ad505a0-c5e5-46cc-aad5-66ca565bf028",
   "metadata": {},
   "outputs": [
    {
     "name": "stdout",
     "output_type": "stream",
     "text": [
      "Total image set:  4014\n"
     ]
    }
   ],
   "source": [
    "print(\"Total image set: \", (training + validation + testing))"
   ]
  },
  {
   "cell_type": "markdown",
   "id": "0bf155a1-3219-4e95-81a4-2aefba1b4498",
   "metadata": {},
   "source": [
    "## Ensure No Errors"
   ]
  },
  {
   "cell_type": "code",
   "execution_count": 30,
   "id": "9b1830a5-e719-40dc-8475-99832acf6ab4",
   "metadata": {},
   "outputs": [],
   "source": [
    "# Combine all training lists\n",
    "combo_train = total_train_cancer_cc + total_train_cancer_mlo + total_train_no_cancer_cc + total_train_no_cancer_mlo\n",
    "\n",
    "# Combine all validation lists\n",
    "combo_validate = total_validate_cancer_cc + total_validate_cancer_mlo + total_validate_no_cancer_cc + total_validate_no_cancer_mlo\n",
    "\n",
    "# Combine all testing lists\n",
    "combo_test = total_test_cancer_cc + total_test_cancer_mlo + total_test_no_cancer_cc + total_test_no_cancer_mlo"
   ]
  },
  {
   "cell_type": "code",
   "execution_count": 31,
   "id": "d2858f49-c18b-4aef-92eb-9edce378ba4e",
   "metadata": {},
   "outputs": [
    {
     "name": "stdout",
     "output_type": "stream",
     "text": [
      "No duplicates found - each item is only in one list.\n"
     ]
    }
   ],
   "source": [
    "# Combine all lists into one\n",
    "combined_list = combo_train + combo_validate + combo_test\n",
    "\n",
    "# Convert the combined list into a set\n",
    "combined_set = set(combined_list)\n",
    "\n",
    "# Compare the lengths to check for duplicates\n",
    "if len(combined_list) == len(combined_set):\n",
    "    print(\"No duplicates found - each item is only in one list.\")\n",
    "else:\n",
    "    print(\"Duplicates found - some items appear in multiple lists.\")"
   ]
  },
  {
   "cell_type": "code",
   "execution_count": null,
   "id": "936356ec-3d25-48ef-9ad7-8f57eb34fa8a",
   "metadata": {},
   "outputs": [],
   "source": []
  }
 ],
 "metadata": {
  "kernelspec": {
   "display_name": "Python (tensorflowIO)",
   "language": "python",
   "name": "tensorflowio"
  },
  "language_info": {
   "codemirror_mode": {
    "name": "ipython",
    "version": 3
   },
   "file_extension": ".py",
   "mimetype": "text/x-python",
   "name": "python",
   "nbconvert_exporter": "python",
   "pygments_lexer": "ipython3",
   "version": "3.9.19"
  }
 },
 "nbformat": 4,
 "nbformat_minor": 5
}
