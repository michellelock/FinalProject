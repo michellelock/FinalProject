{
 "cells": [
  {
   "cell_type": "markdown",
   "id": "e7811f95-3fb2-4efc-9027-99b7f923769a",
   "metadata": {},
   "source": [
    "# The DICOM to DICOM No Subfolder Class Notebook\n",
    "\n",
    "##### Reads the newly created cancer and no cancer CSV files.\n",
    "##### Compiles lists containing the relevant patient_image_id, patient_id and image_id according to class (cancer or no cancer).\n",
    "##### Moves the selected DICOM files to the relevant folders."
   ]
  },
  {
   "cell_type": "markdown",
   "id": "6823f56d-52d0-4032-92cc-5d1989ad8a3c",
   "metadata": {},
   "source": [
    "## Import the Relevant Libraries"
   ]
  },
  {
   "cell_type": "code",
   "execution_count": 1,
   "id": "ea7aabde-7c22-4595-b812-7646b6aa184d",
   "metadata": {},
   "outputs": [],
   "source": [
    "# Allows for the access to the image directories\n",
    "import os"
   ]
  },
  {
   "cell_type": "code",
   "execution_count": 2,
   "id": "486e65de-df43-4298-b6c5-fe6a039af4f4",
   "metadata": {},
   "outputs": [],
   "source": [
    "# Allows for the copying of images to new folders\n",
    "import shutil"
   ]
  },
  {
   "cell_type": "code",
   "execution_count": 3,
   "id": "2ce7423e-c717-476e-bf6b-403c6b4c5ae5",
   "metadata": {},
   "outputs": [],
   "source": [
    "# Allows for dataframe creation as well as manipulation and cleaning of the data\n",
    "import pandas as pd"
   ]
  },
  {
   "cell_type": "markdown",
   "id": "38dd542a-cf3d-4e62-861f-36fa3c8edebd",
   "metadata": {},
   "source": [
    "## Import and Read the CSV File - Cancer "
   ]
  },
  {
   "cell_type": "code",
   "execution_count": 4,
   "id": "9c0bc8cc-e0a6-4ee1-8f0c-d2e9cde9ad45",
   "metadata": {},
   "outputs": [],
   "source": [
    "# Metadata of the training images - cancer\n",
    "cancer_meta = pd.read_csv(\"new_sorted_cancer_df.csv\")"
   ]
  },
  {
   "cell_type": "code",
   "execution_count": 5,
   "id": "e18b0fc9-a937-456f-854c-1d34ef576408",
   "metadata": {},
   "outputs": [
    {
     "data": {
      "text/html": [
       "<div>\n",
       "<style scoped>\n",
       "    .dataframe tbody tr th:only-of-type {\n",
       "        vertical-align: middle;\n",
       "    }\n",
       "\n",
       "    .dataframe tbody tr th {\n",
       "        vertical-align: top;\n",
       "    }\n",
       "\n",
       "    .dataframe thead th {\n",
       "        text-align: right;\n",
       "    }\n",
       "</style>\n",
       "<table border=\"1\" class=\"dataframe\">\n",
       "  <thead>\n",
       "    <tr style=\"text-align: right;\">\n",
       "      <th></th>\n",
       "      <th>patient_image_id</th>\n",
       "      <th>site_id</th>\n",
       "      <th>patient_id</th>\n",
       "      <th>image_id</th>\n",
       "      <th>laterality</th>\n",
       "      <th>view</th>\n",
       "      <th>age</th>\n",
       "      <th>cancer</th>\n",
       "      <th>biopsy</th>\n",
       "      <th>invasive</th>\n",
       "      <th>BIRADS</th>\n",
       "      <th>implant</th>\n",
       "      <th>density</th>\n",
       "      <th>machine_id</th>\n",
       "      <th>difficult_negative_case</th>\n",
       "    </tr>\n",
       "  </thead>\n",
       "  <tbody>\n",
       "    <tr>\n",
       "      <th>0</th>\n",
       "      <td>10130_1360338805</td>\n",
       "      <td>1</td>\n",
       "      <td>10130</td>\n",
       "      <td>1360338805</td>\n",
       "      <td>L</td>\n",
       "      <td>CC</td>\n",
       "      <td>71.0</td>\n",
       "      <td>1</td>\n",
       "      <td>1</td>\n",
       "      <td>1</td>\n",
       "      <td>0.0</td>\n",
       "      <td>0</td>\n",
       "      <td>B</td>\n",
       "      <td>49</td>\n",
       "      <td>False</td>\n",
       "    </tr>\n",
       "    <tr>\n",
       "      <th>1</th>\n",
       "      <td>10130_1672636630</td>\n",
       "      <td>1</td>\n",
       "      <td>10130</td>\n",
       "      <td>1672636630</td>\n",
       "      <td>L</td>\n",
       "      <td>MLO</td>\n",
       "      <td>71.0</td>\n",
       "      <td>1</td>\n",
       "      <td>1</td>\n",
       "      <td>1</td>\n",
       "      <td>0.0</td>\n",
       "      <td>0</td>\n",
       "      <td>B</td>\n",
       "      <td>49</td>\n",
       "      <td>False</td>\n",
       "    </tr>\n",
       "  </tbody>\n",
       "</table>\n",
       "</div>"
      ],
      "text/plain": [
       "   patient_image_id  site_id  patient_id    image_id laterality view   age  \\\n",
       "0  10130_1360338805        1       10130  1360338805          L   CC  71.0   \n",
       "1  10130_1672636630        1       10130  1672636630          L  MLO  71.0   \n",
       "\n",
       "   cancer  biopsy  invasive  BIRADS  implant density  machine_id  \\\n",
       "0       1       1         1     0.0        0       B          49   \n",
       "1       1       1         1     0.0        0       B          49   \n",
       "\n",
       "   difficult_negative_case  \n",
       "0                    False  \n",
       "1                    False  "
      ]
     },
     "execution_count": 5,
     "metadata": {},
     "output_type": "execute_result"
    }
   ],
   "source": [
    "# Display the first 2 rows of the metadata\n",
    "cancer_meta.head(2)"
   ]
  },
  {
   "cell_type": "code",
   "execution_count": 6,
   "id": "9e470786-572a-4bc6-b677-d4a169bff523",
   "metadata": {},
   "outputs": [
    {
     "name": "stdout",
     "output_type": "stream",
     "text": [
      "1158\n"
     ]
    }
   ],
   "source": [
    "# Display the length the metadata\n",
    "print(len(cancer_meta))"
   ]
  },
  {
   "cell_type": "markdown",
   "id": "eb184a3e-7f33-4b2d-90bc-8a3a6c824083",
   "metadata": {},
   "source": [
    "## Import and Read the CSV File - No Cancer "
   ]
  },
  {
   "cell_type": "code",
   "execution_count": 7,
   "id": "9e8d2897-4d1b-4226-8994-c6bbfba0b369",
   "metadata": {},
   "outputs": [],
   "source": [
    "# Metadata of the training images - no cancer\n",
    "no_cancer_meta = pd.read_csv(\"new_sorted_non_cancer_df.csv\")"
   ]
  },
  {
   "cell_type": "code",
   "execution_count": 8,
   "id": "503dac18-a31f-4a43-9062-1c377ae34d0a",
   "metadata": {},
   "outputs": [
    {
     "data": {
      "text/html": [
       "<div>\n",
       "<style scoped>\n",
       "    .dataframe tbody tr th:only-of-type {\n",
       "        vertical-align: middle;\n",
       "    }\n",
       "\n",
       "    .dataframe tbody tr th {\n",
       "        vertical-align: top;\n",
       "    }\n",
       "\n",
       "    .dataframe thead th {\n",
       "        text-align: right;\n",
       "    }\n",
       "</style>\n",
       "<table border=\"1\" class=\"dataframe\">\n",
       "  <thead>\n",
       "    <tr style=\"text-align: right;\">\n",
       "      <th></th>\n",
       "      <th>patient_image_id</th>\n",
       "      <th>site_id</th>\n",
       "      <th>patient_id</th>\n",
       "      <th>image_id</th>\n",
       "      <th>laterality</th>\n",
       "      <th>view</th>\n",
       "      <th>age</th>\n",
       "      <th>cancer</th>\n",
       "      <th>biopsy</th>\n",
       "      <th>invasive</th>\n",
       "      <th>BIRADS</th>\n",
       "      <th>implant</th>\n",
       "      <th>density</th>\n",
       "      <th>machine_id</th>\n",
       "      <th>difficult_negative_case</th>\n",
       "    </tr>\n",
       "  </thead>\n",
       "  <tbody>\n",
       "    <tr>\n",
       "      <th>2263</th>\n",
       "      <td>9549_760279512</td>\n",
       "      <td>1</td>\n",
       "      <td>9549</td>\n",
       "      <td>760279512</td>\n",
       "      <td>L</td>\n",
       "      <td>MLO</td>\n",
       "      <td>48.0</td>\n",
       "      <td>0</td>\n",
       "      <td>0</td>\n",
       "      <td>0</td>\n",
       "      <td>2.0</td>\n",
       "      <td>0</td>\n",
       "      <td>A</td>\n",
       "      <td>49</td>\n",
       "      <td>False</td>\n",
       "    </tr>\n",
       "    <tr>\n",
       "      <th>2264</th>\n",
       "      <td>9549_856218783</td>\n",
       "      <td>1</td>\n",
       "      <td>9549</td>\n",
       "      <td>856218783</td>\n",
       "      <td>R</td>\n",
       "      <td>CC</td>\n",
       "      <td>48.0</td>\n",
       "      <td>0</td>\n",
       "      <td>0</td>\n",
       "      <td>0</td>\n",
       "      <td>2.0</td>\n",
       "      <td>0</td>\n",
       "      <td>A</td>\n",
       "      <td>49</td>\n",
       "      <td>False</td>\n",
       "    </tr>\n",
       "  </tbody>\n",
       "</table>\n",
       "</div>"
      ],
      "text/plain": [
       "     patient_image_id  site_id  patient_id   image_id laterality view   age  \\\n",
       "2263   9549_760279512        1        9549  760279512          L  MLO  48.0   \n",
       "2264   9549_856218783        1        9549  856218783          R   CC  48.0   \n",
       "\n",
       "      cancer  biopsy  invasive  BIRADS  implant density  machine_id  \\\n",
       "2263       0       0         0     2.0        0       A          49   \n",
       "2264       0       0         0     2.0        0       A          49   \n",
       "\n",
       "      difficult_negative_case  \n",
       "2263                    False  \n",
       "2264                    False  "
      ]
     },
     "execution_count": 8,
     "metadata": {},
     "output_type": "execute_result"
    }
   ],
   "source": [
    "# Display the lats 2 rows of the metadata\n",
    "no_cancer_meta.tail(2)"
   ]
  },
  {
   "cell_type": "code",
   "execution_count": 9,
   "id": "447ee303-5c45-4e47-9521-989216ce0a61",
   "metadata": {},
   "outputs": [
    {
     "name": "stdout",
     "output_type": "stream",
     "text": [
      "2265\n"
     ]
    }
   ],
   "source": [
    "# Display the length the metadata\n",
    "print(len(no_cancer_meta))"
   ]
  },
  {
   "cell_type": "code",
   "execution_count": 10,
   "id": "ff7d54da-ce06-4a49-87de-69d557782801",
   "metadata": {},
   "outputs": [
    {
     "name": "stdout",
     "output_type": "stream",
     "text": [
      "The image quantity difference between the two classes is  48.87 %\n"
     ]
    }
   ],
   "source": [
    "cancer = len(cancer_meta)\n",
    "no_cancer = len(no_cancer_meta)\n",
    "\n",
    "img_qty_difference = round(((no_cancer - cancer) * 100) / no_cancer, 2)\n",
    "\n",
    "print(\"The image quantity difference between the two classes is  \" + str(img_qty_difference) + \" %\")"
   ]
  },
  {
   "cell_type": "markdown",
   "id": "6c778fc1-6fd6-429b-8720-3abd4fbedc72",
   "metadata": {},
   "source": [
    "## Compile Cancer and No Cancer ID Lists"
   ]
  },
  {
   "cell_type": "code",
   "execution_count": 11,
   "id": "ca8b28d1-df6b-4c22-8753-d6b8d89c79c2",
   "metadata": {},
   "outputs": [],
   "source": [
    "# Create lists that will contain the relevant image id's - cancer\n",
    "cancer_id = cancer_meta[\"patient_image_id\"].tolist()\n",
    "cancer_pt_id = cancer_meta[\"patient_id\"].tolist()\n",
    "cancer_img_id = cancer_meta[\"image_id\"].tolist()"
   ]
  },
  {
   "cell_type": "code",
   "execution_count": 12,
   "id": "e59f5fd6-5b73-441f-a58a-65bbc9d34a7f",
   "metadata": {},
   "outputs": [],
   "source": [
    "# Create list that will contain the relevant image id's - no cancer\n",
    "no_cancer_id = no_cancer_meta[\"patient_image_id\"].tolist()\n",
    "no_cancer_pt_id = no_cancer_meta[\"patient_id\"].tolist()\n",
    "no_cancer_img_id = no_cancer_meta[\"image_id\"].tolist()"
   ]
  },
  {
   "cell_type": "code",
   "execution_count": 13,
   "id": "2027b2b8-0a3c-4371-a06c-fc35db48ace3",
   "metadata": {},
   "outputs": [
    {
     "name": "stdout",
     "output_type": "stream",
     "text": [
      "1158\n",
      "1158\n"
     ]
    }
   ],
   "source": [
    "# Compare sizes - cancer\n",
    "print(len(cancer_id))\n",
    "print(len(cancer_meta))"
   ]
  },
  {
   "cell_type": "code",
   "execution_count": 14,
   "id": "d2d80d7c-88b1-4814-a97e-e4fdd0793b42",
   "metadata": {},
   "outputs": [
    {
     "name": "stdout",
     "output_type": "stream",
     "text": [
      "2265\n",
      "2265\n"
     ]
    }
   ],
   "source": [
    "# Compare sizes - no cancer\n",
    "print(len(no_cancer_id))\n",
    "print(len(no_cancer_meta))"
   ]
  },
  {
   "cell_type": "code",
   "execution_count": 15,
   "id": "8997d23e-359f-4f33-acb2-a75b4079cb6e",
   "metadata": {},
   "outputs": [
    {
     "data": {
      "text/plain": [
       "['10130_1360338805',\n",
       " '10130_1672636630',\n",
       " '10130_388811999',\n",
       " '10130_613462606',\n",
       " '10226_461614796',\n",
       " '10226_530620473',\n",
       " '1025_1803952236',\n",
       " '1025_773597682',\n",
       " '10432_1434858530',\n",
       " '10432_458553546']"
      ]
     },
     "execution_count": 15,
     "metadata": {},
     "output_type": "execute_result"
    }
   ],
   "source": [
    "# Demonstrate the format - cancer list\n",
    "cancer_id[0:10]"
   ]
  },
  {
   "cell_type": "code",
   "execution_count": 16,
   "id": "37a6e855-8454-4c7c-a11e-ccf77b7e3942",
   "metadata": {},
   "outputs": [
    {
     "data": {
      "text/plain": [
       "['10399_1470470799',\n",
       " '10399_52510266',\n",
       " '10399_863598426',\n",
       " '10526_1505027709',\n",
       " '10526_1782974695',\n",
       " '10526_376934385',\n",
       " '10526_657541655',\n",
       " '10526_880953279',\n",
       " '10528_1472804609',\n",
       " '10528_2124356768']"
      ]
     },
     "execution_count": 16,
     "metadata": {},
     "output_type": "execute_result"
    }
   ],
   "source": [
    "# Demonstrate the format - no cancer list\n",
    "no_cancer_id[20:30]"
   ]
  },
  {
   "cell_type": "markdown",
   "id": "51e7a12c-fd6e-4dfa-b6a3-3896e4acd8c8",
   "metadata": {},
   "source": [
    "## Copy DICOM Images to Class Folders"
   ]
  },
  {
   "cell_type": "code",
   "execution_count": 18,
   "id": "96d530cf-6cfc-4c37-b469-0825b6025847",
   "metadata": {},
   "outputs": [],
   "source": [
    "# Define the source directory\n",
    "data_dir = \"F:/RSNA_Mammograms/train_images/\""
   ]
  },
  {
   "cell_type": "code",
   "execution_count": 19,
   "id": "f2d05d4a-1fcc-4b1a-bde8-f2e8d13e14f9",
   "metadata": {},
   "outputs": [],
   "source": [
    "# Define the destination directories\n",
    "data_dir_cancer = \"RSNA_Mammograms_Class/cancer/\"\n",
    "data_dir_no_cancer = \"RSNA_Mammograms_Class/no_cancer/\""
   ]
  },
  {
   "cell_type": "markdown",
   "id": "7878e6be-f0ad-4e96-8336-1bfc479dc19e",
   "metadata": {},
   "source": [
    "### The class_shutil function \n",
    " - Takes four inputs:\n",
    "    * id = patient_image_id\n",
    "    * pt_id = patient_id\n",
    "    * img_id = image_id\n",
    "    * out_path\n",
    " - The above 3 id’s represent the id’s that were added from the CSV files to the depending lists.\n",
    " - out_path represent the destination directory depending on the class (cancer or no cancer).\n",
    " - Thus, out_path defines where the DICOM image will be copied to.\n",
    " - Then, set the destination path by combining the out_path and the specified image before copying it."
   ]
  },
  {
   "cell_type": "code",
   "execution_count": 20,
   "id": "f8943c82-9894-4ba5-b774-8a374fa53ebb",
   "metadata": {},
   "outputs": [],
   "source": [
    "def class_shutil(id, pt_id, img_id, out_path):   \n",
    "    # If the img patient_image_id is in the cancer list\n",
    "    for i, img in enumerate(id):\n",
    "        # Define the source png image path\n",
    "        source_img_path = data_dir + str(pt_id[i]) + \"/\" + str(img_id[i]) + \".dcm\"\n",
    "\n",
    "        # Define the destination png image path\n",
    "        destination_img_path = out_path + img + \".dcm\"\n",
    "\n",
    "        # Copy the file to the determined destination\n",
    "        shutil.copy(source_img_path, destination_img_path)"
   ]
  },
  {
   "cell_type": "code",
   "execution_count": 21,
   "id": "9e70f307-6c42-4bef-afb7-3f34e85cd51b",
   "metadata": {},
   "outputs": [],
   "source": [
    "# Copy the cancer images\n",
    "class_shutil(cancer_id, cancer_pt_id, cancer_img_id, data_dir_cancer)"
   ]
  },
  {
   "cell_type": "code",
   "execution_count": 22,
   "id": "170382ef-3d16-4781-abe8-36c8d6fe4554",
   "metadata": {},
   "outputs": [],
   "source": [
    "# Copy the no cancer images \n",
    "class_shutil(no_cancer_id, no_cancer_pt_id, no_cancer_img_id, data_dir_no_cancer)"
   ]
  },
  {
   "cell_type": "markdown",
   "id": "4a624424-8ee6-4c04-ab5b-389cc261a293",
   "metadata": {},
   "source": [
    "## Check Folders"
   ]
  },
  {
   "cell_type": "code",
   "execution_count": 23,
   "id": "cd58cdee-dd2b-4b3f-9043-ba38e8a11479",
   "metadata": {},
   "outputs": [
    {
     "name": "stdout",
     "output_type": "stream",
     "text": [
      "1158\n",
      "1158\n"
     ]
    }
   ],
   "source": [
    "# Get a list of all the patient images in this folder - cancer\n",
    "cancer_dir = os.listdir(data_dir_cancer)\n",
    "\n",
    "# Compare sizes - cancer\n",
    "print(len(cancer_dir))\n",
    "print(len(cancer_meta))"
   ]
  },
  {
   "cell_type": "code",
   "execution_count": 24,
   "id": "2b52ca8b-9e56-4c16-96b0-547d00f30007",
   "metadata": {},
   "outputs": [
    {
     "name": "stdout",
     "output_type": "stream",
     "text": [
      "2265\n",
      "2265\n"
     ]
    }
   ],
   "source": [
    "# Get a list of all the patient images in this folder - no cancer\n",
    "no_cancer_dir = os.listdir(data_dir_no_cancer)\n",
    "\n",
    "# Compare sizes - cancer\n",
    "print(len(no_cancer_dir))\n",
    "print(len(no_cancer_meta))"
   ]
  },
  {
   "cell_type": "code",
   "execution_count": null,
   "id": "d7fabe9f-4970-4c63-b69e-737bb1617f2c",
   "metadata": {},
   "outputs": [],
   "source": []
  }
 ],
 "metadata": {
  "kernelspec": {
   "display_name": "Python (tensorflowIO)",
   "language": "python",
   "name": "tensorflowio"
  },
  "language_info": {
   "codemirror_mode": {
    "name": "ipython",
    "version": 3
   },
   "file_extension": ".py",
   "mimetype": "text/x-python",
   "name": "python",
   "nbconvert_exporter": "python",
   "pygments_lexer": "ipython3",
   "version": "3.9.19"
  }
 },
 "nbformat": 4,
 "nbformat_minor": 5
}
