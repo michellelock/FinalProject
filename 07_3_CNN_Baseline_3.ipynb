{
 "cells": [
  {
   "cell_type": "markdown",
   "id": "5857a658-e016-46f6-b62c-e9926480ed0b",
   "metadata": {},
   "source": [
    "# The CNN Baseline 3 Notebook\n",
    "\n",
    "##### This notebook contains the baseline model_3 based on paper 5, using the Adam optimizer."
   ]
  },
  {
   "cell_type": "markdown",
   "id": "0bcb3c53-f357-403d-ab5f-8ad94fa174f2",
   "metadata": {},
   "source": [
    "## Import the Relevant Libraries"
   ]
  },
  {
   "cell_type": "code",
   "execution_count": 1,
   "id": "5c80d206-f6c5-4ffa-baa7-f1e789e72349",
   "metadata": {},
   "outputs": [],
   "source": [
    "# TensorFlow is a library containing multiple machine learning tasks\n",
    "import tensorflow as tf"
   ]
  },
  {
   "cell_type": "code",
   "execution_count": 2,
   "id": "71b94899-2d80-4fa0-8cd1-ea370db75795",
   "metadata": {},
   "outputs": [],
   "source": [
    "# Keras, a high-level neural networks API, that runs on top of TensorFlow\n",
    "# Enables building deep neural networks\n",
    "from tensorflow import keras"
   ]
  },
  {
   "cell_type": "code",
   "execution_count": 3,
   "id": "1f7a7ebd-9a9c-4bb8-9426-1faf13fd8eca",
   "metadata": {},
   "outputs": [
    {
     "name": "stdout",
     "output_type": "stream",
     "text": [
      "\u001b[1m\u001b[4mVersions in Use\u001b[0;0m\n",
      "TensorFlow:  2.11.0\n",
      "Keras:  2.11.0\n"
     ]
    }
   ],
   "source": [
    "# Print the versions\n",
    "print(\"\\033[1m\" + \"\\033[4m\" + \"Versions in Use\" + \"\\033[0;0m\") \n",
    "print(\"TensorFlow: \", tf.__version__)\n",
    "print(\"Keras: \", keras.__version__)"
   ]
  },
  {
   "cell_type": "code",
   "execution_count": 4,
   "id": "d34e8eb2-c924-47fa-af97-4c7cb922d2eb",
   "metadata": {},
   "outputs": [],
   "source": [
    "# Import the models module from the Keras library\n",
    "# Provides tools for constructing, training, and evaluating neural network models\n",
    "from keras import models"
   ]
  },
  {
   "cell_type": "code",
   "execution_count": 5,
   "id": "206f71a8-e548-4582-965b-02a0f08fa69a",
   "metadata": {},
   "outputs": [],
   "source": [
    "# Used to instantiate a Keras tensor\n",
    "from keras import Input"
   ]
  },
  {
   "cell_type": "code",
   "execution_count": 6,
   "id": "16eeccde-c1bf-4465-b776-2b257c2128a4",
   "metadata": {},
   "outputs": [],
   "source": [
    "# Layers are the basic building blocks of neural networks in Keras\n",
    "from keras import layers"
   ]
  },
  {
   "cell_type": "code",
   "execution_count": 7,
   "id": "5e027c41-1a8e-4e95-bf08-0c5c6625b377",
   "metadata": {},
   "outputs": [],
   "source": [
    "# Allows for creation of neural network models\n",
    "from keras.models import Model"
   ]
  },
  {
   "cell_type": "code",
   "execution_count": 8,
   "id": "34555531-48c6-4f59-b239-7fc56b954a2d",
   "metadata": {},
   "outputs": [],
   "source": [
    "# It generates batches of tensor image data with real-time data augmentation\n",
    "# Ensuring all data is in the same format \n",
    "from keras.preprocessing.image import ImageDataGenerator"
   ]
  },
  {
   "cell_type": "code",
   "execution_count": 9,
   "id": "1a85ba31-dc8e-448a-8be9-21bfcaef9c94",
   "metadata": {},
   "outputs": [],
   "source": [
    "# Provides various algorithms for optimizing neural network training, such as SGD, Adam, RMSprop, etc.\n",
    "from keras import optimizers"
   ]
  },
  {
   "cell_type": "code",
   "execution_count": 10,
   "id": "957e34de-6223-4b6c-852f-2bfa7972fd06",
   "metadata": {},
   "outputs": [],
   "source": [
    "# Allows for implementation of early stopping in callbacks\n",
    "from keras.callbacks import EarlyStopping"
   ]
  },
  {
   "cell_type": "code",
   "execution_count": 11,
   "id": "87851fce-1681-4a1a-a174-4ffa8925635d",
   "metadata": {},
   "outputs": [],
   "source": [
    "# Allows for implementation of model check points in callbacks\n",
    "from keras.callbacks import ModelCheckpoint"
   ]
  },
  {
   "cell_type": "code",
   "execution_count": 12,
   "id": "8dae23e0-e822-47f0-bb4c-5e62666d9cfb",
   "metadata": {},
   "outputs": [],
   "source": [
    "# Allows for implementation of TensorBoard in callbacks\n",
    "from keras.callbacks import TensorBoard"
   ]
  },
  {
   "cell_type": "code",
   "execution_count": 13,
   "id": "61a8db5a-8ffd-47bf-8885-575e86bf1c3f",
   "metadata": {},
   "outputs": [],
   "source": [
    "# Used for hyperparameter optimization\n",
    "import keras_tuner"
   ]
  },
  {
   "cell_type": "code",
   "execution_count": 14,
   "id": "2057f733-c6dc-469d-808c-085e1f4130a8",
   "metadata": {},
   "outputs": [],
   "source": [
    "# Allows for plotting of figures \n",
    "import matplotlib.pyplot as plt"
   ]
  },
  {
   "cell_type": "code",
   "execution_count": 15,
   "id": "6cd9801a-a511-4988-b65e-2eb19ec68d36",
   "metadata": {},
   "outputs": [],
   "source": [
    "# Allows for plotting of confusion matrix heatmap \n",
    "import seaborn as sns"
   ]
  },
  {
   "cell_type": "code",
   "execution_count": 16,
   "id": "e9d1a383-b289-45e0-bade-319324aaaa0b",
   "metadata": {},
   "outputs": [],
   "source": [
    "# Allows for creating of classification report and confusion matrix  \n",
    "from sklearn.metrics import classification_report, confusion_matrix"
   ]
  },
  {
   "cell_type": "code",
   "execution_count": 17,
   "id": "32d10ff1-543c-4ea2-98fb-4946606d2965",
   "metadata": {},
   "outputs": [],
   "source": [
    "# Needed for TensorBoard \n",
    "import datetime"
   ]
  },
  {
   "cell_type": "code",
   "execution_count": 18,
   "id": "6f370490-f21e-4a83-bf4c-eed04af475db",
   "metadata": {},
   "outputs": [],
   "source": [
    "# Allows for the loading of a model\n",
    "from tensorflow.keras.models import load_model"
   ]
  },
  {
   "cell_type": "markdown",
   "id": "d45cb76f-6893-47aa-a593-cdade8e877ba",
   "metadata": {},
   "source": [
    "## Creating the Model with Keras API"
   ]
  },
  {
   "cell_type": "markdown",
   "id": "d7cf05f6-5fa6-45d8-8144-c48574c9c27a",
   "metadata": {},
   "source": [
    "#### Paper 5"
   ]
  },
  {
   "cell_type": "code",
   "execution_count": 19,
   "id": "fc9a2197-0b46-478d-8e62-63d12e18daac",
   "metadata": {},
   "outputs": [],
   "source": [
    "# Input\n",
    "image_input = Input(shape = (512, 512, 1))\n",
    "\n",
    "# First layer\n",
    "conv_1 = layers.Conv2D(32, kernel_size = (3, 3), strides = (2, 2), activation = \"relu\")(image_input) \n",
    "max_1 = layers.MaxPooling2D(pool_size = (3, 3), strides = (3, 3))(conv_1) \n",
    "\n",
    "# Second layer\n",
    "conv_2_1 = layers.Conv2D(64, kernel_size = (3, 3), strides = (2, 2), activation = \"relu\")(max_1) \n",
    "conv_2_2 = layers.Conv2D(64, kernel_size = (3, 3), strides = (1, 1), activation = \"relu\")(conv_2_1)\n",
    "conv_2_3 = layers.Conv2D(64, kernel_size = (3, 3), strides = (1, 1), activation = \"relu\")(conv_2_2)\n",
    "max_2 = layers.MaxPooling2D(pool_size = (2, 2), strides = (2, 2))(conv_2_3) \n",
    "\n",
    "# Third layer\n",
    "conv_3_1 = layers.Conv2D(128, kernel_size = (3, 3), strides = (1, 1), activation = \"relu\")(max_2)\n",
    "conv_3_2 = layers.Conv2D(128, kernel_size = (3, 3), strides = (1, 1), activation = \"relu\")(conv_3_1)\n",
    "conv_3_3 = layers.Conv2D(128, kernel_size = (3, 3), strides = (1, 1), activation = \"relu\")(conv_3_2)\n",
    "max_3 = layers.MaxPooling2D(pool_size = (2, 2), strides = (2, 2))(conv_3_3) \n",
    "\n",
    "# Fourth layer\n",
    "conv_4_1 = layers.Conv2D(128, kernel_size = (3, 3), strides = (1, 1), activation = \"relu\")(max_3)\n",
    "conv_4_2 = layers.Conv2D(128, kernel_size = (3, 3), strides = (1, 1), activation = \"relu\")(conv_4_1)\n",
    "max_4 = layers.MaxPooling2D(pool_size = (2, 2), strides = (2, 2))(conv_4_2)\n",
    "\n",
    "\n",
    "# Add a classifier\n",
    "# Flattening layer\n",
    "flat = layers.Flatten()(max_4)\n",
    "\n",
    "# Dense 1 layer\n",
    "den_1 = layers.Dense(1024)(flat)\n",
    "\n",
    "# Dense 2 layer\n",
    "den_2 = layers.Dense(2)(den_1)\n",
    "\n",
    "# Output layer\n",
    "out_1 = layers.Dense(1, activation = \"sigmoid\")(den_2)\n",
    "\n",
    "\n",
    "# Define the model\n",
    "model_3 = Model(image_input, out_1)"
   ]
  },
  {
   "cell_type": "markdown",
   "id": "dd23418e-08fc-4935-a2fa-9dad222b1bb4",
   "metadata": {},
   "source": [
    "## Display the Architecture of the Convnet"
   ]
  },
  {
   "cell_type": "code",
   "execution_count": 20,
   "id": "3795b8d8-e162-4293-804b-1351c6afd3e6",
   "metadata": {},
   "outputs": [
    {
     "name": "stdout",
     "output_type": "stream",
     "text": [
      "Model: \"model\"\n",
      "_________________________________________________________________\n",
      " Layer (type)                Output Shape              Param #   \n",
      "=================================================================\n",
      " input_1 (InputLayer)        [(None, 512, 512, 1)]     0         \n",
      "                                                                 \n",
      " conv2d (Conv2D)             (None, 255, 255, 32)      320       \n",
      "                                                                 \n",
      " max_pooling2d (MaxPooling2D  (None, 85, 85, 32)       0         \n",
      " )                                                               \n",
      "                                                                 \n",
      " conv2d_1 (Conv2D)           (None, 42, 42, 64)        18496     \n",
      "                                                                 \n",
      " conv2d_2 (Conv2D)           (None, 40, 40, 64)        36928     \n",
      "                                                                 \n",
      " conv2d_3 (Conv2D)           (None, 38, 38, 64)        36928     \n",
      "                                                                 \n",
      " max_pooling2d_1 (MaxPooling  (None, 19, 19, 64)       0         \n",
      " 2D)                                                             \n",
      "                                                                 \n",
      " conv2d_4 (Conv2D)           (None, 17, 17, 128)       73856     \n",
      "                                                                 \n",
      " conv2d_5 (Conv2D)           (None, 15, 15, 128)       147584    \n",
      "                                                                 \n",
      " conv2d_6 (Conv2D)           (None, 13, 13, 128)       147584    \n",
      "                                                                 \n",
      " max_pooling2d_2 (MaxPooling  (None, 6, 6, 128)        0         \n",
      " 2D)                                                             \n",
      "                                                                 \n",
      " conv2d_7 (Conv2D)           (None, 4, 4, 128)         147584    \n",
      "                                                                 \n",
      " conv2d_8 (Conv2D)           (None, 2, 2, 128)         147584    \n",
      "                                                                 \n",
      " max_pooling2d_3 (MaxPooling  (None, 1, 1, 128)        0         \n",
      " 2D)                                                             \n",
      "                                                                 \n",
      " flatten (Flatten)           (None, 128)               0         \n",
      "                                                                 \n",
      " dense (Dense)               (None, 1024)              132096    \n",
      "                                                                 \n",
      " dense_1 (Dense)             (None, 2)                 2050      \n",
      "                                                                 \n",
      " dense_2 (Dense)             (None, 1)                 3         \n",
      "                                                                 \n",
      "=================================================================\n",
      "Total params: 891,013\n",
      "Trainable params: 891,013\n",
      "Non-trainable params: 0\n",
      "_________________________________________________________________\n"
     ]
    }
   ],
   "source": [
    "# Print out the summary of the model\n",
    "model_3.summary()"
   ]
  },
  {
   "cell_type": "code",
   "execution_count": 21,
   "id": "1e310974-79b1-44cb-9cf4-2ac42b5297dc",
   "metadata": {},
   "outputs": [],
   "source": [
    "# Set the png dot image file's path\n",
    "# Paper 3 - model_1\n",
    "# Paper 4 - model_2\n",
    "# Paper 5 - model_3\n",
    "dot_img_file = \"logs_graph/model_3.png\""
   ]
  },
  {
   "cell_type": "code",
   "execution_count": 22,
   "id": "22d6816e-b8ad-407c-bc35-106c1fd5aa47",
   "metadata": {},
   "outputs": [
    {
     "data": {
      "image/png": "[encoded data removed]",
      "text/plain": [
       "<IPython.core.display.Image object>"
      ]
     },
     "execution_count": 22,
     "metadata": {},
     "output_type": "execute_result"
    }
   ],
   "source": [
    "# Plot vertically\n",
    "tf.keras.utils.plot_model(model_3, to_file = dot_img_file, show_shapes = True, rankdir = \"TB\")"
   ]
  },
  {
   "cell_type": "markdown",
   "id": "2dab100b-4613-423c-b41a-7ff605393131",
   "metadata": {},
   "source": [
    "## Configuring the Model\n",
    "\n",
    "RMSprop and Adam used"
   ]
  },
  {
   "cell_type": "code",
   "execution_count": 23,
   "id": "843773c5-c5d0-4688-80af-c0bad5bd2ecf",
   "metadata": {},
   "outputs": [],
   "source": [
    "# Compile the model\n",
    "model_3.compile(loss = keras.losses.BinaryCrossentropy(), \n",
    "                optimizer = keras.optimizers.Adam(learning_rate = 3e-4), \n",
    "                metrics = [keras.metrics.BinaryAccuracy(name = \"accuracy\"),\n",
    "                           keras.metrics.Precision(), \n",
    "                           keras.metrics.Recall(), \n",
    "                           keras.metrics.TruePositives(),\n",
    "                           keras.metrics.TrueNegatives(),\n",
    "                           keras.metrics.FalsePositives(),\n",
    "                           keras.metrics.FalseNegatives()])"
   ]
  },
  {
   "cell_type": "markdown",
   "id": "4a6cf2d8-7140-44ad-b4ce-59dbac4a1694",
   "metadata": {},
   "source": [
    "## Define Directory Paths\n",
    "- train_path contains the training images.\n",
    "- validation_path contains the validation images.\n",
    "- test_path contains the testing images.\n",
    "- Split ratio are:\n",
    "    * Training: 75%\n",
    "    * Validation: 15%\n",
    "    * Testing: 10%"
   ]
  },
  {
   "cell_type": "code",
   "execution_count": 24,
   "id": "780c5798-e3b5-456c-ab34-fefb2a4b48b2",
   "metadata": {},
   "outputs": [],
   "source": [
    "train_path = \"RSNA_PNG_Mammograms_512/RSNA_PNG_Mammograms_512_Split/train_img/\"\n",
    "validation_path = \"RSNA_PNG_Mammograms_512/RSNA_PNG_Mammograms_512_Split/val_img/\"\n",
    "test_path = \"RSNA_PNG_Mammograms_512/RSNA_PNG_Mammograms_512_Split/test_img/\""
   ]
  },
  {
   "cell_type": "markdown",
   "id": "53a2f512-5a1b-46c3-a5f3-5338b9fc5cf8",
   "metadata": {},
   "source": [
    "## Using ImageDataGenerator to Read Images from Directories"
   ]
  },
  {
   "cell_type": "code",
   "execution_count": 25,
   "id": "d5461565-777f-428a-9e29-2337f89cb80a",
   "metadata": {},
   "outputs": [],
   "source": [
    "# Rescale the images\n",
    "image_gen = ImageDataGenerator(rescale = 1./255)"
   ]
  },
  {
   "cell_type": "code",
   "execution_count": 26,
   "id": "688a80dd-2482-4b40-bf5c-224fe25e794d",
   "metadata": {},
   "outputs": [
    {
     "name": "stdout",
     "output_type": "stream",
     "text": [
      "Found 1736 images belonging to 2 classes.\n"
     ]
    }
   ],
   "source": [
    "# Create a generator for the training images \n",
    "train_generator = image_gen.flow_from_directory(train_path,\n",
    "                                                target_size = (512, 512), \n",
    "                                                color_mode = \"grayscale\",\n",
    "                                                batch_size = 20, \n",
    "                                                class_mode = \"binary\")"
   ]
  },
  {
   "cell_type": "code",
   "execution_count": 27,
   "id": "738c0742-06fa-4d29-bdb5-02c88a61d6aa",
   "metadata": {},
   "outputs": [
    {
     "name": "stdout",
     "output_type": "stream",
     "text": [
      "Found 348 images belonging to 2 classes.\n"
     ]
    }
   ],
   "source": [
    "# Create a generator for the validation images \n",
    "validation_generator = image_gen.flow_from_directory(validation_path, \n",
    "                                                     target_size = (512, 512),\n",
    "                                                     color_mode = \"grayscale\",\n",
    "                                                     batch_size = 20, \n",
    "                                                     class_mode = \"binary\")"
   ]
  },
  {
   "cell_type": "code",
   "execution_count": 28,
   "id": "5f6784e6-7140-4498-9fa4-28df5a1899b8",
   "metadata": {},
   "outputs": [
    {
     "name": "stdout",
     "output_type": "stream",
     "text": [
      "Found 232 images belonging to 2 classes.\n"
     ]
    }
   ],
   "source": [
    "# Create a generator for the testing images \n",
    "test_generator = image_gen.flow_from_directory(test_path, \n",
    "                                               target_size = (512, 512),\n",
    "                                               color_mode = \"grayscale\",\n",
    "                                               batch_size = 20, \n",
    "                                               class_mode = \"binary\")"
   ]
  },
  {
   "cell_type": "code",
   "execution_count": 29,
   "id": "4d8a5bdf-b00d-44de-8e26-97df2cea9bb3",
   "metadata": {},
   "outputs": [
    {
     "data": {
      "text/plain": [
       "{'cancer': 0, 'no_cancer': 1}"
      ]
     },
     "execution_count": 29,
     "metadata": {},
     "output_type": "execute_result"
    }
   ],
   "source": [
    "# Print the classes available\n",
    "train_generator.class_indices"
   ]
  },
  {
   "cell_type": "code",
   "execution_count": 30,
   "id": "2bf8855a-9b51-4c91-9f77-ab07a103a4ed",
   "metadata": {},
   "outputs": [
    {
     "name": "stdout",
     "output_type": "stream",
     "text": [
      "data batch shape: (20, 512, 512, 1)\n",
      "labels batch shape: (20,)\n"
     ]
    }
   ],
   "source": [
    "for data_batch, labels_batch in train_generator:\n",
    "    print('data batch shape:', data_batch.shape)\n",
    "    print('labels batch shape:', labels_batch.shape)\n",
    "    break"
   ]
  },
  {
   "cell_type": "markdown",
   "id": "e47eff94-8d6c-4b07-bdd2-9abd3b7e8d45",
   "metadata": {},
   "source": [
    "## Early Stopping\n",
    "Interrupting training when the validation loss is no longer improving."
   ]
  },
  {
   "cell_type": "code",
   "execution_count": 31,
   "id": "6ecbcef2-0e43-4aa8-8ff3-76819f785133",
   "metadata": {},
   "outputs": [],
   "source": [
    "# Create the early stopping callback\n",
    "early_stop = EarlyStopping(monitor = \"val_loss\", \n",
    "                           patience = 3)"
   ]
  },
  {
   "cell_type": "markdown",
   "id": "2025ef4d-5e15-4676-b703-5253607b95e3",
   "metadata": {},
   "source": [
    "## Model Checkpoint\n",
    "Save the current weights of the model at different points during training."
   ]
  },
  {
   "cell_type": "code",
   "execution_count": 32,
   "id": "3889b0cc-4a44-4fe2-9477-c1098fb958e8",
   "metadata": {},
   "outputs": [],
   "source": [
    "# Create the model check callback\n",
    "model_check = ModelCheckpoint(filepath = \"logs_model/model_check.h5\",\n",
    "                              monitor = \"val_loss\",\n",
    "                              save_best_only = True)"
   ]
  },
  {
   "cell_type": "markdown",
   "id": "5bf4e029-93b3-438e-ab41-358c6be2ec04",
   "metadata": {},
   "source": [
    "## TensorBoard \n",
    "TensorBoard provides the visualization and tooling."
   ]
  },
  {
   "cell_type": "code",
   "execution_count": 33,
   "id": "05af068b-4655-4c79-94a3-09e64cd40079",
   "metadata": {},
   "outputs": [],
   "source": [
    "# Set the file name\n",
    "file_name = \"model_3\""
   ]
  },
  {
   "cell_type": "code",
   "execution_count": 34,
   "id": "e066c823-e4e1-40ce-b765-7eb32895b160",
   "metadata": {},
   "outputs": [],
   "source": [
    "# Create the tensorboard callback\n",
    "tensorboard_callback = TensorBoard(log_dir = \"logs_tensorboard/{}\".format(file_name), histogram_freq = 1)"
   ]
  },
  {
   "cell_type": "markdown",
   "id": "51df2ab3-2f3b-43e1-bccf-7c0543616d31",
   "metadata": {},
   "source": [
    "## Training the Model"
   ]
  },
  {
   "cell_type": "code",
   "execution_count": 34,
   "id": "fa93fd11-5c59-4715-b4b6-1e88fa41bd81",
   "metadata": {},
   "outputs": [
    {
     "name": "stdout",
     "output_type": "stream",
     "text": [
      "Epoch 1/20\n",
      "87/87 [==============================] - 26s 279ms/step - loss: 0.6938 - accuracy: 0.4896 - precision: 0.4908 - recall: 0.5541 - true_positives: 481.0000 - true_negatives: 369.0000 - false_positives: 499.0000 - false_negatives: 387.0000 - val_loss: 0.6932 - val_accuracy: 0.5115 - val_precision: 0.5074 - val_recall: 0.7931 - val_true_positives: 138.0000 - val_true_negatives: 40.0000 - val_false_positives: 134.0000 - val_false_negatives: 36.0000\n",
      "Epoch 2/20\n",
      "87/87 [==============================] - 24s 273ms/step - loss: 0.6936 - accuracy: 0.5063 - precision: 0.5159 - recall: 0.2051 - true_positives: 178.0000 - true_negatives: 701.0000 - false_positives: 167.0000 - false_negatives: 690.0000 - val_loss: 0.6936 - val_accuracy: 0.5000 - val_precision: 0.5000 - val_recall: 1.0000 - val_true_positives: 174.0000 - val_true_negatives: 0.0000e+00 - val_false_positives: 174.0000 - val_false_negatives: 0.0000e+00\n",
      "Epoch 3/20\n",
      "87/87 [==============================] - 24s 271ms/step - loss: 0.6935 - accuracy: 0.4902 - precision: 0.4940 - recall: 0.8030 - true_positives: 697.0000 - true_negatives: 154.0000 - false_positives: 714.0000 - false_negatives: 171.0000 - val_loss: 0.6931 - val_accuracy: 0.5000 - val_precision: 0.5000 - val_recall: 1.0000 - val_true_positives: 174.0000 - val_true_negatives: 0.0000e+00 - val_false_positives: 174.0000 - val_false_negatives: 0.0000e+00\n",
      "Epoch 4/20\n",
      "87/87 [==============================] - 24s 270ms/step - loss: 0.6951 - accuracy: 0.5132 - precision: 0.5075 - recall: 0.8940 - true_positives: 776.0000 - true_negatives: 115.0000 - false_positives: 753.0000 - false_negatives: 92.0000 - val_loss: 0.6930 - val_accuracy: 0.5000 - val_precision: 0.0000e+00 - val_recall: 0.0000e+00 - val_true_positives: 0.0000e+00 - val_true_negatives: 174.0000 - val_false_positives: 0.0000e+00 - val_false_negatives: 174.0000\n",
      "Epoch 5/20\n",
      "87/87 [==============================] - 23s 269ms/step - loss: 0.6937 - accuracy: 0.4942 - precision: 0.4913 - recall: 0.3260 - true_positives: 283.0000 - true_negatives: 575.0000 - false_positives: 293.0000 - false_negatives: 585.0000 - val_loss: 0.6931 - val_accuracy: 0.5000 - val_precision: 0.0000e+00 - val_recall: 0.0000e+00 - val_true_positives: 0.0000e+00 - val_true_negatives: 174.0000 - val_false_positives: 0.0000e+00 - val_false_negatives: 174.0000\n",
      "Epoch 6/20\n",
      "87/87 [==============================] - 23s 267ms/step - loss: 0.6934 - accuracy: 0.4954 - precision: 0.4977 - recall: 0.9839 - true_positives: 854.0000 - true_negatives: 6.0000 - false_positives: 862.0000 - false_negatives: 14.0000 - val_loss: 0.6931 - val_accuracy: 0.5000 - val_precision: 0.5000 - val_recall: 1.0000 - val_true_positives: 174.0000 - val_true_negatives: 0.0000e+00 - val_false_positives: 174.0000 - val_false_negatives: 0.0000e+00\n",
      "Epoch 7/20\n",
      "87/87 [==============================] - 24s 281ms/step - loss: 0.6935 - accuracy: 0.4965 - precision: 0.4937 - recall: 0.2707 - true_positives: 235.0000 - true_negatives: 627.0000 - false_positives: 241.0000 - false_negatives: 633.0000 - val_loss: 0.6931 - val_accuracy: 0.5000 - val_precision: 0.5000 - val_recall: 1.0000 - val_true_positives: 174.0000 - val_true_negatives: 0.0000e+00 - val_false_positives: 174.0000 - val_false_negatives: 0.0000e+00\n"
     ]
    }
   ],
   "source": [
    "# Fit the model \n",
    "history = model_3.fit(train_generator,\n",
    "                         epochs = 20,\n",
    "                         batch_size = 20, \n",
    "                         validation_data = validation_generator,\n",
    "                         callbacks = [early_stop, model_check, tensorboard_callback])"
   ]
  },
  {
   "cell_type": "markdown",
   "id": "556ea516-9fe7-4631-b008-82046b95295c",
   "metadata": {},
   "source": [
    "## Call the Tensorboard"
   ]
  },
  {
   "cell_type": "markdown",
   "id": "a425022e-91bd-41e9-abfe-8b3ea7ce04ee",
   "metadata": {},
   "source": [
    "#### By using the following commands in the Anaconda Prompt(mini):\n",
    "- conda activate tensorflowIO\r",
    "- cd C:\\Users\\miche\\Desktop\\CM3070 Final Project Code \r",
    "- \n",
    "tensorboard --logdir logs_tensorboard/"
   ]
  },
  {
   "cell_type": "markdown",
   "id": "d1915f3f-fec9-4065-a232-d007c99cd481",
   "metadata": {},
   "source": [
    "## Save the Model"
   ]
  },
  {
   "cell_type": "code",
   "execution_count": 35,
   "id": "17386566-3eb3-4698-a530-e25df309cf52",
   "metadata": {},
   "outputs": [],
   "source": [
    "# Save model\n",
    "model_3.save(\"logs_model/baseline_model_3.h5\")"
   ]
  },
  {
   "cell_type": "markdown",
   "id": "6d08ebd4-dfbb-4ffa-94b4-8c05c9dcc7c6",
   "metadata": {},
   "source": [
    "## Evaluating the Model"
   ]
  },
  {
   "cell_type": "markdown",
   "id": "6e60f9b9-47cc-4479-b009-55c7b50bdcb0",
   "metadata": {},
   "source": [
    "### Evaluate using Accuracy and Loss on Training and Validation Files"
   ]
  },
  {
   "cell_type": "code",
   "execution_count": 36,
   "id": "88cf4062-67cb-4b18-a112-d5defa940dbe",
   "metadata": {},
   "outputs": [
    {
     "name": "stdout",
     "output_type": "stream",
     "text": [
      "{'verbose': 1, 'epochs': 20, 'steps': 87}\n"
     ]
    }
   ],
   "source": [
    "print(history.params)"
   ]
  },
  {
   "cell_type": "code",
   "execution_count": 37,
   "id": "44a7f57b-9004-4c02-b806-eca580f3fc6c",
   "metadata": {},
   "outputs": [
    {
     "name": "stdout",
     "output_type": "stream",
     "text": [
      "dict_keys(['loss', 'accuracy', 'precision', 'recall', 'true_positives', 'true_negatives', 'false_positives', 'false_negatives', 'val_loss', 'val_accuracy', 'val_precision', 'val_recall', 'val_true_positives', 'val_true_negatives', 'val_false_positives', 'val_false_negatives'])\n"
     ]
    }
   ],
   "source": [
    "print(history.history.keys())"
   ]
  },
  {
   "cell_type": "code",
   "execution_count": 38,
   "id": "e8062ffd-6c3b-4044-8671-6a42b58750b7",
   "metadata": {},
   "outputs": [],
   "source": [
    "accuracy = history.history[\"accuracy\"]\n",
    "val_acc = history.history[\"val_accuracy\"]\n",
    "loss = history.history[\"loss\"]\n",
    "val_loss = history.history[\"val_loss\"]\n",
    "precision = history.history[\"precision\"]\n",
    "recall = history.history[\"recall\"]"
   ]
  },
  {
   "cell_type": "code",
   "execution_count": 39,
   "id": "3dd48e02-c2c8-40eb-bba2-e08d55a4094c",
   "metadata": {},
   "outputs": [],
   "source": [
    "epochs = range(1, len(accuracy) + 1)"
   ]
  },
  {
   "cell_type": "code",
   "execution_count": 40,
   "id": "9aecab02-5176-47f6-b9e8-bfd3c0e78567",
   "metadata": {},
   "outputs": [
    {
     "data": {
      "image/png": "[encoded data removed]",
      "text/plain": [
       "<Figure size 800x400 with 1 Axes>"
      ]
     },
     "metadata": {},
     "output_type": "display_data"
    },
    {
     "data": {
      "image/png": "[encoded data removed]",
      "text/plain": [
       "<Figure size 800x400 with 1 Axes>"
      ]
     },
     "metadata": {},
     "output_type": "display_data"
    }
   ],
   "source": [
    "# Make the plot\n",
    "plt.figure(figsize = (8, 4))\n",
    "\n",
    "# Define the different values\n",
    "plt.plot(epochs, accuracy, \"bo\", label = \"Training Acc\")\n",
    "plt.plot(epochs, val_acc, \"r\", label = \"Validation Acc\")\n",
    "\n",
    "# Adding title and legend\n",
    "plt.title(\"Training and Validation Accuracy\")\n",
    "plt.legend()\n",
    "\n",
    "# Make the plot\n",
    "plt.figure(figsize = (8, 4))\n",
    "\n",
    "# Define the different values\n",
    "plt.plot(epochs, loss, \"b--\", label = \"Training Loss\")\n",
    "plt.plot(epochs, val_loss, \"r\", label = \"Validation Loss\")\n",
    "\n",
    "# Adding title and legend\n",
    "plt.title(\"Training and Validation Loss\")\n",
    "plt.legend()\n",
    "\n",
    "# Show the plots\n",
    "plt.show()"
   ]
  },
  {
   "cell_type": "code",
   "execution_count": 41,
   "id": "466b562d-420e-4b7b-9621-c2fbc43e27ee",
   "metadata": {},
   "outputs": [
    {
     "data": {
      "text/plain": [
       "['loss',\n",
       " 'accuracy',\n",
       " 'precision',\n",
       " 'recall',\n",
       " 'true_positives',\n",
       " 'true_negatives',\n",
       " 'false_positives',\n",
       " 'false_negatives']"
      ]
     },
     "execution_count": 41,
     "metadata": {},
     "output_type": "execute_result"
    }
   ],
   "source": [
    "model_3.metrics_names"
   ]
  },
  {
   "cell_type": "markdown",
   "id": "88a82faf-a11e-4411-9a52-a6a09b12a0d1",
   "metadata": {},
   "source": [
    "### Evaluate using Confusion Matrix on Testing Files"
   ]
  },
  {
   "cell_type": "code",
   "execution_count": 42,
   "id": "d0915c9c-6c3f-4909-b896-bf8bc5c05804",
   "metadata": {},
   "outputs": [
    {
     "name": "stdout",
     "output_type": "stream",
     "text": [
      "12/12 [==============================] - 1s 73ms/step - loss: 0.6931 - accuracy: 0.5000 - precision: 0.5000 - recall: 1.0000 - true_positives: 116.0000 - true_negatives: 0.0000e+00 - false_positives: 116.0000 - false_negatives: 0.0000e+00\n"
     ]
    },
    {
     "data": {
      "text/plain": [
       "[0.6931489706039429, 0.5, 0.5, 1.0, 116.0, 0.0, 116.0, 0.0]"
      ]
     },
     "execution_count": 42,
     "metadata": {},
     "output_type": "execute_result"
    }
   ],
   "source": [
    "model_3.evaluate(test_generator)"
   ]
  },
  {
   "cell_type": "code",
   "execution_count": 43,
   "id": "6121793a-fc80-4ab4-8f15-6594b298fcbf",
   "metadata": {},
   "outputs": [
    {
     "data": {
      "text/plain": [
       "array([0, 0, 0, 0, 0, 0, 0, 0, 0, 0, 0, 0, 0, 0, 0, 0, 0, 0, 0, 0, 0, 0,\n",
       "       0, 0, 0, 0, 0, 0, 0, 0, 0, 0, 0, 0, 0, 0, 0, 0, 0, 0, 0, 0, 0, 0,\n",
       "       0, 0, 0, 0, 0, 0, 0, 0, 0, 0, 0, 0, 0, 0, 0, 0, 0, 0, 0, 0, 0, 0,\n",
       "       0, 0, 0, 0, 0, 0, 0, 0, 0, 0, 0, 0, 0, 0, 0, 0, 0, 0, 0, 0, 0, 0,\n",
       "       0, 0, 0, 0, 0, 0, 0, 0, 0, 0, 0, 0, 0, 0, 0, 0, 0, 0, 0, 0, 0, 0,\n",
       "       0, 0, 0, 0, 0, 0, 1, 1, 1, 1, 1, 1, 1, 1, 1, 1, 1, 1, 1, 1, 1, 1,\n",
       "       1, 1, 1, 1, 1, 1, 1, 1, 1, 1, 1, 1, 1, 1, 1, 1, 1, 1, 1, 1, 1, 1,\n",
       "       1, 1, 1, 1, 1, 1, 1, 1, 1, 1, 1, 1, 1, 1, 1, 1, 1, 1, 1, 1, 1, 1,\n",
       "       1, 1, 1, 1, 1, 1, 1, 1, 1, 1, 1, 1, 1, 1, 1, 1, 1, 1, 1, 1, 1, 1,\n",
       "       1, 1, 1, 1, 1, 1, 1, 1, 1, 1, 1, 1, 1, 1, 1, 1, 1, 1, 1, 1, 1, 1,\n",
       "       1, 1, 1, 1, 1, 1, 1, 1, 1, 1, 1, 1])"
      ]
     },
     "execution_count": 43,
     "metadata": {},
     "output_type": "execute_result"
    }
   ],
   "source": [
    "test_generator.classes"
   ]
  },
  {
   "cell_type": "code",
   "execution_count": 44,
   "id": "876c9432-d1be-4290-9976-2c80c979bbb3",
   "metadata": {},
   "outputs": [
    {
     "name": "stdout",
     "output_type": "stream",
     "text": [
      "12/12 [==============================] - 1s 70ms/step\n",
      "[[0.5010512 ]\n",
      " [0.5010537 ]\n",
      " [0.5010519 ]\n",
      " [0.5010525 ]\n",
      " [0.5010505 ]\n",
      " [0.5010512 ]\n",
      " [0.5010505 ]\n",
      " [0.5010536 ]\n",
      " [0.50105226]\n",
      " [0.50105083]]\n"
     ]
    }
   ],
   "source": [
    "predictions_probs = model_3.predict(test_generator)\n",
    "\n",
    "# Print the first 10 predictions probabilities\n",
    "print(predictions_probs[:10])"
   ]
  },
  {
   "cell_type": "code",
   "execution_count": 45,
   "id": "9c56436b-b64b-4fa4-af6b-3821f448a768",
   "metadata": {},
   "outputs": [
    {
     "name": "stdout",
     "output_type": "stream",
     "text": [
      "[[ True]\n",
      " [ True]\n",
      " [ True]\n",
      " [ True]\n",
      " [ True]\n",
      " [ True]\n",
      " [ True]\n",
      " [ True]\n",
      " [ True]\n",
      " [ True]]\n"
     ]
    }
   ],
   "source": [
    "# Create a predictions lists of True and False from the predictions probabilities \n",
    "predictions = predictions_probs > 0.5\n",
    "\n",
    "# Print the first 10 predictions\n",
    "print(predictions[:10])"
   ]
  },
  {
   "cell_type": "code",
   "execution_count": 46,
   "id": "cd3ac6a3-cde5-4449-af1b-4f28b2b662d0",
   "metadata": {},
   "outputs": [
    {
     "name": "stdout",
     "output_type": "stream",
     "text": [
      "              precision    recall  f1-score   support\n",
      "\n",
      "           0       0.00      0.00      0.00       116\n",
      "           1       0.50      1.00      0.67       116\n",
      "\n",
      "    accuracy                           0.50       232\n",
      "   macro avg       0.25      0.50      0.33       232\n",
      "weighted avg       0.25      0.50      0.33       232\n",
      "\n"
     ]
    },
    {
     "name": "stderr",
     "output_type": "stream",
     "text": [
      "C:\\Users\\miche\\miniconda3\\envs\\tensorflowIO\\lib\\site-packages\\sklearn\\metrics\\_classification.py:1517: UndefinedMetricWarning: Precision is ill-defined and being set to 0.0 in labels with no predicted samples. Use `zero_division` parameter to control this behavior.\n",
      "  _warn_prf(average, modifier, f\"{metric.capitalize()} is\", len(result))\n",
      "C:\\Users\\miche\\miniconda3\\envs\\tensorflowIO\\lib\\site-packages\\sklearn\\metrics\\_classification.py:1517: UndefinedMetricWarning: Precision is ill-defined and being set to 0.0 in labels with no predicted samples. Use `zero_division` parameter to control this behavior.\n",
      "  _warn_prf(average, modifier, f\"{metric.capitalize()} is\", len(result))\n",
      "C:\\Users\\miche\\miniconda3\\envs\\tensorflowIO\\lib\\site-packages\\sklearn\\metrics\\_classification.py:1517: UndefinedMetricWarning: Precision is ill-defined and being set to 0.0 in labels with no predicted samples. Use `zero_division` parameter to control this behavior.\n",
      "  _warn_prf(average, modifier, f\"{metric.capitalize()} is\", len(result))\n"
     ]
    }
   ],
   "source": [
    "report = classification_report(test_generator.classes, predictions)\n",
    "print(report)"
   ]
  },
  {
   "cell_type": "code",
   "execution_count": 47,
   "id": "f1927848-e137-42d5-99d9-c5e53eb0093c",
   "metadata": {},
   "outputs": [
    {
     "data": {
      "text/plain": [
       "array([[  0, 116],\n",
       "       [  0, 116]], dtype=int64)"
      ]
     },
     "execution_count": 47,
     "metadata": {},
     "output_type": "execute_result"
    }
   ],
   "source": [
    "# Compute the confusion matrix\n",
    "cm = confusion_matrix(test_generator.classes, predictions)\n",
    "cm"
   ]
  },
  {
   "cell_type": "code",
   "execution_count": 48,
   "id": "7ba1b2b2-d752-4b67-9b47-d11d940e1baf",
   "metadata": {},
   "outputs": [
    {
     "data": {
      "text/plain": [
       "['cancer', 'no_cancer']"
      ]
     },
     "execution_count": 48,
     "metadata": {},
     "output_type": "execute_result"
    }
   ],
   "source": [
    "# Get class labels from the generator\n",
    "class_labels = list(test_generator.class_indices.keys())\n",
    "\n",
    "# Show the class_labels\n",
    "class_labels"
   ]
  },
  {
   "cell_type": "markdown",
   "id": "539d14ca-5946-4699-9b50-3a8ba3e51e9b",
   "metadata": {},
   "source": [
    "## Load the Model"
   ]
  },
  {
   "cell_type": "code",
   "execution_count": 35,
   "id": "900962d6-1dd8-4f7e-b60e-e2208699b86a",
   "metadata": {},
   "outputs": [],
   "source": [
    "# Load the model\n",
    "model_3 = load_model(\"logs_model/baseline_model_3.h5\")"
   ]
  },
  {
   "cell_type": "code",
   "execution_count": 36,
   "id": "99458120-732e-4eab-bb48-012b58c2f65d",
   "metadata": {},
   "outputs": [
    {
     "name": "stdout",
     "output_type": "stream",
     "text": [
      "12/12 [==============================] - 1s 72ms/step\n"
     ]
    }
   ],
   "source": [
    "predictions_probs = model_3.predict(test_generator)"
   ]
  },
  {
   "cell_type": "code",
   "execution_count": 37,
   "id": "76ade8e4-2c22-4b72-aac8-cf0d2079210c",
   "metadata": {},
   "outputs": [],
   "source": [
    "# Create a predictions lists of True and False from the predictions probabilities \n",
    "predictions = predictions_probs > 0.5"
   ]
  },
  {
   "cell_type": "code",
   "execution_count": 38,
   "id": "e7d3a2d3-731d-4aa1-9118-0d1a4c05dbc7",
   "metadata": {},
   "outputs": [
    {
     "name": "stdout",
     "output_type": "stream",
     "text": [
      "              precision    recall  f1-score   support\n",
      "\n",
      "           0       0.00      0.00      0.00       116\n",
      "           1       0.50      1.00      0.67       116\n",
      "\n",
      "    accuracy                           0.50       232\n",
      "   macro avg       0.25      0.50      0.33       232\n",
      "weighted avg       0.25      0.50      0.33       232\n",
      "\n"
     ]
    },
    {
     "name": "stderr",
     "output_type": "stream",
     "text": [
      "C:\\Users\\miche\\miniconda3\\envs\\tensorflowIO\\lib\\site-packages\\sklearn\\metrics\\_classification.py:1517: UndefinedMetricWarning: Precision is ill-defined and being set to 0.0 in labels with no predicted samples. Use `zero_division` parameter to control this behavior.\n",
      "  _warn_prf(average, modifier, f\"{metric.capitalize()} is\", len(result))\n",
      "C:\\Users\\miche\\miniconda3\\envs\\tensorflowIO\\lib\\site-packages\\sklearn\\metrics\\_classification.py:1517: UndefinedMetricWarning: Precision is ill-defined and being set to 0.0 in labels with no predicted samples. Use `zero_division` parameter to control this behavior.\n",
      "  _warn_prf(average, modifier, f\"{metric.capitalize()} is\", len(result))\n",
      "C:\\Users\\miche\\miniconda3\\envs\\tensorflowIO\\lib\\site-packages\\sklearn\\metrics\\_classification.py:1517: UndefinedMetricWarning: Precision is ill-defined and being set to 0.0 in labels with no predicted samples. Use `zero_division` parameter to control this behavior.\n",
      "  _warn_prf(average, modifier, f\"{metric.capitalize()} is\", len(result))\n"
     ]
    }
   ],
   "source": [
    "report = classification_report(test_generator.classes, predictions)\n",
    "print(report)"
   ]
  },
  {
   "cell_type": "code",
   "execution_count": 39,
   "id": "26d2880c-ce57-40db-9f81-4a8755b12303",
   "metadata": {},
   "outputs": [
    {
     "data": {
      "text/plain": [
       "array([[  0, 116],\n",
       "       [  0, 116]], dtype=int64)"
      ]
     },
     "execution_count": 39,
     "metadata": {},
     "output_type": "execute_result"
    }
   ],
   "source": [
    "# Compute the confusion matrix\n",
    "cm = confusion_matrix(test_generator.classes, predictions)\n",
    "cm"
   ]
  },
  {
   "cell_type": "code",
   "execution_count": 41,
   "id": "2f9b36ef-0d2b-4b90-8fa1-45656a8cd984",
   "metadata": {},
   "outputs": [
    {
     "data": {
      "text/plain": [
       "['cancer', 'no_cancer']"
      ]
     },
     "execution_count": 41,
     "metadata": {},
     "output_type": "execute_result"
    }
   ],
   "source": [
    "# Get class labels from the generator\n",
    "class_labels = list(test_generator.class_indices.keys())\n",
    "\n",
    "# Show the class_labels\n",
    "class_labels"
   ]
  },
  {
   "cell_type": "markdown",
   "id": "89f0e8b1-99a9-42fa-b0c2-87f09881ace0",
   "metadata": {},
   "source": [
    "### Confusion Matrix as a Heatmap"
   ]
  },
  {
   "cell_type": "code",
   "execution_count": 42,
   "id": "dade5f45-5936-443d-b291-d1fee4cb0dcc",
   "metadata": {},
   "outputs": [
    {
     "data": {
      "image/png": "[encoded data removed]",
      "text/plain": [
       "<Figure size 600x600 with 2 Axes>"
      ]
     },
     "metadata": {},
     "output_type": "display_data"
    }
   ],
   "source": [
    "# Make the plot\n",
    "plt.figure(figsize=(6, 6))\n",
    "\n",
    "# Plotting\n",
    "sns.heatmap(cm, \n",
    "            annot = True, \n",
    "            cmap = \"GnBu\", \n",
    "            fmt = \"g\", \n",
    "            xticklabels = class_labels, \n",
    "            yticklabels = class_labels)\n",
    "\n",
    "# Adding labels and title\n",
    "plt.xlabel(\"Predicted\")\n",
    "plt.ylabel(\"Actual\")\n",
    "plt.title(\"Confusion Matrix Heatmap\")\n",
    "\n",
    "# Show plot\n",
    "plt.show()"
   ]
  },
  {
   "cell_type": "code",
   "execution_count": null,
   "id": "664b85ec-9e49-42f5-844b-157f69d29c9b",
   "metadata": {},
   "outputs": [],
   "source": []
  }
 ],
 "metadata": {
  "kernelspec": {
   "display_name": "Python (tensorflowIO)",
   "language": "python",
   "name": "tensorflowio"
  },
  "language_info": {
   "codemirror_mode": {
    "name": "ipython",
    "version": 3
   },
   "file_extension": ".py",
   "mimetype": "text/x-python",
   "name": "python",
   "nbconvert_exporter": "python",
   "pygments_lexer": "ipython3",
   "version": "3.9.19"
  }
 },
 "nbformat": 4,
 "nbformat_minor": 5
}
