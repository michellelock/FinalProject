{
 "cells": [
  {
   "cell_type": "markdown",
   "id": "6701da01-1654-40cd-a69b-847b6e09741a",
   "metadata": {},
   "source": [
    "# The DICOM to PNG Cropped Notebook\n",
    "\n",
    "##### This notebook splits the cancer and no cancer classes further into craniocaudal (cc) and mediolateral oblique (MLO) views.\n",
    "##### Ensure the views correlate. Meaning for each cc view of patient x, there is a mlo view of patient x. \r",
    "##### Applies pre-processing techniques and crops the images to the breast region.\r\n"
   ]
  },
  {
   "cell_type": "markdown",
   "id": "6823f56d-52d0-4032-92cc-5d1989ad8a3c",
   "metadata": {},
   "source": [
    "## Import the Relevant Libraries"
   ]
  },
  {
   "cell_type": "code",
   "execution_count": 1,
   "id": "ea7aabde-7c22-4595-b812-7646b6aa184d",
   "metadata": {},
   "outputs": [],
   "source": [
    "# Allows for the access to the image directories\n",
    "import os"
   ]
  },
  {
   "cell_type": "code",
   "execution_count": 2,
   "id": "8b04e268-ae0a-4c2b-82b1-3fa1281b5085",
   "metadata": {},
   "outputs": [],
   "source": [
    "# Allows for me to work with the DICOM files\n",
    "import pydicom"
   ]
  },
  {
   "cell_type": "code",
   "execution_count": 3,
   "id": "12c72135-538b-43f7-b26a-a142c29c71f1",
   "metadata": {},
   "outputs": [],
   "source": [
    "# Allows me to work with and manipulate the image array\n",
    "import numpy as np"
   ]
  },
  {
   "cell_type": "code",
   "execution_count": 4,
   "id": "dc1d6da5-7aa5-4611-9275-56d24ffaed33",
   "metadata": {},
   "outputs": [],
   "source": [
    "# Allows me to apply pre-processing techniques to the images\n",
    "import cv2"
   ]
  },
  {
   "cell_type": "code",
   "execution_count": 5,
   "id": "235103f4-6e95-4ae3-869a-0281cc42ba21",
   "metadata": {},
   "outputs": [],
   "source": [
    "# Allows for dataframe creation as well as manipulation and cleaning of the data\n",
    "import pandas as pd"
   ]
  },
  {
   "cell_type": "markdown",
   "id": "6d1e999d-3562-4a90-a6f3-d8f2f37c57a1",
   "metadata": {},
   "source": [
    "## Import and Read the CSV File - Cancer "
   ]
  },
  {
   "cell_type": "code",
   "execution_count": 6,
   "id": "e4a65220-d1e5-48f0-a5bb-cf5caf6e57fd",
   "metadata": {},
   "outputs": [],
   "source": [
    "# Metadata of the training images - cancer\n",
    "cancer_meta = pd.read_csv(\"new_sorted_cancer_df.csv\")"
   ]
  },
  {
   "cell_type": "code",
   "execution_count": 7,
   "id": "c76772d3-a4a8-42fb-bc66-181912baa897",
   "metadata": {},
   "outputs": [
    {
     "data": {
      "text/html": [
       "<div>\n",
       "<style scoped>\n",
       "    .dataframe tbody tr th:only-of-type {\n",
       "        vertical-align: middle;\n",
       "    }\n",
       "\n",
       "    .dataframe tbody tr th {\n",
       "        vertical-align: top;\n",
       "    }\n",
       "\n",
       "    .dataframe thead th {\n",
       "        text-align: right;\n",
       "    }\n",
       "</style>\n",
       "<table border=\"1\" class=\"dataframe\">\n",
       "  <thead>\n",
       "    <tr style=\"text-align: right;\">\n",
       "      <th></th>\n",
       "      <th>patient_image_id</th>\n",
       "      <th>site_id</th>\n",
       "      <th>patient_id</th>\n",
       "      <th>image_id</th>\n",
       "      <th>laterality</th>\n",
       "      <th>view</th>\n",
       "      <th>age</th>\n",
       "      <th>cancer</th>\n",
       "      <th>biopsy</th>\n",
       "      <th>invasive</th>\n",
       "      <th>BIRADS</th>\n",
       "      <th>implant</th>\n",
       "      <th>density</th>\n",
       "      <th>machine_id</th>\n",
       "      <th>difficult_negative_case</th>\n",
       "    </tr>\n",
       "  </thead>\n",
       "  <tbody>\n",
       "    <tr>\n",
       "      <th>0</th>\n",
       "      <td>10130_1360338805</td>\n",
       "      <td>1</td>\n",
       "      <td>10130</td>\n",
       "      <td>1360338805</td>\n",
       "      <td>L</td>\n",
       "      <td>CC</td>\n",
       "      <td>71.0</td>\n",
       "      <td>1</td>\n",
       "      <td>1</td>\n",
       "      <td>1</td>\n",
       "      <td>0.0</td>\n",
       "      <td>0</td>\n",
       "      <td>B</td>\n",
       "      <td>49</td>\n",
       "      <td>False</td>\n",
       "    </tr>\n",
       "    <tr>\n",
       "      <th>1</th>\n",
       "      <td>10130_1672636630</td>\n",
       "      <td>1</td>\n",
       "      <td>10130</td>\n",
       "      <td>1672636630</td>\n",
       "      <td>L</td>\n",
       "      <td>MLO</td>\n",
       "      <td>71.0</td>\n",
       "      <td>1</td>\n",
       "      <td>1</td>\n",
       "      <td>1</td>\n",
       "      <td>0.0</td>\n",
       "      <td>0</td>\n",
       "      <td>B</td>\n",
       "      <td>49</td>\n",
       "      <td>False</td>\n",
       "    </tr>\n",
       "  </tbody>\n",
       "</table>\n",
       "</div>"
      ],
      "text/plain": [
       "   patient_image_id  site_id  patient_id    image_id laterality view   age  \\\n",
       "0  10130_1360338805        1       10130  1360338805          L   CC  71.0   \n",
       "1  10130_1672636630        1       10130  1672636630          L  MLO  71.0   \n",
       "\n",
       "   cancer  biopsy  invasive  BIRADS  implant density  machine_id  \\\n",
       "0       1       1         1     0.0        0       B          49   \n",
       "1       1       1         1     0.0        0       B          49   \n",
       "\n",
       "   difficult_negative_case  \n",
       "0                    False  \n",
       "1                    False  "
      ]
     },
     "execution_count": 7,
     "metadata": {},
     "output_type": "execute_result"
    }
   ],
   "source": [
    "# Display the first 2 rows of the metadata\n",
    "cancer_meta.head(2)"
   ]
  },
  {
   "cell_type": "code",
   "execution_count": 8,
   "id": "b5ce8d21-9e60-42b3-8cf2-b327932cf4fd",
   "metadata": {},
   "outputs": [
    {
     "name": "stdout",
     "output_type": "stream",
     "text": [
      "['CC' 'MLO' 'AT']\n"
     ]
    }
   ],
   "source": [
    "# Get unique values of the view column\n",
    "unique_views_cancer = cancer_meta[\"view\"].unique()\n",
    "\n",
    "# Print the views of the mammography images in use \n",
    "print(unique_views_cancer)"
   ]
  },
  {
   "cell_type": "markdown",
   "id": "17aa6c2c-5b91-4cbf-b594-9fbb8fc4a20c",
   "metadata": {},
   "source": [
    "## Import and Read the CSV File - No Cancer "
   ]
  },
  {
   "cell_type": "code",
   "execution_count": 9,
   "id": "1260b795-27b0-4998-931f-dacdd2f96345",
   "metadata": {},
   "outputs": [],
   "source": [
    "# Metadata of the training images - no cancer\n",
    "no_cancer_meta = pd.read_csv(\"new_sorted_non_cancer_df.csv\")"
   ]
  },
  {
   "cell_type": "code",
   "execution_count": 10,
   "id": "248c0e27-be2e-4309-b9c2-5e3efbd86166",
   "metadata": {},
   "outputs": [
    {
     "data": {
      "text/html": [
       "<div>\n",
       "<style scoped>\n",
       "    .dataframe tbody tr th:only-of-type {\n",
       "        vertical-align: middle;\n",
       "    }\n",
       "\n",
       "    .dataframe tbody tr th {\n",
       "        vertical-align: top;\n",
       "    }\n",
       "\n",
       "    .dataframe thead th {\n",
       "        text-align: right;\n",
       "    }\n",
       "</style>\n",
       "<table border=\"1\" class=\"dataframe\">\n",
       "  <thead>\n",
       "    <tr style=\"text-align: right;\">\n",
       "      <th></th>\n",
       "      <th>patient_image_id</th>\n",
       "      <th>site_id</th>\n",
       "      <th>patient_id</th>\n",
       "      <th>image_id</th>\n",
       "      <th>laterality</th>\n",
       "      <th>view</th>\n",
       "      <th>age</th>\n",
       "      <th>cancer</th>\n",
       "      <th>biopsy</th>\n",
       "      <th>invasive</th>\n",
       "      <th>BIRADS</th>\n",
       "      <th>implant</th>\n",
       "      <th>density</th>\n",
       "      <th>machine_id</th>\n",
       "      <th>difficult_negative_case</th>\n",
       "    </tr>\n",
       "  </thead>\n",
       "  <tbody>\n",
       "    <tr>\n",
       "      <th>2263</th>\n",
       "      <td>9549_760279512</td>\n",
       "      <td>1</td>\n",
       "      <td>9549</td>\n",
       "      <td>760279512</td>\n",
       "      <td>L</td>\n",
       "      <td>MLO</td>\n",
       "      <td>48.0</td>\n",
       "      <td>0</td>\n",
       "      <td>0</td>\n",
       "      <td>0</td>\n",
       "      <td>2.0</td>\n",
       "      <td>0</td>\n",
       "      <td>A</td>\n",
       "      <td>49</td>\n",
       "      <td>False</td>\n",
       "    </tr>\n",
       "    <tr>\n",
       "      <th>2264</th>\n",
       "      <td>9549_856218783</td>\n",
       "      <td>1</td>\n",
       "      <td>9549</td>\n",
       "      <td>856218783</td>\n",
       "      <td>R</td>\n",
       "      <td>CC</td>\n",
       "      <td>48.0</td>\n",
       "      <td>0</td>\n",
       "      <td>0</td>\n",
       "      <td>0</td>\n",
       "      <td>2.0</td>\n",
       "      <td>0</td>\n",
       "      <td>A</td>\n",
       "      <td>49</td>\n",
       "      <td>False</td>\n",
       "    </tr>\n",
       "  </tbody>\n",
       "</table>\n",
       "</div>"
      ],
      "text/plain": [
       "     patient_image_id  site_id  patient_id   image_id laterality view   age  \\\n",
       "2263   9549_760279512        1        9549  760279512          L  MLO  48.0   \n",
       "2264   9549_856218783        1        9549  856218783          R   CC  48.0   \n",
       "\n",
       "      cancer  biopsy  invasive  BIRADS  implant density  machine_id  \\\n",
       "2263       0       0         0     2.0        0       A          49   \n",
       "2264       0       0         0     2.0        0       A          49   \n",
       "\n",
       "      difficult_negative_case  \n",
       "2263                    False  \n",
       "2264                    False  "
      ]
     },
     "execution_count": 10,
     "metadata": {},
     "output_type": "execute_result"
    }
   ],
   "source": [
    "# Display the lats 2 rows of the metadata\n",
    "no_cancer_meta.tail(2)"
   ]
  },
  {
   "cell_type": "code",
   "execution_count": 11,
   "id": "da5cc3ac-650f-4698-9fa7-264fa78e3de4",
   "metadata": {},
   "outputs": [
    {
     "name": "stdout",
     "output_type": "stream",
     "text": [
      "['CC' 'MLO' 'LM' 'AT']\n"
     ]
    }
   ],
   "source": [
    "# Get unique values of the view column\n",
    "unique_views_no_cancer = no_cancer_meta[\"view\"].unique()\n",
    "\n",
    "# Print the views of the mammography images in use \n",
    "print(unique_views_no_cancer)"
   ]
  },
  {
   "cell_type": "markdown",
   "id": "77442998-3548-4100-974c-d488cb53c4f1",
   "metadata": {},
   "source": [
    "## Compile Cancer and No Cancer ID Lists with Views"
   ]
  },
  {
   "cell_type": "markdown",
   "id": "0087c57c-c579-446f-b77a-1152d0b0b03e",
   "metadata": {},
   "source": [
    "### Cancer"
   ]
  },
  {
   "cell_type": "markdown",
   "id": "e3a33c62-6767-4da2-b895-3d2fc94aba1e",
   "metadata": {},
   "source": [
    "#### CC - CranioCaudal View"
   ]
  },
  {
   "cell_type": "code",
   "execution_count": 12,
   "id": "74cef524-e717-46d9-8fc7-4e703a7abf64",
   "metadata": {},
   "outputs": [],
   "source": [
    "# Filter the cancer dataframe by the CC view\n",
    "cancer_CC = cancer_meta[cancer_meta[\"view\"] == \"CC\"]"
   ]
  },
  {
   "cell_type": "code",
   "execution_count": 13,
   "id": "3ddd0d3a-db94-46af-8c50-7b84af43af30",
   "metadata": {},
   "outputs": [],
   "source": [
    "# Assign the patient_image_id with a CC view to a list\n",
    "cancer_CC_list = cancer_CC[\"patient_image_id\"].tolist()"
   ]
  },
  {
   "cell_type": "code",
   "execution_count": 14,
   "id": "9500e091-cd16-4104-9b0d-8255321a0a61",
   "metadata": {},
   "outputs": [
    {
     "name": "stdout",
     "output_type": "stream",
     "text": [
      "566\n"
     ]
    }
   ],
   "source": [
    "# Print the length of the list\n",
    "print(len(cancer_CC_list))"
   ]
  },
  {
   "cell_type": "markdown",
   "id": "140ac56b-f188-4b60-85d8-b46eed3f7aeb",
   "metadata": {},
   "source": [
    "#### MLO - MedioLateral Oblique View"
   ]
  },
  {
   "cell_type": "code",
   "execution_count": 15,
   "id": "efa357e3-d523-4859-b187-fa758fb758b4",
   "metadata": {},
   "outputs": [],
   "source": [
    "cancer_MLO = cancer_meta[cancer_meta[\"view\"] == \"MLO\"]"
   ]
  },
  {
   "cell_type": "code",
   "execution_count": 16,
   "id": "d20064a2-0338-40b2-9067-d4551ab7d320",
   "metadata": {},
   "outputs": [],
   "source": [
    "# Assign the patient_image_id with a MLO view to a list\n",
    "cancer_MLO_list = cancer_MLO[\"patient_image_id\"].tolist()"
   ]
  },
  {
   "cell_type": "code",
   "execution_count": 17,
   "id": "6582f78f-10ef-4ee6-9b31-d5facb2f3017",
   "metadata": {},
   "outputs": [
    {
     "name": "stdout",
     "output_type": "stream",
     "text": [
      "590\n"
     ]
    }
   ],
   "source": [
    "# Print the length of the list\n",
    "print(len(cancer_MLO_list))"
   ]
  },
  {
   "cell_type": "markdown",
   "id": "49e2d7fc-f5a9-4e38-a3f0-af6b4ac9ae35",
   "metadata": {},
   "source": [
    "#### AT - Axillary Tail View"
   ]
  },
  {
   "cell_type": "code",
   "execution_count": 18,
   "id": "8e5cb68f-306c-45a4-ba5b-c8e783d8fc14",
   "metadata": {},
   "outputs": [],
   "source": [
    "# Filter the cancer dataframe by the CC view\n",
    "cancer_AT = cancer_meta[cancer_meta[\"view\"] == \"AT\"]"
   ]
  },
  {
   "cell_type": "code",
   "execution_count": 19,
   "id": "e7a2dce2-aa01-4c46-983d-7c51ec420f89",
   "metadata": {},
   "outputs": [],
   "source": [
    "# Assign the patient_image_id with a CC view to a list\n",
    "cancer_AT_list = cancer_AT[\"patient_image_id\"].tolist()"
   ]
  },
  {
   "cell_type": "code",
   "execution_count": 20,
   "id": "bc2866b1-ab7a-44be-8ffc-784f4adc3468",
   "metadata": {},
   "outputs": [
    {
     "name": "stdout",
     "output_type": "stream",
     "text": [
      "2\n"
     ]
    }
   ],
   "source": [
    "# Print the length of the list\n",
    "print(len(cancer_AT_list))"
   ]
  },
  {
   "cell_type": "markdown",
   "id": "a77d70de-077c-4d50-be50-1d9af68be79a",
   "metadata": {},
   "source": [
    "###### The Axillary Tail View only consists of two images, so these images will not be part of the dataset used in the CNN."
   ]
  },
  {
   "cell_type": "markdown",
   "id": "fb8be89a-7316-4962-ba91-db26a816196b",
   "metadata": {},
   "source": [
    "#### Equal Lengths CC and MLO View with Patient ID Correspondence"
   ]
  },
  {
   "cell_type": "code",
   "execution_count": 21,
   "id": "27d2fe58-7230-4e44-b4ad-49d7288a26af",
   "metadata": {},
   "outputs": [],
   "source": [
    "# New cancer_CC_list of length ?\n",
    "c_CC_list = []\n",
    "# New cancer_MLO_list of length ?\n",
    "c_MLO_list = []\n",
    "\n",
    "# Iterate through each id in cancer_CC_list\n",
    "for cc_id in cancer_CC_list:\n",
    "    # Get the patient id \n",
    "    cc_patient_id, cc_image_id = cc_id.split(\"_\")\n",
    "    \n",
    "    # Iterate through each id in cancer_MLO_list\n",
    "    for mlo_id in cancer_MLO_list:\n",
    "        # Get the patient id \n",
    "        mlo_patient_id, mlo_image_id = mlo_id.split(\"_\")\n",
    "\n",
    "        # Compare the id's\n",
    "        if cc_patient_id == mlo_patient_id and mlo_id not in c_MLO_list and cc_id not in c_CC_list:\n",
    "            c_CC_list.append(cc_id)\n",
    "            c_MLO_list.append(mlo_id)\n",
    "            # Break the inner loop and move to the next cc_id\n",
    "            break  "
   ]
  },
  {
   "cell_type": "code",
   "execution_count": 22,
   "id": "6d529683-b651-42b7-b231-15819df8298f",
   "metadata": {},
   "outputs": [
    {
     "data": {
      "text/plain": [
       "['10130_1360338805',\n",
       " '10130_613462606',\n",
       " '10226_530620473',\n",
       " '1025_773597682',\n",
       " '10432_458553546']"
      ]
     },
     "execution_count": 22,
     "metadata": {},
     "output_type": "execute_result"
    }
   ],
   "source": [
    "c_CC_list[:5]"
   ]
  },
  {
   "cell_type": "code",
   "execution_count": 23,
   "id": "c7422ea4-8e75-46a8-afd9-940802d960fe",
   "metadata": {},
   "outputs": [
    {
     "data": {
      "text/plain": [
       "['10130_1672636630',\n",
       " '10130_388811999',\n",
       " '10226_461614796',\n",
       " '1025_1803952236',\n",
       " '10432_1434858530']"
      ]
     },
     "execution_count": 23,
     "metadata": {},
     "output_type": "execute_result"
    }
   ],
   "source": [
    "c_MLO_list[:5]"
   ]
  },
  {
   "cell_type": "code",
   "execution_count": 24,
   "id": "c5a900aa-7842-49b6-b2bf-1a3c547ed59a",
   "metadata": {},
   "outputs": [
    {
     "name": "stdout",
     "output_type": "stream",
     "text": [
      "518\n"
     ]
    }
   ],
   "source": [
    "count = 0 \n",
    "\n",
    "# Iterate through each id in both views\n",
    "for cc_id, mlo_id in zip(c_CC_list, c_MLO_list):\n",
    "    # Get the patient id \n",
    "    cc_patient_id, cc_image_id = cc_id.split(\"_\")\n",
    "    mlo_patient_id, mlo_image_id = mlo_id.split(\"_\")\n",
    "\n",
    "    # Check if they correlate\n",
    "    if cc_patient_id == mlo_patient_id:\n",
    "        count += 1\n",
    "\n",
    "print(count)"
   ]
  },
  {
   "cell_type": "code",
   "execution_count": 25,
   "id": "b30e81af-acb7-4fb0-9c08-e5cb3098303a",
   "metadata": {},
   "outputs": [
    {
     "name": "stdout",
     "output_type": "stream",
     "text": [
      "Cancer - cc view:  518\n",
      "Cancer - mlo view:  518\n"
     ]
    }
   ],
   "source": [
    "print(\"Cancer - cc view: \", len(c_CC_list))\n",
    "print(\"Cancer - mlo view: \", len(c_MLO_list))"
   ]
  },
  {
   "cell_type": "markdown",
   "id": "5325da73-3e3a-4ae8-89e6-519b76232f0d",
   "metadata": {},
   "source": [
    "### No Cancer"
   ]
  },
  {
   "cell_type": "markdown",
   "id": "6db97063-720f-414a-8ebe-95582046e36e",
   "metadata": {},
   "source": [
    "#### CC - CranioCaudal View"
   ]
  },
  {
   "cell_type": "code",
   "execution_count": 26,
   "id": "ad3a068d-4be8-4787-bb13-d5835dafc658",
   "metadata": {},
   "outputs": [],
   "source": [
    "# Filter the cancer dataframe by the CC view\n",
    "no_cancer_CC = no_cancer_meta[no_cancer_meta[\"view\"] == \"CC\"]"
   ]
  },
  {
   "cell_type": "code",
   "execution_count": 27,
   "id": "6e5a8c7f-3a26-4017-871d-d467c6094c9e",
   "metadata": {},
   "outputs": [],
   "source": [
    "# Assign the patient_image_id with a CC view to a list\n",
    "no_cancer_CC_list = no_cancer_CC[\"patient_image_id\"].tolist()"
   ]
  },
  {
   "cell_type": "code",
   "execution_count": 28,
   "id": "33a2608a-fe6d-42a1-ac7e-f2d58f570cc5",
   "metadata": {},
   "outputs": [
    {
     "name": "stdout",
     "output_type": "stream",
     "text": [
      "1125\n"
     ]
    }
   ],
   "source": [
    "# Print the length of the list\n",
    "print(len(no_cancer_CC_list))"
   ]
  },
  {
   "cell_type": "markdown",
   "id": "42e7533e-d783-4196-9ebb-16ae81d3d82e",
   "metadata": {},
   "source": [
    "#### MLO - MedioLateral Oblique View"
   ]
  },
  {
   "cell_type": "code",
   "execution_count": 29,
   "id": "34ff08fd-3896-4cc1-ae7c-f6089d8ca608",
   "metadata": {},
   "outputs": [],
   "source": [
    "no_cancer_MLO = no_cancer_meta[no_cancer_meta[\"view\"] == \"MLO\"]"
   ]
  },
  {
   "cell_type": "code",
   "execution_count": 30,
   "id": "07c3dc2b-f102-4b9d-8c1d-d4fcd874c5ff",
   "metadata": {},
   "outputs": [],
   "source": [
    "# Assign the patient_image_id with a MLO view to a list\n",
    "no_cancer_MLO_list = no_cancer_MLO[\"patient_image_id\"].tolist()"
   ]
  },
  {
   "cell_type": "code",
   "execution_count": 31,
   "id": "cbc11434-6802-4e9a-a3c5-dd23d76973f7",
   "metadata": {},
   "outputs": [
    {
     "name": "stdout",
     "output_type": "stream",
     "text": [
      "1136\n"
     ]
    }
   ],
   "source": [
    "# Print the length of the list\n",
    "print(len(no_cancer_MLO_list))"
   ]
  },
  {
   "cell_type": "markdown",
   "id": "499c3abe-71d3-43de-a32e-368101074202",
   "metadata": {},
   "source": [
    "#### Equal Lengths CC and MLO View with Patient ID Correspondence"
   ]
  },
  {
   "cell_type": "code",
   "execution_count": 32,
   "id": "c9429cec-89a6-42db-8133-e7238bf3f4ea",
   "metadata": {},
   "outputs": [],
   "source": [
    "# New no_cancer_CC_list of length ?\n",
    "nc_CC_list = []\n",
    "# New no_cancer_MLO_list of length ?\n",
    "nc_MLO_list = []\n",
    "\n",
    "# Iterate through each id in no_cancer_CC_list\n",
    "for cc_id in no_cancer_CC_list:\n",
    "    # Get the patient id \n",
    "    cc_patient_id, cc_image_id = cc_id.split(\"_\")\n",
    "    \n",
    "    # Iterate through each id in no_cancer_MLO_list\n",
    "    for mlo_id in no_cancer_MLO_list:\n",
    "        # Get the patient id \n",
    "        mlo_patient_id, mlo_image_id = mlo_id.split(\"_\")\n",
    "\n",
    "        # Compare the id's\n",
    "        if cc_patient_id == mlo_patient_id and mlo_id not in nc_MLO_list and cc_id not in nc_CC_list:\n",
    "            nc_CC_list.append(cc_id)\n",
    "            nc_MLO_list.append(mlo_id)\n",
    "            # Break the inner loop and move to the next cc_id\n",
    "            break "
   ]
  },
  {
   "cell_type": "code",
   "execution_count": 33,
   "id": "12bf907a-b862-4fe2-b793-30871b5d0ab3",
   "metadata": {},
   "outputs": [
    {
     "data": {
      "text/plain": [
       "['10095_1450760951',\n",
       " '10200_134267365',\n",
       " '10200_161478494',\n",
       " '10200_534538517',\n",
       " '10200_846834855']"
      ]
     },
     "execution_count": 33,
     "metadata": {},
     "output_type": "execute_result"
    }
   ],
   "source": [
    "nc_CC_list[:5]"
   ]
  },
  {
   "cell_type": "code",
   "execution_count": 34,
   "id": "8bdc515c-f137-4f10-8e1c-750d2e22d22b",
   "metadata": {},
   "outputs": [
    {
     "data": {
      "text/plain": [
       "['10095_1854592291',\n",
       " '10200_1422756511',\n",
       " '10200_1620368761',\n",
       " '10200_570041037',\n",
       " '10200_600223902']"
      ]
     },
     "execution_count": 34,
     "metadata": {},
     "output_type": "execute_result"
    }
   ],
   "source": [
    "nc_MLO_list[:5]"
   ]
  },
  {
   "cell_type": "code",
   "execution_count": 35,
   "id": "1f1a5589-c482-4506-941f-e351dd91ff7e",
   "metadata": {},
   "outputs": [
    {
     "name": "stdout",
     "output_type": "stream",
     "text": [
      "971\n"
     ]
    }
   ],
   "source": [
    "count = 0 \n",
    "\n",
    "# Iterate through each id in both views\n",
    "for cc_id, mlo_id in zip(nc_CC_list, nc_MLO_list):\n",
    "    # Get the patient id \n",
    "    cc_patient_id, cc_image_id = cc_id.split(\"_\")\n",
    "    mlo_patient_id, mlo_image_id = mlo_id.split(\"_\")\n",
    "\n",
    "    # Check if they correlate\n",
    "    if cc_patient_id == mlo_patient_id:\n",
    "        count += 1\n",
    "\n",
    "print(count)"
   ]
  },
  {
   "cell_type": "code",
   "execution_count": 36,
   "id": "2ba9fabd-0409-4c0a-8968-b4e0255ccb0b",
   "metadata": {},
   "outputs": [
    {
     "name": "stdout",
     "output_type": "stream",
     "text": [
      "No cancer - cc view:  971\n",
      "No cancer - mlo view:  971\n"
     ]
    }
   ],
   "source": [
    "print(\"No cancer - cc view: \", len(nc_CC_list))\n",
    "print(\"No cancer - mlo view: \",len(nc_MLO_list))"
   ]
  },
  {
   "cell_type": "markdown",
   "id": "2e39cd90-be66-4e58-9f19-e6062156bb7a",
   "metadata": {},
   "source": [
    "## Ensure No Doubles"
   ]
  },
  {
   "cell_type": "code",
   "execution_count": 37,
   "id": "7db40113-0de6-4a4c-a3be-dc288879bd8c",
   "metadata": {},
   "outputs": [],
   "source": [
    "# Add the cc and mlo list of cancer \n",
    "c_lst = c_CC_list + c_MLO_list\n",
    "\n",
    "# Add the cc and mlo list of no cancer \n",
    "nc_lst = nc_CC_list + nc_MLO_list"
   ]
  },
  {
   "cell_type": "code",
   "execution_count": 38,
   "id": "b8d203a3-fb21-4d4c-a749-6b6b307fb6fd",
   "metadata": {},
   "outputs": [
    {
     "name": "stdout",
     "output_type": "stream",
     "text": [
      "No duplicates found - each item is only in one list.\n"
     ]
    }
   ],
   "source": [
    "# Combine all the lists\n",
    "combined_list = c_lst + nc_lst\n",
    "\n",
    "# Create a set from the combined list\n",
    "combined_set = set(combined_list)\n",
    "\n",
    "# Compare the lengths to check for duplicates\n",
    "if len(combined_list) == len(combined_set):\n",
    "    print(\"No duplicates found - each item is only in one list.\")\n",
    "else:\n",
    "    print(\"Duplicates found - some items appear in multiple lists.\")"
   ]
  },
  {
   "cell_type": "markdown",
   "id": "83ef7588-9ecf-47a4-8cfc-e379c64e2efe",
   "metadata": {},
   "source": [
    "## Defining the Directories"
   ]
  },
  {
   "cell_type": "markdown",
   "id": "ae8de5ae-0b4d-4df8-8693-51196e8a5556",
   "metadata": {},
   "source": [
    "### Directory where RSNA DICOM Images are Saved"
   ]
  },
  {
   "cell_type": "markdown",
   "id": "e638aca5-e49f-4c20-9ca0-6271cbd2c1ba",
   "metadata": {},
   "source": [
    "##### From"
   ]
  },
  {
   "cell_type": "code",
   "execution_count": 39,
   "id": "48bd3179-1381-4f40-820a-94938871de70",
   "metadata": {},
   "outputs": [],
   "source": [
    "# Cancer\n",
    "data_dir_c = \"RSNA_Mammograms_Class/cancer/\"\n",
    "\n",
    "# No cancer\n",
    "data_dir_nc = \"RSNA_Mammograms_Class/no_cancer/\""
   ]
  },
  {
   "cell_type": "markdown",
   "id": "600ebeb4-ef17-4db2-bd38-5f5c80f00b42",
   "metadata": {},
   "source": [
    "### Directory where RSNA PNG Images will be Saved"
   ]
  },
  {
   "cell_type": "markdown",
   "id": "be61bffd-30ed-4cac-ad84-d0fbc8cd78ac",
   "metadata": {},
   "source": [
    "##### To"
   ]
  },
  {
   "cell_type": "code",
   "execution_count": 40,
   "id": "e6f28b1c-d605-4b43-b0b8-96e0356a5ab3",
   "metadata": {},
   "outputs": [],
   "source": [
    "# Cancer - cc view\n",
    "out_dir_c_cc = \"RSNA_PNG_Mammograms/cancer/cc/\"\n",
    "\n",
    "# Cancer - mlo view\n",
    "out_dir_c_mlo = \"RSNA_PNG_Mammograms/cancer/mlo/\"\n",
    "\n",
    "\n",
    "# No cancer - cc view\n",
    "out_dir_nc_cc = \"RSNA_PNG_Mammograms/no_cancer/cc/\"\n",
    "\n",
    "# No cancer - mlo view\n",
    "out_dir_nc_mlo = \"RSNA_PNG_Mammograms/no_cancer/mlo/\""
   ]
  },
  {
   "cell_type": "markdown",
   "id": "a0929e6b-47c5-4920-adba-8e110ed016fd",
   "metadata": {},
   "source": [
    "## Converting the RSNA DICOM Images to PNG"
   ]
  },
  {
   "cell_type": "markdown",
   "id": "47661559-4fc2-47e8-9e26-4db45de53d3a",
   "metadata": {},
   "source": [
    "# Functions for Pre-Processing"
   ]
  },
  {
   "cell_type": "markdown",
   "id": "cd011b7b-7725-4499-bdf5-e9410c879a31",
   "metadata": {},
   "source": [
    "### MONOCHROME1 vs MONOCHROME2\n",
    "\n",
    "-  If the photometric interpretation of the image is monochrome1, the pixel values gets inverted.\n",
    "-  If the photometric interpretation of the image is monochrome2, the pixel values are normalised to start from zero.\n",
    "-  If the photometric interpretation of the image is not one of the above, a value error is raised."
   ]
  },
  {
   "cell_type": "code",
   "execution_count": 41,
   "id": "fb96a70b-7124-4627-ae0c-0ff606707eeb",
   "metadata": {},
   "outputs": [],
   "source": [
    "# Allows for a consistant interpretation\n",
    "def photometric_interpretation(ds, ds_img):\n",
    "    # Determine what the DICOM file’s PhotometricInterpretation is\n",
    "    if ds.PhotometricInterpretation == \"MONOCHROME1\":\n",
    "        # Adjust the image accordingly \n",
    "        return ds_img.max() - ds_img\n",
    "    elif ds.PhotometricInterpretation == \"MONOCHROME2\":\n",
    "        # Adjust the image accordingly \n",
    "        return ds_img - ds_img.min()\n",
    "    else:\n",
    "        # If no PhotometricInterpretation present, raise an error\n",
    "        raise ValueError(\"Invalid Photometric Interpretation: {}\" .format(scan.PhotometricInterpretation))"
   ]
  },
  {
   "cell_type": "markdown",
   "id": "bf08ee25-09b0-44b9-8073-9a6953a2144b",
   "metadata": {},
   "source": [
    "## Windowing\n",
    "\n",
    "- The windowing function gets the relevant attribute values of the DICOM object.\n",
    "- Adjusts the image array according to the attribute values. \n",
    "- And returns the adjusted image array."
   ]
  },
  {
   "cell_type": "code",
   "execution_count": 42,
   "id": "6d6b985e-3e25-4cf4-b2e1-5d9579a9e3d9",
   "metadata": {},
   "outputs": [],
   "source": [
    "# Allows for DICOM image windowing\n",
    "def windowing(ds, ds_img):\n",
    "    # Get the window center\n",
    "    window_center = ds.WindowCenter\n",
    "        \n",
    "    # Get the window width\n",
    "    window_width = ds.WindowWidth\n",
    "\n",
    "    # If more than one value is present - window_center\n",
    "    if isinstance(window_center, pydicom.multival.MultiValue):\n",
    "        center = window_center[0]\n",
    "    else:\n",
    "        center = window_center\n",
    "\n",
    "    # If more than one value is present - window_width\n",
    "    if isinstance(window_width, pydicom.multival.MultiValue):\n",
    "        width = window_width[0]\n",
    "    else:\n",
    "        width = window_width\n",
    "\n",
    "    \n",
    "    # Try and get pixel intensity relationship sign\n",
    "    pixel_intensity = getattr(ds, \"PixelIntensityRelationshipSign\", \"\")    \n",
    "\n",
    "    # Try and get rescale intercept\n",
    "    rescale_intercept = getattr(ds, \"RescaleIntercept\", \"\")  \n",
    "\n",
    "    # Try and get rescale slope\n",
    "    rescale_slope = getattr(ds, \"RescaleSlope\", \"\") \n",
    "\n",
    "    # Try and get the VOI LUT Function\n",
    "    function_lut = getattr(ds, \"VOILUTFunction\", \"\")\n",
    "    \n",
    "    \n",
    "    # If present apply translation adjustments\n",
    "    if (rescale_intercept != \"\" and rescale_slope != \"\"):\n",
    "        img = (ds_img * rescale_slope + rescale_intercept)\n",
    "    else:\n",
    "        img = ds_img\n",
    "\n",
    "\n",
    "    if function_lut == \"SIGMOID\":\n",
    "        # Apply sigmoid function\n",
    "        img = 1 / (1 + np.exp(-(img - center) / width))\n",
    "\n",
    "    \n",
    "    elif (pixel_intensity == -1):       \n",
    "        # Apply the windowing formula\n",
    "        min_value = (center - (width // 2))        # Minimum pixel intensity values\n",
    "        max_value = (center + (width // 2))        # Maximum pixel intensity values\n",
    "    \n",
    "        # Set the min value for all minimum pixel intensity values less than the min_value \n",
    "        img[img < min_value] = min_value \n",
    "        # Set the max value for all minimum pixel intensity values higher than the max_value\n",
    "        img[img > max_value] = max_value \n",
    "        \n",
    "    else:\n",
    "        # Set img to the original image - no windowing needed\n",
    "        img = img\n",
    "\n",
    "    \n",
    "    # Return the windowed image\n",
    "    return img"
   ]
  },
  {
   "cell_type": "markdown",
   "id": "7c6c6cf7-ef86-44ba-9465-d84b8fe085e2",
   "metadata": {},
   "source": [
    "### Normalise Image Pixel Values\n",
    "\n",
    "-  Different image arrays might have varying pixel intensity ranges.\n",
    "-  To ensure consistent input ranges, the image array must be normalised\n",
    "-  The values of the image array gets scale to a range of 0-255, which is the standard range for 8-bit images.\n",
    "-  The image array then gets cast form a 16-bit, which is a common size for DICOM, into an 8-bit array."
   ]
  },
  {
   "cell_type": "code",
   "execution_count": 43,
   "id": "74f2cbb2-9b56-4b2e-97e1-783952db0eb4",
   "metadata": {},
   "outputs": [],
   "source": [
    "# Normalise the image array\n",
    "def normalise(ds_img):\n",
    "    # Get the min value in the pixel array\n",
    "    min_intensity = ds_img.min()\n",
    "    # Get the max value in the pixel array\n",
    "    max_intensity = ds_img.max()\n",
    "\n",
    "    # Scale pixel values to the range [0, 255]\n",
    "    normalised_pixels = ((ds_img - min_intensity) / (max_intensity - min_intensity)) * 255\n",
    "\n",
    "    # Return the normalised pixels as 8-bits\n",
    "    return normalised_pixels.astype(np.uint8)"
   ]
  },
  {
   "cell_type": "markdown",
   "id": "f666966a-defd-4a3a-8645-164f4aee47c9",
   "metadata": {},
   "source": [
    "### Determine Laterality\n",
    "\n",
    "- The lateral_side function determines if the mammogram is of the left or right breast.\n",
    "- It sums  the left and right halves of the image array. \n",
    "- The side with the greater sum of pixel values is considered to contain the breast tissue, since more pixels indicate more non-background content.\n",
    "- Determines, which side holds the greater value and then sets the laterality value."
   ]
  },
  {
   "cell_type": "code",
   "execution_count": 45,
   "id": "7606888d-9d5a-4b2b-b1d6-b08573394cdd",
   "metadata": {},
   "outputs": [],
   "source": [
    "# Determines the side of the breast\n",
    "def lateral_side(ds_img):\n",
    "    # Compute the sum of columns for left and right halves \n",
    "    half = ds_img.shape[1] // 2\n",
    "    left_col_sum = np.sum(ds_img[:, :half])\n",
    "    right_col_sum = np.sum(ds_img[:, half:])\n",
    "    \n",
    "    # Determine which half is greater and set the laterality\n",
    "    laterality = \"L\" if left_col_sum > right_col_sum else \"R\"\n",
    "\n",
    "    # Return the laterality (\"l\" or \"R\")\n",
    "    return laterality"
   ]
  },
  {
   "cell_type": "markdown",
   "id": "8899d838-81f5-46d4-ad90-50d9cf407ce2",
   "metadata": {},
   "source": [
    "### Crop the Image\n",
    "\n",
    "- The crop_background function, ensures the image array is of unit 8, which is of type that is needed for cv2.\n",
    "- After flipping the images to the left, if needed, a binary image where pixels greater than 5 are set to 255 and the rest are set to 0, is produced.\n",
    "- This threshold image is then used to find the contours of the image.\n",
    "- The x and y max values of the contour are determined with an extra margin added for safety.\n",
    "- The image is cropped according to the x and y values extracted and returned."
   ]
  },
  {
   "cell_type": "code",
   "execution_count": 46,
   "id": "f54e1243-3cce-4cc7-961d-abd6c371853c",
   "metadata": {},
   "outputs": [],
   "source": [
    "# Crop the background \n",
    "def crop_background(ds, ds_img):\n",
    "    # Image array for CV2\n",
    "    img = ds_img.astype(np.uint8)\n",
    "\n",
    "    \n",
    "    # Determine laterality      \n",
    "    laterality = lateral_side(img)\n",
    "\n",
    "    # If the image is of the right side\n",
    "    if laterality == \"R\":\n",
    "        # Flip the image vertically\n",
    "        img  = cv2.flip(img, 1)\n",
    "\n",
    "    \n",
    "    # Apply binary thresholding\n",
    "    # Produces a binary image where pixels greater than 5 are set to 255 and the rest are set to 0\n",
    "    thresh_img = cv2.threshold(img, 5, 1, cv2.THRESH_BINARY)[1]\n",
    "\n",
    "    \n",
    "    # Find contours\n",
    "    contours = cv2.findContours(thresh_img , cv2.RETR_EXTERNAL, cv2.CHAIN_APPROX_SIMPLE)[0]\n",
    "\n",
    "    # If contours present\n",
    "    if contours:\n",
    "        # Find the contour with the largest area\n",
    "        contour = max(contours, key = cv2.contourArea)\n",
    "\n",
    "        # Set the bounding box coordinates\n",
    "        # Set the x1 and y1 values\n",
    "        x1 = 0\n",
    "        y1 = 0\n",
    "        \n",
    "        # Get the max width and height for contour\n",
    "        x2 = np.max(contour[:, :, 0])\n",
    "        y2 = np.max(contour[:, :, 1])\n",
    "        \n",
    "        # Apply a margin\n",
    "        x2 = int(1.04 * x2)\n",
    "        y2 = int(1.02 * y2)\n",
    "        \n",
    "        # Crop the image\n",
    "        cropped_image = img[y1:y2, x1:x2]\n",
    "               \n",
    "    # Else return the original image\n",
    "    else:\n",
    "        # Return the original image if no contours found\n",
    "        cropped_image = img \n",
    "\n",
    "    # Return the cropped image\n",
    "    return cropped_image"
   ]
  },
  {
   "cell_type": "markdown",
   "id": "dc9508eb-8503-4e07-ab80-f6edecec47eb",
   "metadata": {},
   "source": [
    "### CLAHE \n",
    "\n",
    "-  To improve the overall contrast, histogram equalisation, a basic image processing technique, is applied.\n",
    "-  This ensures that pixel values are more evenly distributed across the entire intensity range\n",
    "-  Given that large intensity variations might be present, adaptive histogram equalisation (CLAHE) is used instead of global histogram equalisation.\n",
    "-  CLAHE subdivides the image into smaller blocks and applies histogram equalisation to each block individually, with a contrast limit to avoid amplifying noise that may be present."
   ]
  },
  {
   "cell_type": "code",
   "execution_count": 47,
   "id": "17a6801f-dbd9-4fba-970e-3cb112805254",
   "metadata": {},
   "outputs": [],
   "source": [
    "# Contrast Limited Adaptive Histogram Equalization (CLAHE)\n",
    "def contrast_enhancing(ds_img):\n",
    "    # Image array for CV2\n",
    "    img = ds_img.astype(np.uint8)\n",
    "    \n",
    "    # Create a CLAHE object with default parameters\n",
    "    clahe = cv2.createCLAHE(clipLimit = 0.8, tileGridSize = (16, 16))\n",
    "\n",
    "    # Apply CLAHE to the grayscale image\n",
    "    clahe_image = clahe.apply(img)\n",
    "\n",
    "    # Return the enhanced image\n",
    "    return clahe_image"
   ]
  },
  {
   "cell_type": "markdown",
   "id": "26e72322-0c1f-458a-97ac-86e1cf2afe9d",
   "metadata": {},
   "source": [
    "## Using Pydicom Iterate Through the Directories\n",
    "\n",
    "- The pre_process function takes 3 inputs, a specified list, specified source directory and specified destination directory.\r\n",
    "- This a nested for loop for iteration of all the images in the specified list.\r\n",
    "- The source and destination image paths are created with the help of the patient_image_id’s that is contained within the lists.\r\n",
    "- All images is read with pydicom and the above described functions applied.\r\n",
    "- The modified image arrays are then written, with the help of CV2, to the predefined destination paths."
   ]
  },
  {
   "cell_type": "code",
   "execution_count": 48,
   "id": "6d6e435e-6b3e-4c55-b3a2-45dc2c846b03",
   "metadata": {},
   "outputs": [],
   "source": [
    "# Function to copy each cancer  or no cancer image lists to a specified folder \n",
    "def pre_process(spes_list, spes_data_dir, folder_path):\n",
    "    # Iterate through the determined folder\n",
    "    for img in spes_list:\n",
    "        # Set the source path for each dicom image\n",
    "        img_path = spes_data_dir + img + \".dcm\"\n",
    "    \n",
    "        # Set the path for saving\n",
    "        out_path = folder_path + img + \".png\"\n",
    "    \n",
    "        # Read the DICOM image\n",
    "        ds = pydicom.dcmread(img_path)\n",
    "    \n",
    "        # Convert to a pixel array\n",
    "        ds_img = ds.pixel_array\n",
    "    \n",
    "        # Check MONOCHROME1 vs MONOCHROME2\n",
    "        img_photometric = photometric_interpretation(ds, ds_img)\n",
    "\n",
    "        # Apply windowing\n",
    "        img_windowed = windowing(ds, img_photometric)\n",
    "    \n",
    "        # Normalise the image\n",
    "        img_normalise = normalise(img_windowed)\n",
    "    \n",
    "        # Crop the background\n",
    "        img_crop = crop_background(ds, img_normalise) \n",
    "\n",
    "        # Apply contrast enhancement\n",
    "        img_clahe = contrast_enhancing(img_crop)\n",
    "\n",
    "        \n",
    "        # Try and write the image files created\n",
    "        try:\n",
    "            # Save the image\n",
    "            cv2.imwrite(out_path, img_clahe)\n",
    "        except:\n",
    "            # Print the file name if an error occurred\n",
    "            print(\"An exception occurred at file \", out_path)"
   ]
  },
  {
   "cell_type": "markdown",
   "id": "7766f9ee-42ef-408c-9760-e7f584b75bc7",
   "metadata": {},
   "source": [
    "### Cancer"
   ]
  },
  {
   "cell_type": "code",
   "execution_count": 49,
   "id": "80ddc738-e6c4-46b4-b818-ba4b4eec1d95",
   "metadata": {},
   "outputs": [],
   "source": [
    "# Write the cancer PNG CC images to the specified folder - 518 images\n",
    "pre_process(c_CC_list, data_dir_c, out_dir_c_cc)"
   ]
  },
  {
   "cell_type": "code",
   "execution_count": 50,
   "id": "7f7c53d9-6642-4ab4-881d-ddb492c6fddd",
   "metadata": {},
   "outputs": [],
   "source": [
    "# Write the cancer PNG MLO images to the specified folder - 518 images\n",
    "pre_process(c_MLO_list, data_dir_c, out_dir_c_mlo)"
   ]
  },
  {
   "cell_type": "markdown",
   "id": "ce9fe12a-b5bc-4aa5-8946-eb0f26eb3b51",
   "metadata": {},
   "source": [
    "### No Cancer"
   ]
  },
  {
   "cell_type": "code",
   "execution_count": 51,
   "id": "c62d81b0-a7e8-4334-a59d-708e78a753ea",
   "metadata": {},
   "outputs": [],
   "source": [
    "# Write the no cancer PNG CC images to the specified folder - 971 images\n",
    "pre_process(nc_CC_list, data_dir_nc, out_dir_nc_cc)"
   ]
  },
  {
   "cell_type": "code",
   "execution_count": 52,
   "id": "60648bd2-8648-4bcc-953f-6c304be2697e",
   "metadata": {},
   "outputs": [],
   "source": [
    "# Write the no cancer PNG MLO images to the specified folder - 971 images\n",
    "pre_process(nc_MLO_list, data_dir_nc, out_dir_nc_mlo)"
   ]
  },
  {
   "cell_type": "markdown",
   "id": "6ace96ff-72d5-4ed9-b243-461f4835d7fe",
   "metadata": {},
   "source": [
    "## Check the Folder Totals"
   ]
  },
  {
   "cell_type": "code",
   "execution_count": 53,
   "id": "d48b01f3-503b-49c7-8a1c-a262639e4c69",
   "metadata": {},
   "outputs": [
    {
     "name": "stdout",
     "output_type": "stream",
     "text": [
      "518\n"
     ]
    }
   ],
   "source": [
    "# Cancer - CC view\n",
    "cancer_CC_pp = os.listdir(out_dir_c_cc)\n",
    "\n",
    "# Print folder size\n",
    "print(len(cancer_CC_pp))"
   ]
  },
  {
   "cell_type": "code",
   "execution_count": 54,
   "id": "be512ce4-5c90-4501-9db6-e920361e15de",
   "metadata": {},
   "outputs": [
    {
     "name": "stdout",
     "output_type": "stream",
     "text": [
      "518\n"
     ]
    }
   ],
   "source": [
    "# Cancer - MLO view\n",
    "cancer_MLO_pp = os.listdir(out_dir_c_mlo)\n",
    "\n",
    "# Print folder size\n",
    "print(len(cancer_MLO_pp))"
   ]
  },
  {
   "cell_type": "code",
   "execution_count": 55,
   "id": "51e6681a-6ea1-45fb-9265-1ff9bd3ba8af",
   "metadata": {},
   "outputs": [
    {
     "name": "stdout",
     "output_type": "stream",
     "text": [
      "971\n"
     ]
    }
   ],
   "source": [
    "# No cancer - CC view\n",
    "no_cancer_CC_pp = os.listdir(out_dir_nc_cc)\n",
    "\n",
    "# Print folder size\n",
    "print(len(no_cancer_CC_pp))"
   ]
  },
  {
   "cell_type": "code",
   "execution_count": 56,
   "id": "6265a992-1618-4c24-a90f-8017643d078b",
   "metadata": {},
   "outputs": [
    {
     "name": "stdout",
     "output_type": "stream",
     "text": [
      "971\n"
     ]
    }
   ],
   "source": [
    "# No cancer - MLO view\n",
    "no_cancer_MLO_pp = os.listdir(out_dir_nc_mlo)\n",
    "\n",
    "# Print folder size\n",
    "print(len(no_cancer_MLO_pp))"
   ]
  },
  {
   "cell_type": "markdown",
   "id": "9e0fec7e-7906-40c9-941a-ff0bc7a74697",
   "metadata": {},
   "source": [
    "## Ensure No Doubles"
   ]
  },
  {
   "cell_type": "code",
   "execution_count": 57,
   "id": "3880c2b5-e588-4a4c-93d3-1764fe9023d8",
   "metadata": {},
   "outputs": [],
   "source": [
    "# Combine all the lists\n",
    "combined_list = cancer_CC_pp + cancer_MLO_pp + no_cancer_CC_pp + no_cancer_MLO_pp\n",
    "\n",
    "# Create a set from the combined list\n",
    "combined_set = set(combined_list)"
   ]
  },
  {
   "cell_type": "code",
   "execution_count": 58,
   "id": "db3d413d-8018-41b4-a630-3e58702c4e62",
   "metadata": {},
   "outputs": [
    {
     "name": "stdout",
     "output_type": "stream",
     "text": [
      "No duplicates found - each item is only in one list.\n"
     ]
    }
   ],
   "source": [
    "# Compare the lengths to check for duplicates\n",
    "if len(combined_list) == len(combined_set):\n",
    "    print(\"No duplicates found - each item is only in one list.\")\n",
    "else:\n",
    "    print(\"Duplicates found - some items appear in multiple lists.\")"
   ]
  },
  {
   "cell_type": "code",
   "execution_count": null,
   "id": "1bb99d2d-11af-4ab7-aa10-194a50832a2a",
   "metadata": {},
   "outputs": [],
   "source": []
  }
 ],
 "metadata": {
  "kernelspec": {
   "display_name": "Python (tensorflowIO)",
   "language": "python",
   "name": "tensorflowio"
  },
  "language_info": {
   "codemirror_mode": {
    "name": "ipython",
    "version": 3
   },
   "file_extension": ".py",
   "mimetype": "text/x-python",
   "name": "python",
   "nbconvert_exporter": "python",
   "pygments_lexer": "ipython3",
   "version": "3.9.19"
  }
 },
 "nbformat": 4,
 "nbformat_minor": 5
}
