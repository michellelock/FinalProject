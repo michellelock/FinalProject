{
 "cells": [
  {
   "cell_type": "markdown",
   "id": "0882a673-0dd9-43b0-bf87-d1419b06e611",
   "metadata": {},
   "source": [
    "# The Data Augmentation Notebook\n",
    "\n",
    "##### This notebook flips all cancer images to increase the dataset size.\n",
    "##### Flips every second no cancer image."
   ]
  },
  {
   "cell_type": "markdown",
   "id": "0bcb3c53-f357-403d-ab5f-8ad94fa174f2",
   "metadata": {},
   "source": [
    "## Import the Relevant Libraries"
   ]
  },
  {
   "cell_type": "code",
   "execution_count": 1,
   "id": "8dc01016-4503-4549-b22b-754c62a22093",
   "metadata": {},
   "outputs": [],
   "source": [
    "# Allows for the access to the image directories\n",
    "import os"
   ]
  },
  {
   "cell_type": "code",
   "execution_count": 2,
   "id": "b71bfadc-fca0-45c3-af13-12f1ce0d101c",
   "metadata": {},
   "outputs": [],
   "source": [
    "# Allows me to apply data augmentation in the form of flipping \n",
    "import cv2"
   ]
  },
  {
   "cell_type": "code",
   "execution_count": 3,
   "id": "3d124652-48d8-4e9c-a577-888f8eab5d2b",
   "metadata": {},
   "outputs": [],
   "source": [
    "# Allows me to work with and manipulate the image array\n",
    "import numpy as np"
   ]
  },
  {
   "cell_type": "code",
   "execution_count": 4,
   "id": "4be5735d-e64e-433b-bd79-6c3d6da96642",
   "metadata": {},
   "outputs": [],
   "source": [
    "# Allows me to read the images\n",
    "from PIL import Image"
   ]
  },
  {
   "cell_type": "code",
   "execution_count": 5,
   "id": "7491ba1d-c69f-4687-84e5-d1bc2bb5b4e9",
   "metadata": {},
   "outputs": [],
   "source": [
    "# Allows me to apply random selection\n",
    "import random"
   ]
  },
  {
   "cell_type": "code",
   "execution_count": 6,
   "id": "c561fee6-d62a-4ccb-97f9-7f50e5fcb03a",
   "metadata": {},
   "outputs": [],
   "source": [
    "# Allows for the copying of images to new folders\n",
    "import shutil"
   ]
  },
  {
   "cell_type": "markdown",
   "id": "359642ba-0e56-400a-8e78-abbe75967ddc",
   "metadata": {},
   "source": [
    "## Define Paths"
   ]
  },
  {
   "cell_type": "markdown",
   "id": "eebf430b-5107-4f1d-b0eb-b0cf18fccfd9",
   "metadata": {},
   "source": [
    "### From"
   ]
  },
  {
   "cell_type": "code",
   "execution_count": 7,
   "id": "4a876f08-15b1-42b5-bed7-01723951d162",
   "metadata": {},
   "outputs": [],
   "source": [
    "# Cancer\n",
    "cancer_path_cc = \"RSNA_PNG_Mammograms/cancer/cc/\"\n",
    "cancer_path_mlo = \"RSNA_PNG_Mammograms/cancer/mlo/\"\n",
    "\n",
    "# No cancer\n",
    "no_cancer_path_cc = \"RSNA_PNG_Mammograms/no_cancer/cc/\"\n",
    "no_cancer_path_mlo = \"RSNA_PNG_Mammograms/no_cancer/mlo/\""
   ]
  },
  {
   "cell_type": "markdown",
   "id": "e04d21a2-7723-4a4e-8b12-1a87c3eb3cb8",
   "metadata": {},
   "source": [
    "### To"
   ]
  },
  {
   "cell_type": "code",
   "execution_count": 8,
   "id": "f974c052-7482-4f48-a1ed-230c8d9342e4",
   "metadata": {},
   "outputs": [],
   "source": [
    "# Cancer\n",
    "flip_dir_cancer_cc = \"RSNA_PNG_Mammograms/cancer_aug_flip/cc/\"\n",
    "flip_dir_cancer_mlo = \"RSNA_PNG_Mammograms/cancer_aug_flip/mlo/\"\n",
    "\n",
    "# No cancer\n",
    "flip_dir_no_cancer_cc = \"RSNA_PNG_Mammograms/no_cancer_aug_flip/cc/\"\n",
    "flip_dir_no_cancer_mlo = \"RSNA_PNG_Mammograms/no_cancer_aug_flip/mlo/\""
   ]
  },
  {
   "cell_type": "markdown",
   "id": "72b4955e-5a18-4ca0-b590-230e363330ca",
   "metadata": {},
   "source": [
    "## Test the Paths"
   ]
  },
  {
   "cell_type": "markdown",
   "id": "b149a26f-3aa0-47b4-b7bf-906d160807e6",
   "metadata": {},
   "source": [
    "### Cancer"
   ]
  },
  {
   "cell_type": "code",
   "execution_count": 9,
   "id": "44121cc6-1c6b-47ab-9d49-e1a5088d1e71",
   "metadata": {},
   "outputs": [
    {
     "data": {
      "text/plain": [
       "'10130_613462606.png'"
      ]
     },
     "execution_count": 9,
     "metadata": {},
     "output_type": "execute_result"
    }
   ],
   "source": [
    "cancer_dataset_cc =  os.listdir(cancer_path_cc)\n",
    "cancer_dataset_cc[1]"
   ]
  },
  {
   "cell_type": "code",
   "execution_count": 10,
   "id": "df884639-5f50-45c9-8ea2-b0d66a1a37f2",
   "metadata": {},
   "outputs": [
    {
     "data": {
      "text/plain": [
       "'10130_388811999.png'"
      ]
     },
     "execution_count": 10,
     "metadata": {},
     "output_type": "execute_result"
    }
   ],
   "source": [
    "cancer_dataset_mlo =  os.listdir(cancer_path_mlo)\n",
    "cancer_dataset_mlo[1]"
   ]
  },
  {
   "cell_type": "code",
   "execution_count": 11,
   "id": "f23a59b5-dfc5-46a7-ab66-212c53648eb4",
   "metadata": {},
   "outputs": [
    {
     "name": "stdout",
     "output_type": "stream",
     "text": [
      "1036\n"
     ]
    }
   ],
   "source": [
    "print(len(cancer_dataset_cc) + len(cancer_dataset_mlo))"
   ]
  },
  {
   "cell_type": "markdown",
   "id": "25b8123e-009f-4e82-9505-3c5c7d35efe2",
   "metadata": {},
   "source": [
    "### No Cancer"
   ]
  },
  {
   "cell_type": "code",
   "execution_count": 12,
   "id": "a9b3d998-c5c2-490d-837b-3bff61c076c2",
   "metadata": {},
   "outputs": [
    {
     "data": {
      "text/plain": [
       "'10200_134267365.png'"
      ]
     },
     "execution_count": 12,
     "metadata": {},
     "output_type": "execute_result"
    }
   ],
   "source": [
    "no_cancer_dataset_cc =  os.listdir(no_cancer_path_cc)\n",
    "no_cancer_dataset_cc[1]"
   ]
  },
  {
   "cell_type": "code",
   "execution_count": 13,
   "id": "5a437465-2210-4859-aaf6-a5b36952bab4",
   "metadata": {},
   "outputs": [
    {
     "data": {
      "text/plain": [
       "'10200_1422756511.png'"
      ]
     },
     "execution_count": 13,
     "metadata": {},
     "output_type": "execute_result"
    }
   ],
   "source": [
    "no_cancer_dataset_mlo =  os.listdir(no_cancer_path_mlo)\n",
    "no_cancer_dataset_mlo[1]"
   ]
  },
  {
   "cell_type": "code",
   "execution_count": 14,
   "id": "100d81e5-95b5-4ee0-b982-e1fd23a7430b",
   "metadata": {},
   "outputs": [
    {
     "name": "stdout",
     "output_type": "stream",
     "text": [
      "1940\n"
     ]
    }
   ],
   "source": [
    "print(len(no_cancer_dataset_cc) + len(no_cancer_dataset_mlo))"
   ]
  },
  {
   "cell_type": "markdown",
   "id": "15635e36-1d1e-4fdd-862e-bf251e275513",
   "metadata": {},
   "source": [
    "## Ensure No Errors"
   ]
  },
  {
   "cell_type": "code",
   "execution_count": 15,
   "id": "a2a84322-30ca-44c1-9a82-d61dd4e7e673",
   "metadata": {},
   "outputs": [],
   "source": [
    "# Combine all lists into one\n",
    "combined_list = cancer_dataset_cc + cancer_dataset_mlo + no_cancer_dataset_cc + no_cancer_dataset_mlo"
   ]
  },
  {
   "cell_type": "code",
   "execution_count": 16,
   "id": "7b527f4f-3e3a-496e-9e23-1cc934db3c0e",
   "metadata": {},
   "outputs": [],
   "source": [
    "# Convert the combined list into a set\n",
    "combined_set = set(combined_list)"
   ]
  },
  {
   "cell_type": "code",
   "execution_count": 17,
   "id": "1dfa05db-532b-48ef-b787-3a479fbc27c9",
   "metadata": {},
   "outputs": [
    {
     "name": "stdout",
     "output_type": "stream",
     "text": [
      "No duplicates found - each item is only in one list.\n"
     ]
    }
   ],
   "source": [
    "# Compare the lengths to check for duplicates\n",
    "if len(combined_list) == len(combined_set):\n",
    "    print(\"No duplicates found - each item is only in one list.\")\n",
    "else:\n",
    "    print(\"Duplicates found - some items appear in multiple lists.\")"
   ]
  },
  {
   "cell_type": "markdown",
   "id": "b01cb7b2-0385-4549-b027-d918565c3743",
   "metadata": {},
   "source": [
    "## Data Augmentation - Flip Along the Vertical Axis"
   ]
  },
  {
   "cell_type": "code",
   "execution_count": 18,
   "id": "2ad648ac-ab72-420f-bf7f-372a40918cc5",
   "metadata": {},
   "outputs": [],
   "source": [
    "# Function for flipping images along the vertical axis \n",
    "def augment_flipping(from_path, dataset, to_path, n):\n",
    "    # Iterate through the determined folder\n",
    "    for img in dataset[::n]:\n",
    "        # Set the path\n",
    "        path = from_path + img\n",
    "        \n",
    "        # Read the image in grayscale mode \n",
    "        img_gray = cv2.imread(path, 0) \n",
    "    \n",
    "        # Flip the image vertically\n",
    "        img_flip = cv2.flip(img_gray, 1)\n",
    "        \n",
    "        # Set the name of the image\n",
    "        out_path = to_path + img[:-4] + \"_flip.png\"\n",
    "        \n",
    "        # Save the image\n",
    "        cv2.imwrite(out_path, img_flip)"
   ]
  },
  {
   "cell_type": "markdown",
   "id": "c2567369-4cab-4d04-8e82-82d1f3b34d3d",
   "metadata": {},
   "source": [
    "### Cancer\n",
    "Flip all cancer images to increase the dataset size."
   ]
  },
  {
   "cell_type": "code",
   "execution_count": 19,
   "id": "95aa1fa0-1054-4e85-8af1-e3d967775e75",
   "metadata": {},
   "outputs": [],
   "source": [
    "augment_flipping(cancer_path_cc, cancer_dataset_cc, flip_dir_cancer_cc, 1)"
   ]
  },
  {
   "cell_type": "code",
   "execution_count": 20,
   "id": "f8a2e513-8773-4688-be89-b02b6b7c9d6b",
   "metadata": {},
   "outputs": [],
   "source": [
    "augment_flipping(cancer_path_mlo, cancer_dataset_mlo, flip_dir_cancer_mlo, 1)"
   ]
  },
  {
   "cell_type": "markdown",
   "id": "39b5f3b6-3af2-4576-bbae-fa0127322dab",
   "metadata": {},
   "source": [
    "### No Cancer\n",
    "Flip every second no cancer image."
   ]
  },
  {
   "cell_type": "code",
   "execution_count": 21,
   "id": "0d1f5ecd-d06e-4a27-a67f-85b8067eb265",
   "metadata": {},
   "outputs": [],
   "source": [
    "augment_flipping(no_cancer_path_cc, no_cancer_dataset_cc, flip_dir_no_cancer_cc, 2)"
   ]
  },
  {
   "cell_type": "code",
   "execution_count": 22,
   "id": "0e19f255-fcd9-409e-bafb-cc2e8d557eba",
   "metadata": {},
   "outputs": [],
   "source": [
    "augment_flipping(no_cancer_path_mlo, no_cancer_dataset_mlo, flip_dir_no_cancer_mlo, 2)"
   ]
  },
  {
   "cell_type": "markdown",
   "id": "e49c1265-79c2-42f8-ae05-745798513fab",
   "metadata": {},
   "source": [
    "## Test the Path Totals"
   ]
  },
  {
   "cell_type": "markdown",
   "id": "167570e1-26e1-4c34-a0a7-0f4ec47b5a7a",
   "metadata": {},
   "source": [
    "### Cancer"
   ]
  },
  {
   "cell_type": "code",
   "execution_count": 23,
   "id": "dbf05458-e64f-4b23-a085-f91d1f2bc2b7",
   "metadata": {},
   "outputs": [],
   "source": [
    "test_cancer_dataset_cc =  os.listdir(cancer_path_cc)\n",
    "test_cancer_dataset_mlo =  os.listdir(cancer_path_mlo)"
   ]
  },
  {
   "cell_type": "code",
   "execution_count": 24,
   "id": "95e2975a-78d5-458e-9749-7415b1bf4df8",
   "metadata": {},
   "outputs": [],
   "source": [
    "test_cancer_dataset_cc_flip =  os.listdir(flip_dir_cancer_cc)\n",
    "test_cancer_dataset_mlo_flip =  os.listdir(flip_dir_cancer_mlo)"
   ]
  },
  {
   "cell_type": "code",
   "execution_count": 25,
   "id": "7c1497ed-8e92-4df3-b93d-e9ed909dc565",
   "metadata": {},
   "outputs": [],
   "source": [
    "cancer_file_1 = len(test_cancer_dataset_cc)\n",
    "cancer_file_2 = len(test_cancer_dataset_mlo)\n",
    "cancer_file_3 = len(test_cancer_dataset_cc_flip)\n",
    "cancer_file_4 = len(test_cancer_dataset_mlo_flip)"
   ]
  },
  {
   "cell_type": "code",
   "execution_count": 26,
   "id": "641728d7-06a1-425f-9c12-b71a1c5315cb",
   "metadata": {},
   "outputs": [
    {
     "name": "stdout",
     "output_type": "stream",
     "text": [
      "Cancer images cc view: 518\n",
      "Cancer images mlo view: 518\n",
      "Cancer images cc flipped view: 518\n",
      "Cancer images mlo flipped view: 518\n",
      "Total: 2072\n"
     ]
    }
   ],
   "source": [
    "print(\"Cancer images cc view: \" + str(cancer_file_1))\n",
    "print(\"Cancer images mlo view: \" + str(cancer_file_2))\n",
    "print(\"Cancer images cc flipped view: \" + str(cancer_file_3))\n",
    "print(\"Cancer images mlo flipped view: \" + str(cancer_file_4))\n",
    "\n",
    "print(\"Total: \" + str(cancer_file_1 + cancer_file_2 + cancer_file_3 + cancer_file_4))"
   ]
  },
  {
   "cell_type": "markdown",
   "id": "f9ebf3ef-4a67-469a-8700-09d87ac92fdd",
   "metadata": {},
   "source": [
    "### No Cancer"
   ]
  },
  {
   "cell_type": "code",
   "execution_count": 27,
   "id": "c0cdbabf-e8dc-458a-98fd-1d9c6db13e97",
   "metadata": {},
   "outputs": [],
   "source": [
    "test_no_cancer_dataset_cc =  os.listdir(no_cancer_path_cc)\n",
    "test_no_cancer_dataset_mlo =  os.listdir(no_cancer_path_mlo)"
   ]
  },
  {
   "cell_type": "code",
   "execution_count": 28,
   "id": "eb2fb943-162a-4279-8cd5-6340a7a88d72",
   "metadata": {},
   "outputs": [],
   "source": [
    "test_no_cancer_dataset_cc_flip =  os.listdir(flip_dir_no_cancer_cc)\n",
    "test_no_cancer_dataset_mlo_flip =  os.listdir(flip_dir_no_cancer_mlo)"
   ]
  },
  {
   "cell_type": "code",
   "execution_count": 29,
   "id": "c63f4aa0-aa18-406f-a03a-9db6b4228b03",
   "metadata": {},
   "outputs": [],
   "source": [
    "no_cancer_file_1 = len(test_no_cancer_dataset_cc)\n",
    "no_cancer_file_2 = len(test_no_cancer_dataset_mlo)\n",
    "no_cancer_file_3 = len(test_no_cancer_dataset_cc_flip)\n",
    "no_cancer_file_4 = len(test_no_cancer_dataset_mlo_flip)"
   ]
  },
  {
   "cell_type": "code",
   "execution_count": 30,
   "id": "33e88166-214f-4ae6-a1d8-ce11fa2a7966",
   "metadata": {},
   "outputs": [
    {
     "name": "stdout",
     "output_type": "stream",
     "text": [
      "No cancer images cc view: 970\n",
      "No cancer images mlo view: 970\n",
      "No cancer images cc flipped view: 485\n",
      "No cancer images mlo flipped view: 485\n",
      "Total: 2910\n"
     ]
    }
   ],
   "source": [
    "print(\"No cancer images cc view: \" + str(no_cancer_file_1))\n",
    "print(\"No cancer images mlo view: \" + str(no_cancer_file_2))\n",
    "print(\"No cancer images cc flipped view: \" + str(no_cancer_file_3))\n",
    "print(\"No cancer images mlo flipped view: \" + str(no_cancer_file_4))\n",
    "\n",
    "print(\"Total: \" + str(no_cancer_file_1 + no_cancer_file_2 + no_cancer_file_3 + no_cancer_file_4))"
   ]
  },
  {
   "cell_type": "markdown",
   "id": "84546d9d-b838-44a4-9f78-a0465a9be153",
   "metadata": {},
   "source": [
    "## Move Original and Flipped Images to One Folder Before Splitting"
   ]
  },
  {
   "cell_type": "markdown",
   "id": "e98354ad-d169-407e-b3b9-4f4b6fef6481",
   "metadata": {},
   "source": [
    "### To"
   ]
  },
  {
   "cell_type": "code",
   "execution_count": 31,
   "id": "a32a94d8-6bc5-4c17-908f-f257965e0a7e",
   "metadata": {},
   "outputs": [],
   "source": [
    "# Cancer\n",
    "all_cancer_cc = \"RSNA_PNG_Mammograms/cancer_all/cc/\"\n",
    "all_cancer_mlo = \"RSNA_PNG_Mammograms/cancer_all/mlo/\"\n",
    "\n",
    "# No cancer\n",
    "all_no_cancer_cc = \"RSNA_PNG_Mammograms/no_cancer_all/cc/\"\n",
    "all_no_cancer_mlo = \"RSNA_PNG_Mammograms/no_cancer_all/mlo/\""
   ]
  },
  {
   "cell_type": "code",
   "execution_count": 33,
   "id": "db187674-ebcc-4cf3-8a1d-2598464c66b2",
   "metadata": {},
   "outputs": [],
   "source": [
    "def split_copy(in_path, dataset, out_path):\n",
    "    for png in dataset:\n",
    "        # Define the source png image path\n",
    "        source_img_path = in_path + png\n",
    "    \n",
    "        # Define the destination png image path\n",
    "        destination_img_path = out_path + png\n",
    "    \n",
    "        # Copy the file to the determined destination\n",
    "        shutil.copy(source_img_path, destination_img_path)"
   ]
  },
  {
   "cell_type": "markdown",
   "id": "80902f2f-ef30-42d3-8d24-203927c67069",
   "metadata": {},
   "source": [
    "#### Cancer"
   ]
  },
  {
   "cell_type": "markdown",
   "id": "cbcabf09-379c-4126-bc35-d909a37e807f",
   "metadata": {},
   "source": [
    "#### CC View"
   ]
  },
  {
   "cell_type": "code",
   "execution_count": 34,
   "id": "73fa355a-3621-47ec-b789-4bf643b6a63e",
   "metadata": {},
   "outputs": [],
   "source": [
    "# Original left image set - copy images\n",
    "split_copy(cancer_path_cc, test_cancer_dataset_cc, all_cancer_cc)"
   ]
  },
  {
   "cell_type": "code",
   "execution_count": 35,
   "id": "97ee5d68-ff2e-4919-a62c-0ef280b82638",
   "metadata": {},
   "outputs": [],
   "source": [
    "# Flipped right image set - copy images\n",
    "split_copy(flip_dir_cancer_cc, test_cancer_dataset_cc_flip, all_cancer_cc)"
   ]
  },
  {
   "cell_type": "markdown",
   "id": "22943939-9b9a-4d03-8c45-88d4a082c022",
   "metadata": {},
   "source": [
    "#### MLO View"
   ]
  },
  {
   "cell_type": "code",
   "execution_count": 36,
   "id": "b9171d07-3d9e-4df2-9d0a-b540f4527ba5",
   "metadata": {},
   "outputs": [],
   "source": [
    "# Original left image set - copy images\n",
    "split_copy(cancer_path_mlo, test_cancer_dataset_mlo, all_cancer_mlo)"
   ]
  },
  {
   "cell_type": "code",
   "execution_count": 37,
   "id": "dd688522-7644-42ff-8d24-9ef399d8e38c",
   "metadata": {},
   "outputs": [],
   "source": [
    "# Flipped right image set - copy images\n",
    "split_copy(flip_dir_cancer_mlo, test_cancer_dataset_mlo_flip, all_cancer_mlo)"
   ]
  },
  {
   "cell_type": "markdown",
   "id": "4f273d1f-d402-4d1c-8ae1-9ee0d523fb46",
   "metadata": {},
   "source": [
    "#### No Cancer"
   ]
  },
  {
   "cell_type": "markdown",
   "id": "1e88f8c0-a80d-4f05-b6e1-09385a232670",
   "metadata": {},
   "source": [
    "#### CC View"
   ]
  },
  {
   "cell_type": "code",
   "execution_count": 38,
   "id": "cccdf627-757a-4bb4-b2cf-0fe78c76879b",
   "metadata": {},
   "outputs": [],
   "source": [
    "# Original left first image - copy images\n",
    "split_copy(no_cancer_path_cc, test_no_cancer_dataset_cc[0:1], all_no_cancer_cc)"
   ]
  },
  {
   "cell_type": "code",
   "execution_count": 39,
   "id": "c5357cdd-f2d1-40f2-bcfb-1daea20822c6",
   "metadata": {},
   "outputs": [],
   "source": [
    "# Original left image set every second image - copy images\n",
    "split_copy(no_cancer_path_cc, test_no_cancer_dataset_cc[1::2], all_no_cancer_cc)"
   ]
  },
  {
   "cell_type": "code",
   "execution_count": 40,
   "id": "e8f01b83-e245-4d3b-a1e3-1040dd4c549a",
   "metadata": {},
   "outputs": [],
   "source": [
    "# Flipped right image set - copy images\n",
    "split_copy(flip_dir_no_cancer_cc, test_no_cancer_dataset_cc_flip, all_no_cancer_cc)"
   ]
  },
  {
   "cell_type": "markdown",
   "id": "caef14f6-4333-42b2-b612-df526eb1e2a0",
   "metadata": {},
   "source": [
    "#### MLO View"
   ]
  },
  {
   "cell_type": "code",
   "execution_count": 41,
   "id": "a466b1f5-d0c9-444e-ae82-0b2e7bb2f20b",
   "metadata": {},
   "outputs": [],
   "source": [
    "# Original left first image - copy images\n",
    "split_copy(no_cancer_path_mlo, test_no_cancer_dataset_mlo[0:1], all_no_cancer_mlo)"
   ]
  },
  {
   "cell_type": "code",
   "execution_count": 42,
   "id": "7bd8fabb-8d00-4dab-b790-83fb11507661",
   "metadata": {},
   "outputs": [],
   "source": [
    "# Original left image set every second image - copy images\n",
    "split_copy(no_cancer_path_mlo, test_no_cancer_dataset_mlo[1::2], all_no_cancer_mlo)"
   ]
  },
  {
   "cell_type": "code",
   "execution_count": 43,
   "id": "82e9d94e-5880-4f0a-ab2f-c81d92eeb348",
   "metadata": {},
   "outputs": [],
   "source": [
    "# Flipped right image set - copy images\n",
    "split_copy(flip_dir_no_cancer_mlo, test_no_cancer_dataset_mlo_flip, all_no_cancer_mlo)"
   ]
  },
  {
   "cell_type": "markdown",
   "id": "3aec0163-6fac-47cb-be86-6017416369c4",
   "metadata": {},
   "source": [
    "## Test the Path Totals"
   ]
  },
  {
   "cell_type": "markdown",
   "id": "5ea0ad67-523e-400e-a9c9-094b90d2db6b",
   "metadata": {},
   "source": [
    "### Cancer"
   ]
  },
  {
   "cell_type": "code",
   "execution_count": 44,
   "id": "652f30f2-f408-45a8-b2fa-1b6e0fdbcddd",
   "metadata": {},
   "outputs": [
    {
     "name": "stdout",
     "output_type": "stream",
     "text": [
      "Cancer cc view:  1036\n",
      "Cancer mlo view:  1036\n"
     ]
    }
   ],
   "source": [
    "total_cancer_dataset_cc = os.listdir(all_cancer_cc)\n",
    "total_cancer_dataset_mlo = os.listdir(all_cancer_mlo)\n",
    "\n",
    "print(\"Cancer cc view: \", len(total_cancer_dataset_cc))\n",
    "print(\"Cancer mlo view: \", len(total_cancer_dataset_mlo))"
   ]
  },
  {
   "cell_type": "markdown",
   "id": "cb1205e2-d7b8-4d3d-8bc8-75901fdaf4a3",
   "metadata": {},
   "source": [
    "### No Cancer"
   ]
  },
  {
   "cell_type": "code",
   "execution_count": 45,
   "id": "48032a46-7fcb-4fe6-b255-a3cecbe68a3b",
   "metadata": {},
   "outputs": [
    {
     "name": "stdout",
     "output_type": "stream",
     "text": [
      "No cancer cc view:  971\n",
      "No cancer mlo view:  971\n"
     ]
    }
   ],
   "source": [
    "total_no_cancer_dataset_cc = os.listdir(all_no_cancer_cc)\n",
    "total_no_cancer_dataset_mlo = os.listdir(all_no_cancer_mlo)\n",
    "\n",
    "print(\"No cancer cc view: \", len(total_no_cancer_dataset_cc))\n",
    "print(\"No cancer mlo view: \", len(total_no_cancer_dataset_mlo))"
   ]
  },
  {
   "cell_type": "markdown",
   "id": "e47284b0-9e4a-4ed3-9192-498c1b8010bf",
   "metadata": {},
   "source": [
    "## Ensure No Doubles"
   ]
  },
  {
   "cell_type": "code",
   "execution_count": 46,
   "id": "fad7993a-f58a-4052-b06b-1641ad2d7239",
   "metadata": {},
   "outputs": [],
   "source": [
    "# Combine all the lists\n",
    "combined_list = total_cancer_dataset_cc + total_cancer_dataset_mlo + total_no_cancer_dataset_cc + total_no_cancer_dataset_mlo\n",
    "\n",
    "# Create a set from the combined list\n",
    "combined_set = set(combined_list)"
   ]
  },
  {
   "cell_type": "code",
   "execution_count": 47,
   "id": "b926644b-6a95-4ca6-8287-392ad7e5c4d7",
   "metadata": {},
   "outputs": [
    {
     "name": "stdout",
     "output_type": "stream",
     "text": [
      "No duplicates found - each item is only in one list.\n"
     ]
    }
   ],
   "source": [
    "# Compare the lengths to check for duplicates\n",
    "if len(combined_list) == len(combined_set):\n",
    "    print(\"No duplicates found - each item is only in one list.\")\n",
    "else:\n",
    "    print(\"Duplicates found - some items appear in multiple lists.\")"
   ]
  },
  {
   "cell_type": "code",
   "execution_count": null,
   "id": "234dbe38-d0b9-4d69-bf51-8ff9265002bc",
   "metadata": {},
   "outputs": [],
   "source": []
  }
 ],
 "metadata": {
  "kernelspec": {
   "display_name": "Python (tensorflowIO)",
   "language": "python",
   "name": "tensorflowio"
  },
  "language_info": {
   "codemirror_mode": {
    "name": "ipython",
    "version": 3
   },
   "file_extension": ".py",
   "mimetype": "text/x-python",
   "name": "python",
   "nbconvert_exporter": "python",
   "pygments_lexer": "ipython3",
   "version": "3.9.19"
  }
 },
 "nbformat": 4,
 "nbformat_minor": 5
}
