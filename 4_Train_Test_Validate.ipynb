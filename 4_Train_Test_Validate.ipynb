{
 "cells": [
  {
   "cell_type": "markdown",
   "id": "e1cc93f6-c468-4892-8431-b05b01c6fd1b",
   "metadata": {},
   "source": [
    "## Import the Relevant Libraries"
   ]
  },
  {
   "cell_type": "code",
   "execution_count": 1,
   "id": "9b900a08-b996-4016-966a-63abd237f48f",
   "metadata": {},
   "outputs": [],
   "source": [
    "import os"
   ]
  },
  {
   "cell_type": "code",
   "execution_count": 2,
   "id": "21b0efd7-0538-41dc-9d75-7b12bf31d4dd",
   "metadata": {},
   "outputs": [],
   "source": [
    "import shutil"
   ]
  },
  {
   "cell_type": "code",
   "execution_count": 3,
   "id": "282505cd-39e9-4adf-8fe4-f027efce2da1",
   "metadata": {},
   "outputs": [],
   "source": [
    "import pandas as pd"
   ]
  },
  {
   "cell_type": "markdown",
   "id": "ecbaaaea-c7f2-44b9-a778-498de8783149",
   "metadata": {},
   "source": [
    "## Import and Read the CSV File - Cancer"
   ]
  },
  {
   "cell_type": "code",
   "execution_count": 6,
   "id": "e13996fd-d119-4aa7-94b1-be5e5e296b96",
   "metadata": {},
   "outputs": [],
   "source": [
    "# Metadata of the training images - cancer\n",
    "new_cancer_meta = pd.read_csv(\"sorted_cancer_df.csv\")"
   ]
  },
  {
   "cell_type": "code",
   "execution_count": 7,
   "id": "2871efbe-3098-4aeb-affb-fab26351c427",
   "metadata": {},
   "outputs": [
    {
     "data": {
      "text/html": [
       "<div>\n",
       "<style scoped>\n",
       "    .dataframe tbody tr th:only-of-type {\n",
       "        vertical-align: middle;\n",
       "    }\n",
       "\n",
       "    .dataframe tbody tr th {\n",
       "        vertical-align: top;\n",
       "    }\n",
       "\n",
       "    .dataframe thead th {\n",
       "        text-align: right;\n",
       "    }\n",
       "</style>\n",
       "<table border=\"1\" class=\"dataframe\">\n",
       "  <thead>\n",
       "    <tr style=\"text-align: right;\">\n",
       "      <th></th>\n",
       "      <th>patient_image_id</th>\n",
       "      <th>site_id</th>\n",
       "      <th>laterality</th>\n",
       "      <th>view</th>\n",
       "      <th>age</th>\n",
       "      <th>cancer</th>\n",
       "      <th>biopsy</th>\n",
       "      <th>invasive</th>\n",
       "      <th>BIRADS</th>\n",
       "      <th>implant</th>\n",
       "      <th>density</th>\n",
       "      <th>machine_id</th>\n",
       "      <th>difficult_negative_case</th>\n",
       "    </tr>\n",
       "  </thead>\n",
       "  <tbody>\n",
       "    <tr>\n",
       "      <th>0</th>\n",
       "      <td>10130_1360338805</td>\n",
       "      <td>1</td>\n",
       "      <td>L</td>\n",
       "      <td>CC</td>\n",
       "      <td>71.0</td>\n",
       "      <td>1</td>\n",
       "      <td>1</td>\n",
       "      <td>1</td>\n",
       "      <td>0.0</td>\n",
       "      <td>0</td>\n",
       "      <td>B</td>\n",
       "      <td>49</td>\n",
       "      <td>False</td>\n",
       "    </tr>\n",
       "    <tr>\n",
       "      <th>1</th>\n",
       "      <td>10130_1672636630</td>\n",
       "      <td>1</td>\n",
       "      <td>L</td>\n",
       "      <td>MLO</td>\n",
       "      <td>71.0</td>\n",
       "      <td>1</td>\n",
       "      <td>1</td>\n",
       "      <td>1</td>\n",
       "      <td>0.0</td>\n",
       "      <td>0</td>\n",
       "      <td>B</td>\n",
       "      <td>49</td>\n",
       "      <td>False</td>\n",
       "    </tr>\n",
       "  </tbody>\n",
       "</table>\n",
       "</div>"
      ],
      "text/plain": [
       "   patient_image_id  site_id laterality view   age  cancer  biopsy  invasive  \\\n",
       "0  10130_1360338805        1          L   CC  71.0       1       1         1   \n",
       "1  10130_1672636630        1          L  MLO  71.0       1       1         1   \n",
       "\n",
       "   BIRADS  implant density  machine_id  difficult_negative_case  \n",
       "0     0.0        0       B          49                    False  \n",
       "1     0.0        0       B          49                    False  "
      ]
     },
     "execution_count": 7,
     "metadata": {},
     "output_type": "execute_result"
    }
   ],
   "source": [
    "# Display the first 2 rows of the metadata\n",
    "new_cancer_meta.head(2)"
   ]
  },
  {
   "cell_type": "markdown",
   "id": "fb2c768d-f499-42b0-a4a5-c2027877d4dc",
   "metadata": {},
   "source": [
    "## Import and Read the CSV File - No Cancer"
   ]
  },
  {
   "cell_type": "code",
   "execution_count": 8,
   "id": "0ebbb936-1378-47c5-9551-7308d5597fac",
   "metadata": {},
   "outputs": [],
   "source": [
    "# Metadata of the training images - no cancer\n",
    "new_no_cancer_meta = pd.read_csv(\"sorted_non_cancer_df.csv\")"
   ]
  },
  {
   "cell_type": "code",
   "execution_count": 9,
   "id": "18a200c6-99cd-42c9-8561-9894bf8bb925",
   "metadata": {},
   "outputs": [
    {
     "data": {
      "text/html": [
       "<div>\n",
       "<style scoped>\n",
       "    .dataframe tbody tr th:only-of-type {\n",
       "        vertical-align: middle;\n",
       "    }\n",
       "\n",
       "    .dataframe tbody tr th {\n",
       "        vertical-align: top;\n",
       "    }\n",
       "\n",
       "    .dataframe thead th {\n",
       "        text-align: right;\n",
       "    }\n",
       "</style>\n",
       "<table border=\"1\" class=\"dataframe\">\n",
       "  <thead>\n",
       "    <tr style=\"text-align: right;\">\n",
       "      <th></th>\n",
       "      <th>patient_image_id</th>\n",
       "      <th>site_id</th>\n",
       "      <th>laterality</th>\n",
       "      <th>view</th>\n",
       "      <th>age</th>\n",
       "      <th>cancer</th>\n",
       "      <th>biopsy</th>\n",
       "      <th>invasive</th>\n",
       "      <th>BIRADS</th>\n",
       "      <th>implant</th>\n",
       "      <th>density</th>\n",
       "      <th>machine_id</th>\n",
       "      <th>difficult_negative_case</th>\n",
       "    </tr>\n",
       "  </thead>\n",
       "  <tbody>\n",
       "    <tr>\n",
       "      <th>53546</th>\n",
       "      <td>9989_439796429</td>\n",
       "      <td>1</td>\n",
       "      <td>R</td>\n",
       "      <td>CC</td>\n",
       "      <td>60.0</td>\n",
       "      <td>0</td>\n",
       "      <td>0</td>\n",
       "      <td>0</td>\n",
       "      <td>0.0</td>\n",
       "      <td>0</td>\n",
       "      <td>C</td>\n",
       "      <td>216</td>\n",
       "      <td>True</td>\n",
       "    </tr>\n",
       "    <tr>\n",
       "      <th>53547</th>\n",
       "      <td>9989_63473691</td>\n",
       "      <td>1</td>\n",
       "      <td>L</td>\n",
       "      <td>MLO</td>\n",
       "      <td>60.0</td>\n",
       "      <td>0</td>\n",
       "      <td>0</td>\n",
       "      <td>0</td>\n",
       "      <td>NaN</td>\n",
       "      <td>0</td>\n",
       "      <td>C</td>\n",
       "      <td>216</td>\n",
       "      <td>False</td>\n",
       "    </tr>\n",
       "  </tbody>\n",
       "</table>\n",
       "</div>"
      ],
      "text/plain": [
       "      patient_image_id  site_id laterality view   age  cancer  biopsy  \\\n",
       "53546   9989_439796429        1          R   CC  60.0       0       0   \n",
       "53547    9989_63473691        1          L  MLO  60.0       0       0   \n",
       "\n",
       "       invasive  BIRADS  implant density  machine_id  difficult_negative_case  \n",
       "53546         0     0.0        0       C         216                     True  \n",
       "53547         0     NaN        0       C         216                    False  "
      ]
     },
     "execution_count": 9,
     "metadata": {},
     "output_type": "execute_result"
    }
   ],
   "source": [
    "# Display the lats 2 rows of the metadata\n",
    "new_no_cancer_meta.tail(2)"
   ]
  },
  {
   "cell_type": "markdown",
   "id": "ee506937-7700-45d1-98e8-f5c5b7a84350",
   "metadata": {},
   "source": [
    "## Define Directory Paths"
   ]
  },
  {
   "cell_type": "markdown",
   "id": "e9d45594-797e-4c9d-b271-775075c0ed0c",
   "metadata": {},
   "source": [
    "Before Split"
   ]
  },
  {
   "cell_type": "code",
   "execution_count": 14,
   "id": "bed73704-db3c-432b-8b00-3ee12efcb084",
   "metadata": {},
   "outputs": [],
   "source": [
    "# Folder containing the 1000 cancer class PNG images\n",
    "data_dir_lim_can = \"RSNA_Mammograms_PNG_Clas/Cancer/\"\n",
    "\n",
    "# Folder containing the 1000 no cancer class PNG images\n",
    "data_dir_lim_no_can = \"RSNA_Mammograms_PNG_Clas/No_Cancer/\""
   ]
  },
  {
   "cell_type": "markdown",
   "id": "73bba640-c388-4038-a814-961a30c5ebb3",
   "metadata": {},
   "source": [
    "After Split"
   ]
  },
  {
   "cell_type": "code",
   "execution_count": 72,
   "id": "63ffe16e-6c56-43d9-9887-395714852ad6",
   "metadata": {},
   "outputs": [],
   "source": [
    "# Folder containing the 700 cancer train PNG images\n",
    "data_dir_lim_train_can = \"RSNA_Mammograms_PNG_Split/train_img/cancer/\"\n",
    "# Folder containing the 700 cancer train PNG images\n",
    "data_dir_lim_train_no_can = \"RSNA_Mammograms_PNG_Split/train_img/no_cancer/\"\n",
    "\n",
    "# Folder containing the 200 cancer validate PNG images\n",
    "data_dir_lim_val_can = \"RSNA_Mammograms_PNG_Split/val_img/cancer/\"\n",
    "# Folder containing the 200 no cancer validate PNG images\n",
    "data_dir_lim_val_no_can = \"RSNA_Mammograms_PNG_Split/val_img/no_cancer/\"\n",
    "\n",
    "# Folder containing the 100 cancer test PNG images\n",
    "data_dir_lim_test_can = \"RSNA_Mammograms_PNG_Split/test_img/cancer/\"\n",
    "# Folder containing the 100 no cancer test PNG images\n",
    "data_dir_lim_test_no_can = \"RSNA_Mammograms_PNG_Split/test_img/no_cancer/\""
   ]
  },
  {
   "cell_type": "markdown",
   "id": "d2b2f12d-b07d-4781-bee0-b8be3279b513",
   "metadata": {},
   "source": [
    "## Check Order - Cancer"
   ]
  },
  {
   "cell_type": "code",
   "execution_count": 16,
   "id": "4c6bb6bc-b0a5-4e38-a579-f0e05de93b50",
   "metadata": {},
   "outputs": [],
   "source": [
    "# Get a list of all the cancer images\n",
    "data_cancer = os.listdir(data_dir_lim_can)"
   ]
  },
  {
   "cell_type": "code",
   "execution_count": 23,
   "id": "b369b526-aac6-4f45-bb3c-95ee0ca591ad",
   "metadata": {},
   "outputs": [
    {
     "name": "stdout",
     "output_type": "stream",
     "text": [
      "10130_1360338805\n",
      "10130_1360338805\n"
     ]
    }
   ],
   "source": [
    "print(data_cancer[0][:-4])\n",
    "print(new_cancer_meta.iloc[0].patient_image_id)"
   ]
  },
  {
   "cell_type": "code",
   "execution_count": 24,
   "id": "d660c6b2-a301-4fa1-946d-4a606a8df381",
   "metadata": {},
   "outputs": [
    {
     "name": "stdout",
     "output_type": "stream",
     "text": [
      "1775_1269931914\n",
      "1775_1269931914\n"
     ]
    }
   ],
   "source": [
    "print(data_cancer[157][:-4])\n",
    "print(new_cancer_meta.iloc[157].patient_image_id)"
   ]
  },
  {
   "cell_type": "code",
   "execution_count": 25,
   "id": "47f677c2-8613-4afb-b2e0-0fadf792007b",
   "metadata": {},
   "outputs": [
    {
     "name": "stdout",
     "output_type": "stream",
     "text": [
      "45666_1879230222\n",
      "45666_1879230222\n"
     ]
    }
   ],
   "source": [
    "print(data_cancer[682][:-4])\n",
    "print(new_cancer_meta.iloc[682].patient_image_id)"
   ]
  },
  {
   "cell_type": "code",
   "execution_count": 28,
   "id": "9ec0a0ec-2e42-4470-8985-41efc22c29e9",
   "metadata": {},
   "outputs": [
    {
     "name": "stdout",
     "output_type": "stream",
     "text": [
      "45666_1879230222\n",
      "45666_1879230222\n"
     ]
    }
   ],
   "source": [
    "print(data_cancer[682][:-4])\n",
    "print(new_cancer_meta.iloc[682].patient_image_id)"
   ]
  },
  {
   "cell_type": "code",
   "execution_count": 26,
   "id": "09ee1731-23e6-4800-8986-92ba4998389b",
   "metadata": {},
   "outputs": [
    {
     "name": "stdout",
     "output_type": "stream",
     "text": [
      "57623_2025283559\n",
      "57623_2025283559\n"
     ]
    }
   ],
   "source": [
    "print(data_cancer[921][:-4])\n",
    "print(new_cancer_meta.iloc[921].patient_image_id)"
   ]
  },
  {
   "cell_type": "markdown",
   "id": "1b245f22-4cd8-4173-b46a-0b16d16e46ec",
   "metadata": {},
   "source": [
    "## Check Order - No Cancer"
   ]
  },
  {
   "cell_type": "code",
   "execution_count": 29,
   "id": "d604cd6d-2bfc-49fe-85a0-04e5ba47f0f4",
   "metadata": {},
   "outputs": [],
   "source": [
    "# Get a list of all the no cancer images\n",
    "data_no_cancer = os.listdir(data_dir_lim_no_can)"
   ]
  },
  {
   "cell_type": "code",
   "execution_count": 30,
   "id": "33e8b171-cdc0-4aae-9fd5-404421c6a9a2",
   "metadata": {},
   "outputs": [
    {
     "name": "stdout",
     "output_type": "stream",
     "text": [
      "10006_1459541791\n",
      "10006_1459541791\n"
     ]
    }
   ],
   "source": [
    "print(data_no_cancer[0][:-4])\n",
    "print(new_no_cancer_meta.iloc[0].patient_image_id)"
   ]
  },
  {
   "cell_type": "code",
   "execution_count": 31,
   "id": "1d7e52c6-ad65-4f2d-ae46-17d23208d9ad",
   "metadata": {},
   "outputs": [
    {
     "name": "stdout",
     "output_type": "stream",
     "text": [
      "10399_1470470799\n",
      "10399_1470470799\n"
     ]
    }
   ],
   "source": [
    "print(data_no_cancer[351][:-4])\n",
    "print(new_no_cancer_meta.iloc[351].patient_image_id)"
   ]
  },
  {
   "cell_type": "code",
   "execution_count": 32,
   "id": "0d829380-a576-4cb4-bc6c-dd81a6752055",
   "metadata": {},
   "outputs": [
    {
     "name": "stdout",
     "output_type": "stream",
     "text": [
      "10746_411534040\n",
      "10746_411534040\n"
     ]
    }
   ],
   "source": [
    "print(data_no_cancer[691][:-4])\n",
    "print(new_no_cancer_meta.iloc[691].patient_image_id)"
   ]
  },
  {
   "cell_type": "code",
   "execution_count": 33,
   "id": "eb816b6b-2a2e-4cf7-a79d-28562246d1e0",
   "metadata": {},
   "outputs": [
    {
     "name": "stdout",
     "output_type": "stream",
     "text": [
      "10973_1414542564\n",
      "10973_1414542564\n"
     ]
    }
   ],
   "source": [
    "print(data_no_cancer[923][:-4])\n",
    "print(new_no_cancer_meta.iloc[923].patient_image_id)"
   ]
  },
  {
   "cell_type": "markdown",
   "id": "832257c3-7be0-4ae6-b01f-9855d9330c32",
   "metadata": {},
   "source": [
    "## Split - Cancer"
   ]
  },
  {
   "cell_type": "markdown",
   "id": "5007b97c-54b0-42a9-8e72-18b0931e709d",
   "metadata": {},
   "source": [
    "### Train"
   ]
  },
  {
   "cell_type": "code",
   "execution_count": 40,
   "id": "74ae184b-0ffa-47eb-ba41-1eb83923d3a6",
   "metadata": {},
   "outputs": [],
   "source": [
    "# Copy the first 700 images - train\n",
    "for png in data_cancer[0:700]:\n",
    "    # Remove the .png from the image path\n",
    "    img = str(png[:-4])\n",
    "\n",
    "    # Define the source png image path\n",
    "    source_img_path = data_dir_lim_can + png\n",
    "    # Define the destination png image path\n",
    "    destination_img_path = data_dir_lim_train_can + png\n",
    "\n",
    "    # Copy the file to the determined destination\n",
    "    shutil.copy(source_img_path, destination_img_path)"
   ]
  },
  {
   "cell_type": "markdown",
   "id": "a2384c70-236f-45d6-93c1-6e60ce530077",
   "metadata": {},
   "source": [
    "### Validate"
   ]
  },
  {
   "cell_type": "code",
   "execution_count": 48,
   "id": "613e8d8b-632a-4a9e-a6cb-ab985bb7d7a7",
   "metadata": {},
   "outputs": [],
   "source": [
    "# Copy 200 images - validation\n",
    "for png in data_cancer[700:900]:\n",
    "    # Remove the .png from the image path\n",
    "    img = str(png[:-4])\n",
    "\n",
    "    # Define the source png image path\n",
    "    source_img_path = data_dir_lim_can + png\n",
    "    # Define the destination png image path\n",
    "    destination_img_path = data_dir_lim_val_can + png\n",
    "\n",
    "    # Copy the file to the determined destination\n",
    "    shutil.copy(source_img_path, destination_img_path)"
   ]
  },
  {
   "cell_type": "markdown",
   "id": "547b17b6-b59b-4290-b795-0a40320c7099",
   "metadata": {},
   "source": [
    "### Test"
   ]
  },
  {
   "cell_type": "code",
   "execution_count": 54,
   "id": "70ca2317-310a-420e-b7ab-4724e72d5753",
   "metadata": {},
   "outputs": [],
   "source": [
    "# Copy the last 100 images - test\n",
    "for png in data_cancer[900:]:\n",
    "    # Remove the .png from the image path\n",
    "    img = str(png[:-4])\n",
    "\n",
    "    # Define the source png image path\n",
    "    source_img_path = data_dir_lim_can + png\n",
    "    # Define the destination png image path\n",
    "    destination_img_path = data_dir_lim_test_can + png\n",
    "\n",
    "    # Copy the file to the determined destination\n",
    "    shutil.copy(source_img_path, destination_img_path)"
   ]
  },
  {
   "cell_type": "markdown",
   "id": "516ab7bc-6e29-42f3-9f2f-b885f65a44d8",
   "metadata": {},
   "source": [
    "## Split - No Cancer"
   ]
  },
  {
   "cell_type": "markdown",
   "id": "438d5c42-8bcf-4f2c-a813-2280a886bf07",
   "metadata": {},
   "source": [
    "### Train"
   ]
  },
  {
   "cell_type": "code",
   "execution_count": 61,
   "id": "3a66ccf1-1d47-4262-bfa6-d941d0ddd7ec",
   "metadata": {},
   "outputs": [],
   "source": [
    "# Copy the first 700 images - train\n",
    "for png in data_no_cancer[0:700]:\n",
    "    # Remove the .png from the image path\n",
    "    img = str(png[:-4])\n",
    "\n",
    "    # Define the source png image path\n",
    "    source_img_path = data_dir_lim_no_can + png\n",
    "    # Define the destination png image path\n",
    "    destination_img_path = data_dir_lim_train_no_can + png\n",
    "\n",
    "    # Copy the file to the determined destination\n",
    "    shutil.copy(source_img_path, destination_img_path)"
   ]
  },
  {
   "cell_type": "markdown",
   "id": "0035cecc-ea70-4be1-9d43-f71411bec486",
   "metadata": {},
   "source": [
    "### Validate"
   ]
  },
  {
   "cell_type": "code",
   "execution_count": 64,
   "id": "44cd4408-dfa7-450f-a3af-b2d3fbdc7f7f",
   "metadata": {},
   "outputs": [],
   "source": [
    "# Copy 200 images - validation\n",
    "for png in data_no_cancer[700:900]:\n",
    "    # Remove the .png from the image path\n",
    "    img = str(png[:-4])\n",
    "\n",
    "    # Define the source png image path\n",
    "    source_img_path = data_dir_lim_no_can + png\n",
    "    # Define the destination png image path\n",
    "    destination_img_path = data_dir_lim_val_no_can + png\n",
    "\n",
    "    # Copy the file to the determined destination\n",
    "    shutil.copy(source_img_path, destination_img_path)"
   ]
  },
  {
   "cell_type": "markdown",
   "id": "66a8e6bc-d098-4952-ab42-72085bd44515",
   "metadata": {},
   "source": [
    "### Test"
   ]
  },
  {
   "cell_type": "code",
   "execution_count": 67,
   "id": "133af75a-ea50-4d2e-a361-a2b470e69507",
   "metadata": {},
   "outputs": [],
   "source": [
    "# Copy the last 100 images - test\n",
    "for png in data_no_cancer[900:]:\n",
    "    # Remove the .png from the image path\n",
    "    img = str(png[:-4])\n",
    "\n",
    "    # Define the source png image path\n",
    "    source_img_path = data_dir_lim_no_can + png\n",
    "    # Define the destination png image path\n",
    "    destination_img_path = data_dir_lim_test_no_can + png\n",
    "\n",
    "    # Copy the file to the determined destination\n",
    "    shutil.copy(source_img_path, destination_img_path)"
   ]
  },
  {
   "cell_type": "code",
   "execution_count": null,
   "id": "31cc3b5d-ffde-4da1-ae59-204a4a31855f",
   "metadata": {},
   "outputs": [],
   "source": []
  }
 ],
 "metadata": {
  "kernelspec": {
   "display_name": "Python 3 (ipykernel)",
   "language": "python",
   "name": "python3"
  },
  "language_info": {
   "codemirror_mode": {
    "name": "ipython",
    "version": 3
   },
   "file_extension": ".py",
   "mimetype": "text/x-python",
   "name": "python",
   "nbconvert_exporter": "python",
   "pygments_lexer": "ipython3",
   "version": "3.10.13"
  }
 },
 "nbformat": 4,
 "nbformat_minor": 5
}
